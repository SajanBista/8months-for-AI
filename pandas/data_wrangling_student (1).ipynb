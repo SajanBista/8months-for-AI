{
 "cells": [
  {
   "cell_type": "markdown",
   "id": "8876b1f9-b662-41ab-9cfc-8562cbc22ef9",
   "metadata": {
    "deletable": false,
    "editable": false,
    "nbgrader": {
     "cell_type": "markdown",
     "checksum": "8e4287e0981346bd0b15b95222584ea6",
     "grade": false,
     "grade_id": "cell-9af76d76178d43f9",
     "locked": true,
     "schema_version": 3,
     "solution": false,
     "task": false
    }
   },
   "source": [
    "## Practice Data Wrangling"
   ]
  },
  {
   "cell_type": "markdown",
   "id": "93507b3c-efdf-4f62-a70c-2a2ba190b546",
   "metadata": {},
   "source": [
    "![](https://iili.io/3S2kRyu.png)"
   ]
  },
  {
   "cell_type": "markdown",
   "id": "090fb412",
   "metadata": {
    "deletable": false,
    "editable": false,
    "nbgrader": {
     "cell_type": "markdown",
     "checksum": "d8532c092110b7dee57ae8b5045b4de2",
     "grade": false,
     "grade_id": "cell-2def07a8e3676424",
     "locked": true,
     "schema_version": 3,
     "solution": false,
     "task": false
    }
   },
   "source": [
    "## Pandas"
   ]
  },
  {
   "cell_type": "markdown",
   "id": "f0727fce",
   "metadata": {
    "deletable": false,
    "editable": false,
    "nbgrader": {
     "cell_type": "markdown",
     "checksum": "5e503caa24f0f2beb340b25748880bcf",
     "grade": false,
     "grade_id": "cell-12325e2e96dafb09",
     "locked": true,
     "schema_version": 3,
     "solution": false,
     "task": false
    }
   },
   "source": [
    "\n",
    "Pandas is a Python library extensively used for data analysis and manipulation. It provides data structures like DataFrames, which are similar to tables, and Series, which are like lists or columns in a table. These structures allow for efficient handling and processing of structured data. Pandas is built on top of NumPy and integrates well with other scientific computing libraries. It simplifies tasks such as data cleaning, transformation, and analysis, making it a fundamental tool for data scientists and analysts.\n"
   ]
  },
  {
   "cell_type": "markdown",
   "id": "cecf556a",
   "metadata": {
    "deletable": false,
    "editable": false,
    "nbgrader": {
     "cell_type": "markdown",
     "checksum": "9373a747a47423dba3039f48f3cb6cd6",
     "grade": false,
     "grade_id": "cell-af33d36aeecffa31",
     "locked": true,
     "schema_version": 3,
     "solution": false,
     "task": false
    }
   },
   "source": [
    "### Installing and Importing Pandas"
   ]
  },
  {
   "cell_type": "markdown",
   "id": "327673fc",
   "metadata": {
    "deletable": false,
    "editable": false,
    "nbgrader": {
     "cell_type": "markdown",
     "checksum": "297e71729a8112e28f01f4494994dca4",
     "grade": false,
     "grade_id": "cell-fad339df151b2d1c",
     "locked": true,
     "schema_version": 3,
     "solution": false,
     "task": false
    }
   },
   "source": [
    "Installing Pandas\n",
    "```\n",
    "pip install pandas\n",
    "```"
   ]
  },
  {
   "cell_type": "code",
   "execution_count": 132,
   "id": "09a64c1d",
   "metadata": {
    "deletable": false,
    "editable": false,
    "nbgrader": {
     "cell_type": "code",
     "checksum": "f77cdfbe80d5410136998bed901e25f8",
     "grade": false,
     "grade_id": "cell-ac426de569b2851e",
     "locked": true,
     "schema_version": 3,
     "solution": false,
     "task": false
    }
   },
   "outputs": [
    {
     "name": "stdout",
     "output_type": "stream",
     "text": [
      "Requirement already satisfied: pandas in /Library/Frameworks/Python.framework/Versions/3.12/lib/python3.12/site-packages (2.2.3)\n",
      "Requirement already satisfied: numpy>=1.26.0 in /Library/Frameworks/Python.framework/Versions/3.12/lib/python3.12/site-packages (from pandas) (1.26.4)\n",
      "Requirement already satisfied: python-dateutil>=2.8.2 in /Library/Frameworks/Python.framework/Versions/3.12/lib/python3.12/site-packages (from pandas) (2.9.0.post0)\n",
      "Requirement already satisfied: pytz>=2020.1 in /Library/Frameworks/Python.framework/Versions/3.12/lib/python3.12/site-packages (from pandas) (2024.2)\n",
      "Requirement already satisfied: tzdata>=2022.7 in /Library/Frameworks/Python.framework/Versions/3.12/lib/python3.12/site-packages (from pandas) (2024.1)\n",
      "Requirement already satisfied: six>=1.5 in /Library/Frameworks/Python.framework/Versions/3.12/lib/python3.12/site-packages (from python-dateutil>=2.8.2->pandas) (1.16.0)\n"
     ]
    }
   ],
   "source": [
    "!pip install pandas"
   ]
  },
  {
   "cell_type": "markdown",
   "id": "5ce9d6a6",
   "metadata": {
    "deletable": false,
    "editable": false,
    "nbgrader": {
     "cell_type": "markdown",
     "checksum": "0d8777f6a7ccea70a288bbd1597b5472",
     "grade": false,
     "grade_id": "cell-ec40aad4ab6a2469",
     "locked": true,
     "schema_version": 3,
     "solution": false,
     "task": false
    }
   },
   "source": [
    "importing pandas"
   ]
  },
  {
   "cell_type": "code",
   "execution_count": 133,
   "id": "9fdd78c4",
   "metadata": {
    "deletable": false,
    "editable": false,
    "nbgrader": {
     "cell_type": "code",
     "checksum": "004e253735680f0035fdc6e3bbbcc4af",
     "grade": false,
     "grade_id": "cell-fd1740a834856638",
     "locked": true,
     "schema_version": 3,
     "solution": false,
     "task": false
    }
   },
   "outputs": [],
   "source": [
    "## pd is widely used alias for pandas\n",
    "import pandas as pd\n",
    "import numpy as np\n",
    "pd.set_option('display.max_columns', 50)\n"
   ]
  },
  {
   "cell_type": "markdown",
   "id": "77771e4f",
   "metadata": {
    "deletable": false,
    "editable": false,
    "nbgrader": {
     "cell_type": "markdown",
     "checksum": "5708a08953aba1fb892f491de66a5af8",
     "grade": false,
     "grade_id": "cell-120db3972eea1440",
     "locked": true,
     "schema_version": 3,
     "solution": false,
     "task": false
    }
   },
   "source": [
    "### Creating Series and Pandas Data Frame"
   ]
  },
  {
   "cell_type": "markdown",
   "id": "63174ebb",
   "metadata": {
    "deletable": false,
    "editable": false,
    "nbgrader": {
     "cell_type": "markdown",
     "checksum": "3c45e4f74f9f67056de2d30e4978aea5",
     "grade": false,
     "grade_id": "cell-f9ef7b962aeb3865",
     "locked": true,
     "schema_version": 3,
     "solution": false,
     "task": false
    }
   },
   "source": [
    "#### 1. Creating Series\n",
    " A Pandas Series is a one-dimensional labeled array capable of holding data of any type. It is similar to a column in a spreadsheet or a SQL table. The labels for the Series are collectively known as the index. A Series can be created from a variety of data types, including lists, dictionaries, and NumPy arrays. \n"
   ]
  },
  {
   "cell_type": "code",
   "execution_count": 134,
   "id": "68dc6cac",
   "metadata": {
    "deletable": false,
    "nbgrader": {
     "cell_type": "code",
     "checksum": "1894ea205d7efbec3b4301bc8f78777b",
     "grade": false,
     "grade_id": "cell-10ad5638c3d31a75",
     "locked": false,
     "schema_version": 3,
     "solution": true,
     "task": false
    }
   },
   "outputs": [],
   "source": [
    "### Ex-1-Task-1\n",
    "\n",
    "s = None \n",
    "a = [1, 2, 3, 4, 5, 6]\n",
    "# Task: create a series using list \n",
    "### BEGIN SOLUTION \n",
    "s = a[:] \n",
    "\n",
    "### END SOLUTION\n",
    "\n"
   ]
  },
  {
   "cell_type": "code",
   "execution_count": null,
   "id": "3797fdbf",
   "metadata": {
    "deletable": false,
    "editable": false,
    "nbgrader": {
     "cell_type": "code",
     "checksum": "1088c5e967071d4d10be18875d995957",
     "grade": true,
     "grade_id": "cell-041a534889d2ad74",
     "locked": true,
     "points": 1,
     "schema_version": 3,
     "solution": false,
     "task": false
    }
   },
   "outputs": [],
   "source": []
  },
  {
   "cell_type": "code",
   "execution_count": 135,
   "id": "2a786c9f",
   "metadata": {
    "deletable": false,
    "nbgrader": {
     "cell_type": "code",
     "checksum": "89e373a404a1d58b53adc42dae9d2eae",
     "grade": false,
     "grade_id": "cell-8f4085589c39c5f2",
     "locked": false,
     "schema_version": 3,
     "solution": true,
     "task": false
    }
   },
   "outputs": [
    {
     "name": "stdout",
     "output_type": "stream",
     "text": [
      "a     80\n",
      "b     90\n",
      "c    100\n",
      "dtype: int64\n"
     ]
    }
   ],
   "source": [
    "### Ex-1-Task-2\n",
    "a = {\n",
    "    'a': 80,\n",
    "    'b': 90,\n",
    "    'c': 100\n",
    "}\n",
    "s = None \n",
    "## Task: Create a series using dictionary\n",
    "\n",
    "### BEGIN SOLUTION \n",
    "# YOUR CODE HERE\n",
    "s = pd.Series(a)\n",
    "print(s)\n",
    "### END SOLUTION\n"
   ]
  },
  {
   "cell_type": "code",
   "execution_count": null,
   "id": "950943bc",
   "metadata": {
    "deletable": false,
    "editable": false,
    "nbgrader": {
     "cell_type": "code",
     "checksum": "43fbd9cd3013f7c099b24d38d21da655",
     "grade": true,
     "grade_id": "cell-e3354abce4a49b3a",
     "locked": true,
     "points": 1,
     "schema_version": 3,
     "solution": false,
     "task": false
    }
   },
   "outputs": [],
   "source": []
  },
  {
   "cell_type": "code",
   "execution_count": 136,
   "id": "b631df22",
   "metadata": {
    "deletable": false,
    "nbgrader": {
     "cell_type": "code",
     "checksum": "88f27b35987cbc62cb630e8d6abb3bb9",
     "grade": false,
     "grade_id": "cell-4b0ae806bc60be91",
     "locked": false,
     "schema_version": 3,
     "solution": true,
     "task": false
    }
   },
   "outputs": [
    {
     "name": "stdout",
     "output_type": "stream",
     "text": [
      "0    1\n",
      "1    2\n",
      "2    3\n",
      "3    4\n",
      "4    5\n",
      "5    6\n",
      "dtype: int64\n"
     ]
    }
   ],
   "source": [
    "### Ex-1-Task-3\n",
    "a = [1, 2, 3, 4, 5, 6]\n",
    "a = np.array(a)\n",
    "s = None\n",
    "## Creating a series using numpy array\n",
    "### BEGIN SOLUTION \n",
    "# YOUR CODE HERE\n",
    "s = pd.Series(a)\n",
    "print(s)\n",
    "### END SOLUTION\n"
   ]
  },
  {
   "cell_type": "code",
   "execution_count": null,
   "id": "048109fc",
   "metadata": {
    "deletable": false,
    "editable": false,
    "nbgrader": {
     "cell_type": "code",
     "checksum": "cf68d81cb84f20ee03304726f89ee561",
     "grade": true,
     "grade_id": "cell-22c6a8ee13343849",
     "locked": true,
     "points": 1,
     "schema_version": 3,
     "solution": false,
     "task": false
    }
   },
   "outputs": [],
   "source": []
  },
  {
   "cell_type": "code",
   "execution_count": 137,
   "id": "f1a5c0ed",
   "metadata": {
    "deletable": false,
    "nbgrader": {
     "cell_type": "code",
     "checksum": "dad5da4ad4585ca137950548a231d901",
     "grade": false,
     "grade_id": "cell-84a652054cc77cfd",
     "locked": false,
     "schema_version": 3,
     "solution": true,
     "task": false
    }
   },
   "outputs": [
    {
     "name": "stdout",
     "output_type": "stream",
     "text": [
      "Nepal         30000000\n",
      "India       1463865525\n",
      "Pakistan     255219554\n",
      "China       1416096094\n",
      "Name: population, dtype: int64\n"
     ]
    }
   ],
   "source": [
    "### Ex-1-Task-4\n",
    "population = {\n",
    "    'Nepal': 30000000,\n",
    "    'India': 1463865525,\n",
    "    'Pakistan':255219554,\n",
    "    'China': 1416096094\n",
    "}\n",
    "s = None\n",
    "## Create a series with name 'population' and dtype='int64' \n",
    "### BEGIN SOLUTION \n",
    "# YOUR CODE HERE\n",
    "s = pd.Series(population, name='population', dtype ='int64')\n",
    "print(s)\n",
    "### END SOLUTION"
   ]
  },
  {
   "cell_type": "code",
   "execution_count": null,
   "id": "e9b2efab",
   "metadata": {
    "deletable": false,
    "editable": false,
    "nbgrader": {
     "cell_type": "code",
     "checksum": "ac7390c89cc4ba921951c65b4a91df3a",
     "grade": true,
     "grade_id": "cell-998486f70e1cd13b",
     "locked": true,
     "points": 1,
     "schema_version": 3,
     "solution": false,
     "task": false
    }
   },
   "outputs": [],
   "source": []
  },
  {
   "cell_type": "markdown",
   "id": "26257f0c",
   "metadata": {
    "deletable": false,
    "editable": false,
    "nbgrader": {
     "cell_type": "markdown",
     "checksum": "c5083fb233ee13bca54d4f2022085487",
     "grade": false,
     "grade_id": "cell-8c071f0c26e2685b",
     "locked": true,
     "schema_version": 3,
     "solution": false,
     "task": false
    }
   },
   "source": [
    "#### 2. Creating DataFrame"
   ]
  },
  {
   "cell_type": "code",
   "execution_count": 138,
   "id": "b396a20a",
   "metadata": {
    "deletable": false,
    "nbgrader": {
     "cell_type": "code",
     "checksum": "97b1121a98da418a9563eb924b9cd31d",
     "grade": false,
     "grade_id": "cell-4a1c079478d4502c",
     "locked": false,
     "schema_version": 3,
     "solution": true,
     "task": false
    }
   },
   "outputs": [
    {
     "name": "stdout",
     "output_type": "stream",
     "text": [
      "    0\n",
      "0   1\n",
      "1   2\n",
      "2   3\n",
      "3   4\n",
      "4   5\n",
      "5   6\n",
      "6   7\n",
      "7   8\n",
      "8   9\n",
      "9  10\n"
     ]
    }
   ],
   "source": [
    "### Ex-2-Task-1\n",
    "a = [1, 2, 3, 4, 5, 6, 7, 8, 9, 10]\n",
    "df = None \n",
    "# Creating Data Frame from Python List\n",
    "### BEGIN SOLUTION \n",
    "# YOUR CODE HERE\n",
    "df= pd.DataFrame(a)\n",
    "print(df)\n",
    "### END SOLUTION\n"
   ]
  },
  {
   "cell_type": "code",
   "execution_count": null,
   "id": "ca485834",
   "metadata": {
    "deletable": false,
    "editable": false,
    "nbgrader": {
     "cell_type": "code",
     "checksum": "e62faf36575b56c6ed9b7e01ca4e9423",
     "grade": true,
     "grade_id": "cell-6ac1c0285d30d45d",
     "locked": true,
     "points": 1,
     "schema_version": 3,
     "solution": false,
     "task": false
    }
   },
   "outputs": [],
   "source": []
  },
  {
   "cell_type": "code",
   "execution_count": 139,
   "id": "d30bfe4c",
   "metadata": {
    "deletable": false,
    "nbgrader": {
     "cell_type": "code",
     "checksum": "cb5a936fb6dafdf7747e9f9520b7038f",
     "grade": false,
     "grade_id": "cell-4dbd8346815d30f3",
     "locked": false,
     "schema_version": 3,
     "solution": true,
     "task": false
    }
   },
   "outputs": [
    {
     "name": "stdout",
     "output_type": "stream",
     "text": [
      "  Alphabets  Numbers\n",
      "0         A        1\n",
      "1         B        2\n",
      "2         C        3\n",
      "3         D        4\n"
     ]
    }
   ],
   "source": [
    "### Ex-2-Task-2\n",
    "my_list = [['A', 1], ['B', 2], ['C', 3], ['D', 4]]\n",
    "# Creating Data Frame from List of List\n",
    "### BEGIN SOLUTION \n",
    "# YOUR CODE HERE\n",
    "df = pd.DataFrame(my_list, columns = ['Alphabets', 'Numbers'])\n",
    "print(df)\n",
    "### END SOLUTION"
   ]
  },
  {
   "cell_type": "code",
   "execution_count": null,
   "id": "6f3ef289",
   "metadata": {
    "deletable": false,
    "editable": false,
    "nbgrader": {
     "cell_type": "code",
     "checksum": "ea3579008d97b4166e97b6b42172512d",
     "grade": true,
     "grade_id": "cell-9958f0732862c4e3",
     "locked": true,
     "points": 1,
     "schema_version": 3,
     "solution": false,
     "task": false
    }
   },
   "outputs": [],
   "source": []
  },
  {
   "cell_type": "code",
   "execution_count": 140,
   "id": "698943d3",
   "metadata": {
    "deletable": false,
    "nbgrader": {
     "cell_type": "code",
     "checksum": "332f859672ec572b81f14e91416aeef0",
     "grade": false,
     "grade_id": "cell-45889bed1c599650",
     "locked": false,
     "schema_version": 3,
     "solution": true,
     "task": false
    }
   },
   "outputs": [
    {
     "name": "stdout",
     "output_type": "stream",
     "text": [
      "  country  Population\n",
      "0   Nepal    30000000\n",
      "1   India  1463865525\n",
      "2   China  1416096094\n"
     ]
    }
   ],
   "source": [
    "### Ex-2-Task-3\n",
    "my_data = {\n",
    "    'country': ['Nepal', 'India', 'China'],\n",
    "    'Population': [30000000, 1463865525, 1416096094]\n",
    "}\n",
    "df = None\n",
    "# Creating Data Frame using Python Dictionary\n",
    "### BEGIN SOLUTION \n",
    "# YOUR CODE HERE\n",
    "df = pd.DataFrame(my_data, columns = ['country', 'Population'])\n",
    "print(df)\n",
    "### END SOLUTION\n"
   ]
  },
  {
   "cell_type": "code",
   "execution_count": null,
   "id": "67c8b979",
   "metadata": {
    "deletable": false,
    "editable": false,
    "nbgrader": {
     "cell_type": "code",
     "checksum": "d35557a672f751c1aecc9fd26eb2ca6a",
     "grade": true,
     "grade_id": "cell-cf0c32490f3e13ff",
     "locked": true,
     "points": 1,
     "schema_version": 3,
     "solution": false,
     "task": false
    }
   },
   "outputs": [],
   "source": []
  },
  {
   "cell_type": "markdown",
   "id": "a7990c68",
   "metadata": {
    "deletable": false,
    "editable": false,
    "nbgrader": {
     "cell_type": "markdown",
     "checksum": "a07316f5761d2c61ffc624e5acd520fa",
     "grade": false,
     "grade_id": "cell-b0a79915e488bf6c",
     "locked": true,
     "schema_version": 3,
     "solution": false,
     "task": false
    }
   },
   "source": [
    "## Data Loading and Inspection"
   ]
  },
  {
   "cell_type": "markdown",
   "id": "0e1786eb",
   "metadata": {
    "deletable": false,
    "editable": false,
    "nbgrader": {
     "cell_type": "markdown",
     "checksum": "cda41d28d6bb5a17925a4318b1bc2659",
     "grade": false,
     "grade_id": "cell-f8c880383bf31709",
     "locked": true,
     "schema_version": 3,
     "solution": false,
     "task": false
    }
   },
   "source": [
    "### Reading Data\n",
    "A simple way to store big data is to use CSV files (comma Seperated files) or Parquet Files. \n",
    "- df_sales --> computed_insight_success_of_active_sellers.csv'\n",
    "- df_product --> summer-products-with-rating-and-performance_2020-08.csv"
   ]
  },
  {
   "cell_type": "code",
   "execution_count": 141,
   "id": "4c4e7cee",
   "metadata": {
    "deletable": false,
    "nbgrader": {
     "cell_type": "code",
     "checksum": "ce6bac268460a227072d8cbff96bbc79",
     "grade": false,
     "grade_id": "cell-4d82ea0870a3c552",
     "locked": false,
     "schema_version": 3,
     "solution": true,
     "task": false
    }
   },
   "outputs": [],
   "source": [
    "### Ex-3-Task-1\n",
    "df_sales = None\n",
    "df_product = None\n",
    "\n",
    "# reading CSV file\n",
    "### BEGIN SOLUTION \n",
    "# YOUR CODE HERE\n",
    "df_sales = pd.read_csv('computed_insight_success_of_active_sellers.csv')\n",
    "df_product = pd.read_csv('summer-products-with-rating-and-performance_2020-08.csv')\n",
    "\n",
    "### END SOLUTION\n"
   ]
  },
  {
   "cell_type": "code",
   "execution_count": null,
   "id": "d2cf1078",
   "metadata": {
    "deletable": false,
    "editable": false,
    "nbgrader": {
     "cell_type": "code",
     "checksum": "84ab4acd8453930e0c42f72165ae8c64",
     "grade": true,
     "grade_id": "cell-41a8f39ffe16bff3",
     "locked": true,
     "points": 1,
     "schema_version": 3,
     "solution": false,
     "task": false
    }
   },
   "outputs": [],
   "source": []
  },
  {
   "cell_type": "markdown",
   "id": "ec86b5d0",
   "metadata": {
    "deletable": false,
    "editable": false,
    "nbgrader": {
     "cell_type": "markdown",
     "checksum": "536a088c2563fccb250d78e66cfbebb7",
     "grade": false,
     "grade_id": "cell-aaddbc8e1c9d7f31",
     "locked": true,
     "schema_version": 3,
     "solution": false,
     "task": false
    }
   },
   "source": [
    "### Basic Inspection"
   ]
  },
  {
   "cell_type": "code",
   "execution_count": 142,
   "id": "2c0f06f0",
   "metadata": {
    "deletable": false,
    "nbgrader": {
     "cell_type": "code",
     "checksum": "7c470626e98860b964a39c2e65bcf9e0",
     "grade": false,
     "grade_id": "cell-ce2bca53a06aed23",
     "locked": false,
     "schema_version": 3,
     "solution": true,
     "task": false
    }
   },
   "outputs": [
    {
     "name": "stdout",
     "output_type": "stream",
     "text": [
      "                                                    title  \\\n",
      "count                                                1573   \n",
      "unique                                               1201   \n",
      "top     Nouvelle mode d'été femmes robe décontractée c...   \n",
      "freq                                                   24   \n",
      "\n",
      "                                               title_orig currency_buyer  \\\n",
      "count                                                1573           1573   \n",
      "unique                                               1203              1   \n",
      "top     New Fashion Summer Women Casual Dress Round Ne...            EUR   \n",
      "freq                                                   24           1573   \n",
      "\n",
      "                                                     tags product_color  \\\n",
      "count                                                1573          1532   \n",
      "unique                                               1230           101   \n",
      "top     Summer,Fashion,Necks,Skirts,Dress,Loose,Women'...         black   \n",
      "freq                                                   17           302   \n",
      "\n",
      "       product_variation_size_id shipping_option_name        urgency_text  \\\n",
      "count                       1559                 1573                 473   \n",
      "unique                       106                   15                   2   \n",
      "top                            S   Livraison standard  Quantité limitée !   \n",
      "freq                         641                 1508                 472   \n",
      "\n",
      "       origin_country                        merchant_title merchant_name  \\\n",
      "count            1556                                  1573          1569   \n",
      "unique              6                                   958           957   \n",
      "top                CN  guangzhouweishiweifushiyouxiangongsi   广州唯适唯服饰有限公司   \n",
      "freq             1516                                    15            15   \n",
      "\n",
      "                   merchant_info_subtitle               merchant_id  \\\n",
      "count                                1572                      1573   \n",
      "unique                               1058                       958   \n",
      "top     83 % avis positifs (32,168 notes)  558c2cdc89d53c4005ea2920   \n",
      "freq                                   14                        15   \n",
      "\n",
      "                                 merchant_profile_picture  \\\n",
      "count                                                 226   \n",
      "unique                                                125   \n",
      "top     https://s3-us-west-1.amazonaws.com/sweeper-pro...   \n",
      "freq                                                   12   \n",
      "\n",
      "                                            product_url  \\\n",
      "count                                              1573   \n",
      "unique                                             1341   \n",
      "top     https://www.wish.com/c/5e16cb87e6dd7c03be24b28a   \n",
      "freq                                                  3   \n",
      "\n",
      "                                          product_picture  \\\n",
      "count                                                1573   \n",
      "unique                                               1341   \n",
      "top     https://contestimg.wish.com/api/webimage/5e16c...   \n",
      "freq                                                    3   \n",
      "\n",
      "                      product_id   theme crawl_month  \n",
      "count                       1573    1573        1573  \n",
      "unique                      1341       1           1  \n",
      "top     5e16cb87e6dd7c03be24b28a  summer     2020-08  \n",
      "freq                           3    1573        1573  \n"
     ]
    }
   ],
   "source": [
    "### Ex-3-Task-2\n",
    "head_df = None \n",
    "tail_df = None \n",
    "desribe_num_df = None\n",
    "desribe_cate_df = None\n",
    "# check the first 10 records of the sales dataframe \n",
    "# check the last 10 records of the product dataframe\n",
    "## Check the description of the numerical and categorical columns of prodcut dataframe\n",
    "### BEGIN SOLUTION \n",
    "# YOUR CODE HERE\n",
    "head_df = df_sales.head(10)\n",
    "#print(head_df)\n",
    "tail_df = df_product.tail(10)\n",
    "#print(tail_df)\n",
    "desribe_num_df = df_product.describe()\n",
    "#print(desribe_num_df)\n",
    "\n",
    "desribe_cate_df = df_product.describe(include =['object']) #tells pandas to include only columns with dtype 'object'\n",
    "print(desribe_cate_df)\n",
    "\n",
    "### END SOLUTION"
   ]
  },
  {
   "cell_type": "code",
   "execution_count": null,
   "id": "f58b4280",
   "metadata": {
    "deletable": false,
    "editable": false,
    "nbgrader": {
     "cell_type": "code",
     "checksum": "dacb3747dab9ebe38d04c58c3780729b",
     "grade": true,
     "grade_id": "cell-abaa40e3dc8f3774",
     "locked": true,
     "points": 1,
     "schema_version": 3,
     "solution": false,
     "task": false
    }
   },
   "outputs": [],
   "source": []
  },
  {
   "cell_type": "code",
   "execution_count": 143,
   "id": "55de7845",
   "metadata": {
    "deletable": false,
    "nbgrader": {
     "cell_type": "code",
     "checksum": "88decb912cd012520f36c337858ab49e",
     "grade": false,
     "grade_id": "cell-1b39910e2c1a83c2",
     "locked": false,
     "schema_version": 3,
     "solution": true,
     "task": false
    }
   },
   "outputs": [
    {
     "name": "stdout",
     "output_type": "stream",
     "text": [
      "Index(['5357bcf2bb72c5504882e889', '5708773c3c02161b3f8c7900',\n",
      "       '5417aada4ad3ab27e954b76c', '570f3a713a698c14278bb51e',\n",
      "       '53082ea15aefb07dfe1f2a4f', '53f2beb39020ee03566d6e18',\n",
      "       '5926c5ace8ff5525241b368d', '5860c757b1e41d4d67d183e8',\n",
      "       '52bd3ddb34067e4620a4c62d', '5a7b23a69bda4e3d375e7b3f',\n",
      "       ...\n",
      "       '574d559cb06e205d099d9107', '5db248327c0d0800c24fc084',\n",
      "       '54365c349719cd57af2b449b', '581c54c4dd99164b808ca531',\n",
      "       '564d8f2f3a698c01d97fbb81', '567bad8582c35f28103e5813',\n",
      "       '5b24edf0d1c360301099e9c6', '5d417e7070327a2743021677',\n",
      "       '5add589edb5f1f32114d07df', '5d4b8931933fb13f8a1fe232'],\n",
      "      dtype='object', name='merchantid', length=958)\n"
     ]
    }
   ],
   "source": [
    "### Ex-3-Task-3\n",
    "\n",
    "# set merchant id as the index of the sales dataframe and check index\n",
    "### BEGIN SOLUTION \n",
    "# YOUR CODE HERE\n",
    "#print(df_sales.columns)\n",
    "df_sales.set_index('merchantid', inplace = True)\n",
    "print(df_sales.index)\n",
    "### END SOLUTION"
   ]
  },
  {
   "cell_type": "code",
   "execution_count": null,
   "id": "c1a78ea0",
   "metadata": {
    "deletable": false,
    "editable": false,
    "nbgrader": {
     "cell_type": "code",
     "checksum": "8d5703fbe7bdff4d991db8976ff7ae44",
     "grade": true,
     "grade_id": "cell-913ac404538d8371",
     "locked": true,
     "points": 1,
     "schema_version": 3,
     "solution": false,
     "task": false
    }
   },
   "outputs": [],
   "source": []
  },
  {
   "cell_type": "code",
   "execution_count": 144,
   "id": "db8de8fa",
   "metadata": {
    "deletable": false,
    "nbgrader": {
     "cell_type": "code",
     "checksum": "bbe9c6590287f2a7ac8b8a8002f07f96",
     "grade": false,
     "grade_id": "cell-6c292f0cdae5bf29",
     "locked": false,
     "schema_version": 3,
     "solution": true,
     "task": false
    }
   },
   "outputs": [
    {
     "name": "stdout",
     "output_type": "stream",
     "text": [
      "                          listedproducts  totalunitssold  \\\n",
      "merchantid                                                 \n",
      "5e63469b2fdc774466e15dd5               1              10   \n",
      "5e8d923d20c9b7545017f1f9               1             100   \n",
      "5e6cb9806bab2075b2b64d15               1             100   \n",
      "5e8c98966642021100f8db13               1             100   \n",
      "5e537a4038654d5bb8db71b4               1             100   \n",
      "...                                  ...             ...   \n",
      "574d559cb06e205d099d9107               1              10   \n",
      "5db248327c0d0800c24fc084               1              10   \n",
      "5b07dc937752c81ecb291b66               1             100   \n",
      "559f372b577ce1196ef7f66c               1             100   \n",
      "5dab9ece69ce753090f6735c               1             100   \n",
      "\n",
      "                          meanunitssoldperproduct  rating  \\\n",
      "merchantid                                                  \n",
      "5e63469b2fdc774466e15dd5                     10.0   2.333   \n",
      "5e8d923d20c9b7545017f1f9                    100.0   2.941   \n",
      "5e6cb9806bab2075b2b64d15                    100.0   3.000   \n",
      "5e8c98966642021100f8db13                    100.0   3.034   \n",
      "5e537a4038654d5bb8db71b4                    100.0   3.039   \n",
      "...                                           ...     ...   \n",
      "574d559cb06e205d099d9107                     10.0   4.501   \n",
      "5db248327c0d0800c24fc084                     10.0   4.513   \n",
      "5b07dc937752c81ecb291b66                    100.0   4.522   \n",
      "559f372b577ce1196ef7f66c                    100.0   4.578   \n",
      "5dab9ece69ce753090f6735c                    100.0   5.000   \n",
      "\n",
      "                          merchantratingscount  meanproductprices  \\\n",
      "merchantid                                                          \n",
      "5e63469b2fdc774466e15dd5                   3.0               5.75   \n",
      "5e8d923d20c9b7545017f1f9                  17.0              11.00   \n",
      "5e6cb9806bab2075b2b64d15                   3.0              12.00   \n",
      "5e8c98966642021100f8db13                  29.0              12.00   \n",
      "5e537a4038654d5bb8db71b4                 231.0               5.00   \n",
      "...                                        ...                ...   \n",
      "574d559cb06e205d099d9107                2038.0              18.00   \n",
      "5db248327c0d0800c24fc084                 160.0               5.68   \n",
      "5b07dc937752c81ecb291b66                 343.0               3.73   \n",
      "559f372b577ce1196ef7f66c                1032.0               8.00   \n",
      "5dab9ece69ce753090f6735c                   0.0               7.00   \n",
      "\n",
      "                          meanretailprices  averagediscount  meandiscount  \\\n",
      "merchantid                                                                  \n",
      "5e63469b2fdc774466e15dd5               5.0            -15.0         -15.0   \n",
      "5e8d923d20c9b7545017f1f9              50.0             78.0          78.0   \n",
      "5e6cb9806bab2075b2b64d15              11.0             -9.0          -9.0   \n",
      "5e8c98966642021100f8db13              75.0             84.0          84.0   \n",
      "5e537a4038654d5bb8db71b4               5.0              0.0           0.0   \n",
      "...                                    ...              ...           ...   \n",
      "574d559cb06e205d099d9107              59.0             70.0          70.0   \n",
      "5db248327c0d0800c24fc084               5.0            -13.0         -13.0   \n",
      "5b07dc937752c81ecb291b66              17.0             79.0          79.0   \n",
      "559f372b577ce1196ef7f66c              47.0             83.0          83.0   \n",
      "5dab9ece69ce753090f6735c               6.0            -16.0         -16.0   \n",
      "\n",
      "                          meanproductratingscount  totalurgencycount  \\\n",
      "merchantid                                                             \n",
      "5e63469b2fdc774466e15dd5                      0.0                NaN   \n",
      "5e8d923d20c9b7545017f1f9                      9.0                NaN   \n",
      "5e6cb9806bab2075b2b64d15                      1.0                NaN   \n",
      "5e8c98966642021100f8db13                     28.0                NaN   \n",
      "5e537a4038654d5bb8db71b4                      6.0                NaN   \n",
      "...                                           ...                ...   \n",
      "574d559cb06e205d099d9107                      6.0                NaN   \n",
      "5db248327c0d0800c24fc084                      2.0                NaN   \n",
      "5b07dc937752c81ecb291b66                     27.0                NaN   \n",
      "559f372b577ce1196ef7f66c                    110.0                NaN   \n",
      "5dab9ece69ce753090f6735c                      0.0                NaN   \n",
      "\n",
      "                          urgencytextrate  \n",
      "merchantid                                 \n",
      "5e63469b2fdc774466e15dd5              NaN  \n",
      "5e8d923d20c9b7545017f1f9              NaN  \n",
      "5e6cb9806bab2075b2b64d15              NaN  \n",
      "5e8c98966642021100f8db13              NaN  \n",
      "5e537a4038654d5bb8db71b4              NaN  \n",
      "...                                   ...  \n",
      "574d559cb06e205d099d9107              NaN  \n",
      "5db248327c0d0800c24fc084              NaN  \n",
      "5b07dc937752c81ecb291b66              NaN  \n",
      "559f372b577ce1196ef7f66c              NaN  \n",
      "5dab9ece69ce753090f6735c              NaN  \n",
      "\n",
      "[958 rows x 12 columns]\n"
     ]
    }
   ],
   "source": [
    "### Ex-3-Task-4\n",
    "sorted_df = None\n",
    "## Sort the sales dataframe by rating in Ascending Order, if two records have same rating then sort in descending order by total unit sold\n",
    "### BEGIN SOLUTION \n",
    "# YOUR CODE HERE\n",
    "#sorted_df = df_sales.sort_values(by=['rating'], ascending =[True])\n",
    "sorted_df = df_sales.sort_values(by=['rating', 'totalunitssold'], ascending=[True, False])\n",
    "print(sorted_df)\n",
    "### END SOLUTION"
   ]
  },
  {
   "cell_type": "code",
   "execution_count": null,
   "id": "de884114",
   "metadata": {
    "deletable": false,
    "editable": false,
    "nbgrader": {
     "cell_type": "code",
     "checksum": "7147da7be2ca2c4a57030320f4e08795",
     "grade": true,
     "grade_id": "cell-ba1d27a14b984b5a",
     "locked": true,
     "points": 1,
     "schema_version": 3,
     "solution": false,
     "task": false
    }
   },
   "outputs": [],
   "source": []
  },
  {
   "cell_type": "code",
   "execution_count": 145,
   "id": "5c8e4273",
   "metadata": {
    "deletable": false,
    "nbgrader": {
     "cell_type": "code",
     "checksum": "fac577f8ae275d5d1e1a24442bafe27a",
     "grade": false,
     "grade_id": "cell-32a7df146fdb75df",
     "locked": false,
     "schema_version": 3,
     "solution": true,
     "task": false
    }
   },
   "outputs": [
    {
     "name": "stdout",
     "output_type": "stream",
     "text": [
      "                          listedproducts  totalunitssold  \\\n",
      "merchantid                                                 \n",
      "5810b1db3deb94160f5cd4a3               1            5000   \n",
      "58380161e18c0f0c70dd6907               1            5000   \n",
      "53e98c6446188e1d4d3a38bd               1            1000   \n",
      "580c7d0a8b67fa197454a2d1               3             300   \n",
      "5eba4bab58ed6ba265685ba1               2             200   \n",
      "5b4973b049c8e64e07c31cb4               1             100   \n",
      "\n",
      "                          meanunitssoldperproduct  rating  \\\n",
      "merchantid                                                  \n",
      "5810b1db3deb94160f5cd4a3                   5000.0   4.041   \n",
      "58380161e18c0f0c70dd6907                   5000.0   4.041   \n",
      "53e98c6446188e1d4d3a38bd                   1000.0   4.041   \n",
      "580c7d0a8b67fa197454a2d1                    100.0   4.041   \n",
      "5eba4bab58ed6ba265685ba1                    100.0   4.041   \n",
      "5b4973b049c8e64e07c31cb4                    100.0   4.041   \n",
      "\n",
      "                          merchantratingscount  meanproductprices  \\\n",
      "merchantid                                                          \n",
      "5810b1db3deb94160f5cd4a3               15436.0                6.0   \n",
      "58380161e18c0f0c70dd6907               14194.0                8.0   \n",
      "53e98c6446188e1d4d3a38bd                4230.0                1.8   \n",
      "580c7d0a8b67fa197454a2d1                4705.0                6.0   \n",
      "5eba4bab58ed6ba265685ba1                 123.0                8.0   \n",
      "5b4973b049c8e64e07c31cb4                 267.0                9.0   \n",
      "\n",
      "                          meanretailprices  averagediscount  meandiscount  \\\n",
      "merchantid                                                                  \n",
      "5810b1db3deb94160f5cd4a3               6.0              0.0           0.0   \n",
      "58380161e18c0f0c70dd6907               7.0            -14.0         -14.0   \n",
      "53e98c6446188e1d4d3a38bd               2.0             10.0          10.0   \n",
      "580c7d0a8b67fa197454a2d1               6.0              0.0           0.0   \n",
      "5eba4bab58ed6ba265685ba1              10.0             20.0          20.0   \n",
      "5b4973b049c8e64e07c31cb4              49.0             82.0          82.0   \n",
      "\n",
      "                          meanproductratingscount  totalurgencycount  \\\n",
      "merchantid                                                             \n",
      "5810b1db3deb94160f5cd4a3                    616.0                NaN   \n",
      "58380161e18c0f0c70dd6907                   1248.0                NaN   \n",
      "53e98c6446188e1d4d3a38bd                     76.0                NaN   \n",
      "580c7d0a8b67fa197454a2d1                     27.0                1.0   \n",
      "5eba4bab58ed6ba265685ba1                     58.0                1.0   \n",
      "5b4973b049c8e64e07c31cb4                    109.0                NaN   \n",
      "\n",
      "                          urgencytextrate  \n",
      "merchantid                                 \n",
      "5810b1db3deb94160f5cd4a3              NaN  \n",
      "58380161e18c0f0c70dd6907              NaN  \n",
      "53e98c6446188e1d4d3a38bd              NaN  \n",
      "580c7d0a8b67fa197454a2d1             33.0  \n",
      "5eba4bab58ed6ba265685ba1             50.0  \n",
      "5b4973b049c8e64e07c31cb4              NaN  \n"
     ]
    }
   ],
   "source": [
    "### Ex-3-Task-5\n",
    "portion_df = None\n",
    "### Get the sorted dataframe for which rating is 4.041 and store in portion_df\n",
    "### BEGIN SOLUTION \n",
    "# YOUR CODE HERE\n",
    "portion_df = sorted_df[sorted_df['rating']== 4.041]\n",
    "print(portion_df)\n",
    "### END SOLUTION"
   ]
  },
  {
   "cell_type": "code",
   "execution_count": null,
   "id": "f6d50c75",
   "metadata": {
    "deletable": false,
    "editable": false,
    "nbgrader": {
     "cell_type": "code",
     "checksum": "61f4b05b37094881e23517d0c4ac9f9e",
     "grade": true,
     "grade_id": "cell-4a49c91b20e21223",
     "locked": true,
     "points": 1,
     "schema_version": 3,
     "solution": false,
     "task": false
    }
   },
   "outputs": [],
   "source": []
  },
  {
   "cell_type": "markdown",
   "id": "dd9952db",
   "metadata": {
    "deletable": false,
    "editable": false,
    "nbgrader": {
     "cell_type": "markdown",
     "checksum": "d7de0af9c74ae3d22f7cc324c6e6b83b",
     "grade": false,
     "grade_id": "cell-43fcb3f29a0e0189",
     "locked": true,
     "schema_version": 3,
     "solution": false,
     "task": false
    }
   },
   "source": [
    "### Data Types and Conversion"
   ]
  },
  {
   "cell_type": "code",
   "execution_count": 146,
   "id": "e93f7bf5",
   "metadata": {
    "deletable": false,
    "nbgrader": {
     "cell_type": "code",
     "checksum": "1e58c892c99cf7e6211071d9a95355a6",
     "grade": false,
     "grade_id": "cell-e079b9cd0cbdc8a6",
     "locked": false,
     "schema_version": 3,
     "solution": true,
     "task": false
    }
   },
   "outputs": [
    {
     "name": "stdout",
     "output_type": "stream",
     "text": [
      "                                                  title  \\\n",
      "0     2020 Summer Vintage Flamingo Print  Pajamas Se...   \n",
      "1     SSHOUSE Summer Casual Sleeveless Soirée Party ...   \n",
      "2     2020 Nouvelle Arrivée Femmes Printemps et Été ...   \n",
      "3     Hot Summer Cool T-shirt pour les femmes Mode T...   \n",
      "4     Femmes Shorts d'été à lacets taille élastique ...   \n",
      "...                                                 ...   \n",
      "1568  Nouvelle Mode Femmes Bohême Pissenlit Imprimer...   \n",
      "1569  10 couleurs femmes shorts d'été lacent ceintur...   \n",
      "1570  Nouveautés Hommes Siwmwear Beach-Shorts Hommes...   \n",
      "1571  Mode femmes d'été sans manches robes col en V ...   \n",
      "1572  Pantalon de yoga pour femmes à la mode Slim Fi...   \n",
      "\n",
      "                                             title_orig  price  retail_price  \\\n",
      "0     2020 Summer Vintage Flamingo Print  Pajamas Se...     16            14   \n",
      "1      Women's Casual Summer Sleeveless Sexy Mini Dress      8            22   \n",
      "2     2020 New Arrival Women Spring and Summer Beach...      8            43   \n",
      "3     Hot Summer Cool T Shirt for Women Fashion Tops...      8             8   \n",
      "4     Women Summer Shorts Lace Up Elastic Waistband ...      2             3   \n",
      "...                                                 ...    ...           ...   \n",
      "1568  New Fashion Women Bohemia Dandelion Print Tee ...      6             9   \n",
      "1569  10 Color Women Summer Shorts Lace Up Elastic W...      2            56   \n",
      "1570  New Men Siwmwear Beach-Shorts Men Summer Quick...      5            19   \n",
      "1571  Fashion Women Summer Sleeveless Dresses V Neck...     13            11   \n",
      "1572  Fashion Women Yoga Pants Slim Fit Fitness Runn...      7             6   \n",
      "\n",
      "     currency_buyer  units_sold  uses_ad_boosts  rating  rating_count  \\\n",
      "0               EUR         100               0    3.76            54   \n",
      "1               EUR       20000               1    3.45          6135   \n",
      "2               EUR         100               0    3.57            14   \n",
      "3               EUR        5000               1    4.03           579   \n",
      "4               EUR         100               1    3.10            20   \n",
      "...             ...         ...             ...     ...           ...   \n",
      "1568            EUR       10000               1    4.08          1367   \n",
      "1569            EUR         100               1    3.07            28   \n",
      "1570            EUR         100               0    3.71            59   \n",
      "1571            EUR         100               0    2.50             2   \n",
      "1572            EUR         100               1    4.07            14   \n",
      "\n",
      "      rating_five_count  rating_four_count  rating_three_count  \\\n",
      "0                  26.0                8.0                10.0   \n",
      "1                2269.0             1027.0              1118.0   \n",
      "2                   5.0                4.0                 2.0   \n",
      "3                 295.0              119.0                87.0   \n",
      "4                   6.0                4.0                 2.0   \n",
      "...                 ...                ...                 ...   \n",
      "1568              722.0              293.0               185.0   \n",
      "1569               11.0                3.0                 1.0   \n",
      "1570               24.0               15.0                 8.0   \n",
      "1571                0.0                1.0                 0.0   \n",
      "1572                8.0                3.0                 1.0   \n",
      "\n",
      "      rating_two_count  rating_one_count  badges_count  badge_local_product  \\\n",
      "0                  1.0               9.0             0                    0   \n",
      "1                644.0            1077.0             0                    0   \n",
      "2                  0.0               3.0             0                    0   \n",
      "3                 42.0              36.0             0                    0   \n",
      "4                  2.0               6.0             0                    0   \n",
      "...                ...               ...           ...                  ...   \n",
      "1568              77.0              90.0             0                    0   \n",
      "1569               3.0              10.0             0                    0   \n",
      "1570               3.0               9.0             0                    0   \n",
      "1571               0.0               1.0             0                    0   \n",
      "1572               0.0               2.0             0                    0   \n",
      "\n",
      "      badge_product_quality  badge_fast_shipping  \\\n",
      "0                         0                    0   \n",
      "1                         0                    0   \n",
      "2                         0                    0   \n",
      "3                         0                    0   \n",
      "4                         0                    0   \n",
      "...                     ...                  ...   \n",
      "1568                      0                    0   \n",
      "1569                      0                    0   \n",
      "1570                      0                    0   \n",
      "1571                      0                    0   \n",
      "1572                      0                    0   \n",
      "\n",
      "                                                   tags product_color  \\\n",
      "0     Summer,Fashion,womenunderwearsuit,printedpajam...         white   \n",
      "1     Mini,womens dresses,Summer,Patchwork,fashion d...         green   \n",
      "2     Summer,cardigan,women beachwear,chiffon,Sexy w...  leopardprint   \n",
      "3     Summer,Shorts,Cotton,Cotton T Shirt,Sleeve,pri...         black   \n",
      "4     Summer,Plus Size,Lace,Casual pants,Bottom,pant...        yellow   \n",
      "...                                                 ...           ...   \n",
      "1568  bohemia,Plus Size,dandelionfloralprinted,short...      navyblue   \n",
      "1569  Summer,Panties,Elastic,Lace,Casual pants,casua...     lightblue   \n",
      "1570  runningshort,Beach Shorts,beachpant,menbeachsh...         white   \n",
      "1571  Summer,fashion women,Fashion,Lace,Dresses,Dres...         white   \n",
      "1572  Summer,Leggings,slim,Yoga,pants,Slim Fit,Women...           red   \n",
      "\n",
      "     product_variation_size_id  product_variation_inventory  \\\n",
      "0                            M                           50   \n",
      "1                           XS                           50   \n",
      "2                           XS                            1   \n",
      "3                            M                           50   \n",
      "4                            S                            1   \n",
      "...                        ...                          ...   \n",
      "1568                         S                           50   \n",
      "1569                         S                            2   \n",
      "1570                    SIZE S                           15   \n",
      "1571                   Size S.                           36   \n",
      "1572                         S                           50   \n",
      "\n",
      "     shipping_option_name  shipping_option_price  shipping_is_express  \\\n",
      "0      Livraison standard                      4                    0   \n",
      "1      Livraison standard                      2                    0   \n",
      "2      Livraison standard                      3                    0   \n",
      "3      Livraison standard                      2                    0   \n",
      "4      Livraison standard                      1                    0   \n",
      "...                   ...                    ...                  ...   \n",
      "1568   Livraison standard                      2                    0   \n",
      "1569   Livraison standard                      1                    0   \n",
      "1570   Livraison standard                      2                    0   \n",
      "1571   Livraison standard                      3                    0   \n",
      "1572   Livraison standard                      2                    0   \n",
      "\n",
      "      countries_shipped_to  inventory_total  has_urgency_banner  \\\n",
      "0                       34               50                 1.0   \n",
      "1                       41               50                 1.0   \n",
      "2                       36               50                 1.0   \n",
      "3                       41               50                 NaN   \n",
      "4                       35               50                 1.0   \n",
      "...                    ...              ...                 ...   \n",
      "1568                    41               50                 NaN   \n",
      "1569                    26               50                 1.0   \n",
      "1570                    11               50                 NaN   \n",
      "1571                    29               50                 NaN   \n",
      "1572                    41               50                 NaN   \n",
      "\n",
      "            urgency_text origin_country           merchant_title  \\\n",
      "0     Quantité limitée !             CN                 zgrdejia   \n",
      "1     Quantité limitée !             CN                SaraHouse   \n",
      "2     Quantité limitée !             CN                   hxt520   \n",
      "3                    NaN             CN                 allenfan   \n",
      "4     Quantité limitée !             CN          youngpeopleshop   \n",
      "...                  ...            ...                      ...   \n",
      "1568                 NaN             CN             cxuelin99126   \n",
      "1569  Quantité limitée !             CN  sell best quality goods   \n",
      "1570                 NaN             CN               shixueying   \n",
      "1571                 NaN             CN                    modai   \n",
      "1572                 NaN             CN           AISHOPPINGMALL   \n",
      "\n",
      "             merchant_name             merchant_info_subtitle  \\\n",
      "0                 zgrdejia                        (568 notes)   \n",
      "1                sarahouse  83 % avis positifs (17,752 notes)   \n",
      "2                   hxt520     86 % avis positifs (295 notes)   \n",
      "3                 allenfan                     (23,832 notes)   \n",
      "4              happyhorses  85 % avis positifs (14,482 notes)   \n",
      "...                    ...                                ...   \n",
      "1568          cxuelin99126   90 % avis positifs (5,316 notes)   \n",
      "1569  sellbestqualitygoods                      (4,435 notes)   \n",
      "1570            shixueying     86 % avis positifs (210 notes)   \n",
      "1571                 modai      77 % avis positifs (31 notes)   \n",
      "1572        aishoppingmall   90 % avis positifs (7,023 notes)   \n",
      "\n",
      "      merchant_rating_count  merchant_rating               merchant_id  \\\n",
      "0                       568         4.128521  595097d6a26f6e070cb878d1   \n",
      "1                     17752         3.899673  56458aa03a698c35c9050988   \n",
      "2                       295         3.989831  5d464a1ffdf7bc44ee933c65   \n",
      "3                     23832         4.020435  58cfdefdacb37b556efdff7c   \n",
      "4                     14482         4.001588  5ab3b592c3911a095ad5dadb   \n",
      "...                     ...              ...                       ...   \n",
      "1568                   5316         4.224605  5b507899ab577736508a0782   \n",
      "1569                   4435         3.696054  54d83b6b6b8a771e478558de   \n",
      "1570                    210         3.961905  5b42da1bf64320209fc8da69   \n",
      "1571                     31         3.774194  5d56b32c40defd78043d5af9   \n",
      "1572                   7023         4.235939  5a409cf87b584e7951b2e25f   \n",
      "\n",
      "      merchant_has_profile_picture merchant_profile_picture  \\\n",
      "0                                0                      NaN   \n",
      "1                                0                      NaN   \n",
      "2                                0                      NaN   \n",
      "3                                0                      NaN   \n",
      "4                                0                      NaN   \n",
      "...                            ...                      ...   \n",
      "1568                             0                      NaN   \n",
      "1569                             0                      NaN   \n",
      "1570                             0                      NaN   \n",
      "1571                             0                      NaN   \n",
      "1572                             0                      NaN   \n",
      "\n",
      "                                          product_url  \\\n",
      "0     https://www.wish.com/c/5e9ae51d43d6a96e303acdb0   \n",
      "1     https://www.wish.com/c/58940d436a0d3d5da4e95a38   \n",
      "2     https://www.wish.com/c/5ea10e2c617580260d55310a   \n",
      "3     https://www.wish.com/c/5cedf17ad1d44c52c59e4aca   \n",
      "4     https://www.wish.com/c/5ebf5819ebac372b070b0e70   \n",
      "...                                               ...   \n",
      "1568  https://www.wish.com/c/5d5fadc99febd9356cbc52ee   \n",
      "1569  https://www.wish.com/c/5eccd22b4497b86fd48f16b4   \n",
      "1570  https://www.wish.com/c/5e74be96034d613d42b52dfe   \n",
      "1571  https://www.wish.com/c/5eda07ab0e295c2097c36590   \n",
      "1572  https://www.wish.com/c/5e857321f53c3d2d8f25e7ed   \n",
      "\n",
      "                                        product_picture  \\\n",
      "0     https://contestimg.wish.com/api/webimage/5e9ae...   \n",
      "1     https://contestimg.wish.com/api/webimage/58940...   \n",
      "2     https://contestimg.wish.com/api/webimage/5ea10...   \n",
      "3     https://contestimg.wish.com/api/webimage/5cedf...   \n",
      "4     https://contestimg.wish.com/api/webimage/5ebf5...   \n",
      "...                                                 ...   \n",
      "1568  https://contestimg.wish.com/api/webimage/5d5fa...   \n",
      "1569  https://contestimg.wish.com/api/webimage/5eccd...   \n",
      "1570  https://contestimg.wish.com/api/webimage/5e74b...   \n",
      "1571  https://contestimg.wish.com/api/webimage/5eda0...   \n",
      "1572  https://contestimg.wish.com/api/webimage/5e857...   \n",
      "\n",
      "                    product_id   theme crawl_month  \n",
      "0     5e9ae51d43d6a96e303acdb0  summer     2020-08  \n",
      "1     58940d436a0d3d5da4e95a38  summer     2020-08  \n",
      "2     5ea10e2c617580260d55310a  summer     2020-08  \n",
      "3     5cedf17ad1d44c52c59e4aca  summer     2020-08  \n",
      "4     5ebf5819ebac372b070b0e70  summer     2020-08  \n",
      "...                        ...     ...         ...  \n",
      "1568  5d5fadc99febd9356cbc52ee  summer     2020-08  \n",
      "1569  5eccd22b4497b86fd48f16b4  summer     2020-08  \n",
      "1570  5e74be96034d613d42b52dfe  summer     2020-08  \n",
      "1571  5eda07ab0e295c2097c36590  summer     2020-08  \n",
      "1572  5e857321f53c3d2d8f25e7ed  summer     2020-08  \n",
      "\n",
      "[1573 rows x 43 columns]\n"
     ]
    }
   ],
   "source": [
    "### Ex-4-Task-1\n",
    "\n",
    "# the price of the product is upto 2 digit place. I want to convert it into int\n",
    "### BEGIN SOLUTION \n",
    "# YOUR CODE HERE\n",
    "df_product['price'] = df_product['price'].astype(int)\n",
    "print(df_product)\n",
    "### END SOLUTION"
   ]
  },
  {
   "cell_type": "code",
   "execution_count": null,
   "id": "19b65e71",
   "metadata": {
    "deletable": false,
    "editable": false,
    "nbgrader": {
     "cell_type": "code",
     "checksum": "6af8ae202d8faf651c0f12ccfff5d322",
     "grade": true,
     "grade_id": "cell-1eafaaed6e1bb7f7",
     "locked": true,
     "points": 1,
     "schema_version": 3,
     "solution": false,
     "task": false
    }
   },
   "outputs": [],
   "source": []
  },
  {
   "cell_type": "code",
   "execution_count": 147,
   "id": "2743266e",
   "metadata": {
    "deletable": false,
    "nbgrader": {
     "cell_type": "code",
     "checksum": "d0becff2bf6c8db8364c4e93facb0d90",
     "grade": false,
     "grade_id": "cell-0be0724d8541c06b",
     "locked": false,
     "schema_version": 3,
     "solution": true,
     "task": false
    }
   },
   "outputs": [
    {
     "name": "stdout",
     "output_type": "stream",
     "text": [
      "                                                  title  \\\n",
      "0     2020 Summer Vintage Flamingo Print  Pajamas Se...   \n",
      "1     SSHOUSE Summer Casual Sleeveless Soirée Party ...   \n",
      "2     2020 Nouvelle Arrivée Femmes Printemps et Été ...   \n",
      "3     Hot Summer Cool T-shirt pour les femmes Mode T...   \n",
      "4     Femmes Shorts d'été à lacets taille élastique ...   \n",
      "...                                                 ...   \n",
      "1568  Nouvelle Mode Femmes Bohême Pissenlit Imprimer...   \n",
      "1569  10 couleurs femmes shorts d'été lacent ceintur...   \n",
      "1570  Nouveautés Hommes Siwmwear Beach-Shorts Hommes...   \n",
      "1571  Mode femmes d'été sans manches robes col en V ...   \n",
      "1572  Pantalon de yoga pour femmes à la mode Slim Fi...   \n",
      "\n",
      "                                             title_orig  price  retail_price  \\\n",
      "0     2020 Summer Vintage Flamingo Print  Pajamas Se...     16            14   \n",
      "1      Women's Casual Summer Sleeveless Sexy Mini Dress      8            22   \n",
      "2     2020 New Arrival Women Spring and Summer Beach...      8            43   \n",
      "3     Hot Summer Cool T Shirt for Women Fashion Tops...      8             8   \n",
      "4     Women Summer Shorts Lace Up Elastic Waistband ...      2             3   \n",
      "...                                                 ...    ...           ...   \n",
      "1568  New Fashion Women Bohemia Dandelion Print Tee ...      6             9   \n",
      "1569  10 Color Women Summer Shorts Lace Up Elastic W...      2            56   \n",
      "1570  New Men Siwmwear Beach-Shorts Men Summer Quick...      5            19   \n",
      "1571  Fashion Women Summer Sleeveless Dresses V Neck...     13            11   \n",
      "1572  Fashion Women Yoga Pants Slim Fit Fitness Runn...      7             6   \n",
      "\n",
      "     currency_buyer  units_sold  uses_ad_boosts  rating  rating_count  \\\n",
      "0               EUR         100               0    3.76            54   \n",
      "1               EUR       20000               1    3.45          6135   \n",
      "2               EUR         100               0    3.57            14   \n",
      "3               EUR        5000               1    4.03           579   \n",
      "4               EUR         100               1    3.10            20   \n",
      "...             ...         ...             ...     ...           ...   \n",
      "1568            EUR       10000               1    4.08          1367   \n",
      "1569            EUR         100               1    3.07            28   \n",
      "1570            EUR         100               0    3.71            59   \n",
      "1571            EUR         100               0    2.50             2   \n",
      "1572            EUR         100               1    4.07            14   \n",
      "\n",
      "      rating_five_count  rating_four_count  rating_three_count  \\\n",
      "0                  26.0                8.0                10.0   \n",
      "1                2269.0             1027.0              1118.0   \n",
      "2                   5.0                4.0                 2.0   \n",
      "3                 295.0              119.0                87.0   \n",
      "4                   6.0                4.0                 2.0   \n",
      "...                 ...                ...                 ...   \n",
      "1568              722.0              293.0               185.0   \n",
      "1569               11.0                3.0                 1.0   \n",
      "1570               24.0               15.0                 8.0   \n",
      "1571                0.0                1.0                 0.0   \n",
      "1572                8.0                3.0                 1.0   \n",
      "\n",
      "      rating_two_count  rating_one_count  badges_count  badge_local_product  \\\n",
      "0                  1.0               9.0             0                    0   \n",
      "1                644.0            1077.0             0                    0   \n",
      "2                  0.0               3.0             0                    0   \n",
      "3                 42.0              36.0             0                    0   \n",
      "4                  2.0               6.0             0                    0   \n",
      "...                ...               ...           ...                  ...   \n",
      "1568              77.0              90.0             0                    0   \n",
      "1569               3.0              10.0             0                    0   \n",
      "1570               3.0               9.0             0                    0   \n",
      "1571               0.0               1.0             0                    0   \n",
      "1572               0.0               2.0             0                    0   \n",
      "\n",
      "      badge_product_quality  badge_fast_shipping  \\\n",
      "0                         0                    0   \n",
      "1                         0                    0   \n",
      "2                         0                    0   \n",
      "3                         0                    0   \n",
      "4                         0                    0   \n",
      "...                     ...                  ...   \n",
      "1568                      0                    0   \n",
      "1569                      0                    0   \n",
      "1570                      0                    0   \n",
      "1571                      0                    0   \n",
      "1572                      0                    0   \n",
      "\n",
      "                                                   tags product_color  \\\n",
      "0     Summer,Fashion,womenunderwearsuit,printedpajam...         white   \n",
      "1     Mini,womens dresses,Summer,Patchwork,fashion d...         green   \n",
      "2     Summer,cardigan,women beachwear,chiffon,Sexy w...  leopardprint   \n",
      "3     Summer,Shorts,Cotton,Cotton T Shirt,Sleeve,pri...         black   \n",
      "4     Summer,Plus Size,Lace,Casual pants,Bottom,pant...        yellow   \n",
      "...                                                 ...           ...   \n",
      "1568  bohemia,Plus Size,dandelionfloralprinted,short...      navyblue   \n",
      "1569  Summer,Panties,Elastic,Lace,Casual pants,casua...     lightblue   \n",
      "1570  runningshort,Beach Shorts,beachpant,menbeachsh...         white   \n",
      "1571  Summer,fashion women,Fashion,Lace,Dresses,Dres...         white   \n",
      "1572  Summer,Leggings,slim,Yoga,pants,Slim Fit,Women...           red   \n",
      "\n",
      "     product_variation_size_id  product_variation_inventory  \\\n",
      "0                            M                           50   \n",
      "1                           XS                           50   \n",
      "2                           XS                            1   \n",
      "3                            M                           50   \n",
      "4                            S                            1   \n",
      "...                        ...                          ...   \n",
      "1568                         S                           50   \n",
      "1569                         S                            2   \n",
      "1570                    SIZE S                           15   \n",
      "1571                   Size S.                           36   \n",
      "1572                         S                           50   \n",
      "\n",
      "     shipping_option_name  shipping_option_price  shipping_is_express  \\\n",
      "0      Livraison standard                      4                    0   \n",
      "1      Livraison standard                      2                    0   \n",
      "2      Livraison standard                      3                    0   \n",
      "3      Livraison standard                      2                    0   \n",
      "4      Livraison standard                      1                    0   \n",
      "...                   ...                    ...                  ...   \n",
      "1568   Livraison standard                      2                    0   \n",
      "1569   Livraison standard                      1                    0   \n",
      "1570   Livraison standard                      2                    0   \n",
      "1571   Livraison standard                      3                    0   \n",
      "1572   Livraison standard                      2                    0   \n",
      "\n",
      "      countries_shipped_to  inventory_total  has_urgency_banner  \\\n",
      "0                       34               50                 1.0   \n",
      "1                       41               50                 1.0   \n",
      "2                       36               50                 1.0   \n",
      "3                       41               50                 NaN   \n",
      "4                       35               50                 1.0   \n",
      "...                    ...              ...                 ...   \n",
      "1568                    41               50                 NaN   \n",
      "1569                    26               50                 1.0   \n",
      "1570                    11               50                 NaN   \n",
      "1571                    29               50                 NaN   \n",
      "1572                    41               50                 NaN   \n",
      "\n",
      "            urgency_text origin_country           merchant_title  \\\n",
      "0     Quantité limitée !             CN                 zgrdejia   \n",
      "1     Quantité limitée !             CN                SaraHouse   \n",
      "2     Quantité limitée !             CN                   hxt520   \n",
      "3                    NaN             CN                 allenfan   \n",
      "4     Quantité limitée !             CN          youngpeopleshop   \n",
      "...                  ...            ...                      ...   \n",
      "1568                 NaN             CN             cxuelin99126   \n",
      "1569  Quantité limitée !             CN  sell best quality goods   \n",
      "1570                 NaN             CN               shixueying   \n",
      "1571                 NaN             CN                    modai   \n",
      "1572                 NaN             CN           AISHOPPINGMALL   \n",
      "\n",
      "             merchant_name             merchant_info_subtitle  \\\n",
      "0                 zgrdejia                        (568 notes)   \n",
      "1                sarahouse  83 % avis positifs (17,752 notes)   \n",
      "2                   hxt520     86 % avis positifs (295 notes)   \n",
      "3                 allenfan                     (23,832 notes)   \n",
      "4              happyhorses  85 % avis positifs (14,482 notes)   \n",
      "...                    ...                                ...   \n",
      "1568          cxuelin99126   90 % avis positifs (5,316 notes)   \n",
      "1569  sellbestqualitygoods                      (4,435 notes)   \n",
      "1570            shixueying     86 % avis positifs (210 notes)   \n",
      "1571                 modai      77 % avis positifs (31 notes)   \n",
      "1572        aishoppingmall   90 % avis positifs (7,023 notes)   \n",
      "\n",
      "      merchant_rating_count  merchant_rating               merchant_id  \\\n",
      "0                       568         4.128521  595097d6a26f6e070cb878d1   \n",
      "1                     17752         3.899673  56458aa03a698c35c9050988   \n",
      "2                       295         3.989831  5d464a1ffdf7bc44ee933c65   \n",
      "3                     23832         4.020435  58cfdefdacb37b556efdff7c   \n",
      "4                     14482         4.001588  5ab3b592c3911a095ad5dadb   \n",
      "...                     ...              ...                       ...   \n",
      "1568                   5316         4.224605  5b507899ab577736508a0782   \n",
      "1569                   4435         3.696054  54d83b6b6b8a771e478558de   \n",
      "1570                    210         3.961905  5b42da1bf64320209fc8da69   \n",
      "1571                     31         3.774194  5d56b32c40defd78043d5af9   \n",
      "1572                   7023         4.235939  5a409cf87b584e7951b2e25f   \n",
      "\n",
      "      merchant_has_profile_picture merchant_profile_picture  \\\n",
      "0                                0                      NaN   \n",
      "1                                0                      NaN   \n",
      "2                                0                      NaN   \n",
      "3                                0                      NaN   \n",
      "4                                0                      NaN   \n",
      "...                            ...                      ...   \n",
      "1568                             0                      NaN   \n",
      "1569                             0                      NaN   \n",
      "1570                             0                      NaN   \n",
      "1571                             0                      NaN   \n",
      "1572                             0                      NaN   \n",
      "\n",
      "                                          product_url  \\\n",
      "0     https://www.wish.com/c/5e9ae51d43d6a96e303acdb0   \n",
      "1     https://www.wish.com/c/58940d436a0d3d5da4e95a38   \n",
      "2     https://www.wish.com/c/5ea10e2c617580260d55310a   \n",
      "3     https://www.wish.com/c/5cedf17ad1d44c52c59e4aca   \n",
      "4     https://www.wish.com/c/5ebf5819ebac372b070b0e70   \n",
      "...                                               ...   \n",
      "1568  https://www.wish.com/c/5d5fadc99febd9356cbc52ee   \n",
      "1569  https://www.wish.com/c/5eccd22b4497b86fd48f16b4   \n",
      "1570  https://www.wish.com/c/5e74be96034d613d42b52dfe   \n",
      "1571  https://www.wish.com/c/5eda07ab0e295c2097c36590   \n",
      "1572  https://www.wish.com/c/5e857321f53c3d2d8f25e7ed   \n",
      "\n",
      "                                        product_picture  \\\n",
      "0     https://contestimg.wish.com/api/webimage/5e9ae...   \n",
      "1     https://contestimg.wish.com/api/webimage/58940...   \n",
      "2     https://contestimg.wish.com/api/webimage/5ea10...   \n",
      "3     https://contestimg.wish.com/api/webimage/5cedf...   \n",
      "4     https://contestimg.wish.com/api/webimage/5ebf5...   \n",
      "...                                                 ...   \n",
      "1568  https://contestimg.wish.com/api/webimage/5d5fa...   \n",
      "1569  https://contestimg.wish.com/api/webimage/5eccd...   \n",
      "1570  https://contestimg.wish.com/api/webimage/5e74b...   \n",
      "1571  https://contestimg.wish.com/api/webimage/5eda0...   \n",
      "1572  https://contestimg.wish.com/api/webimage/5e857...   \n",
      "\n",
      "                    product_id   theme crawl_month cwarl_month  \n",
      "0     5e9ae51d43d6a96e303acdb0  summer     2020-08  2020-08-01  \n",
      "1     58940d436a0d3d5da4e95a38  summer     2020-08  2020-08-01  \n",
      "2     5ea10e2c617580260d55310a  summer     2020-08  2020-08-01  \n",
      "3     5cedf17ad1d44c52c59e4aca  summer     2020-08  2020-08-01  \n",
      "4     5ebf5819ebac372b070b0e70  summer     2020-08  2020-08-01  \n",
      "...                        ...     ...         ...         ...  \n",
      "1568  5d5fadc99febd9356cbc52ee  summer     2020-08  2020-08-01  \n",
      "1569  5eccd22b4497b86fd48f16b4  summer     2020-08  2020-08-01  \n",
      "1570  5e74be96034d613d42b52dfe  summer     2020-08  2020-08-01  \n",
      "1571  5eda07ab0e295c2097c36590  summer     2020-08  2020-08-01  \n",
      "1572  5e857321f53c3d2d8f25e7ed  summer     2020-08  2020-08-01  \n",
      "\n",
      "[1573 rows x 44 columns]\n"
     ]
    }
   ],
   "source": [
    "### Ex-4-Task-2\n",
    "# The datatype of the craw_month is Object type. I want to convert it to data time format and store it in same columns\n",
    "### BEGIN SOLUTION \n",
    "# YOUR CODE HERE\n",
    "df_product['cwarl_month'] = pd.to_datetime(df_product['crawl_month'])\n",
    "print(df_product)\n",
    "### END SOLUTION"
   ]
  },
  {
   "cell_type": "code",
   "execution_count": null,
   "id": "a73d8b66",
   "metadata": {
    "deletable": false,
    "editable": false,
    "nbgrader": {
     "cell_type": "code",
     "checksum": "51d2ecb92b81232328e7c58ee3b53bbe",
     "grade": true,
     "grade_id": "cell-fab43c35cf5011db",
     "locked": true,
     "points": 1,
     "schema_version": 3,
     "solution": false,
     "task": false
    }
   },
   "outputs": [],
   "source": []
  },
  {
   "cell_type": "markdown",
   "id": "800f97de",
   "metadata": {
    "deletable": false,
    "editable": false,
    "nbgrader": {
     "cell_type": "markdown",
     "checksum": "ead4583e6081ecce09da19d811202590",
     "grade": false,
     "grade_id": "cell-25d06497af6bb09e",
     "locked": true,
     "schema_version": 3,
     "solution": false,
     "task": false
    }
   },
   "source": [
    "## Data Selection and Filtering"
   ]
  },
  {
   "cell_type": "markdown",
   "id": "6032e99d",
   "metadata": {
    "deletable": false,
    "editable": false,
    "nbgrader": {
     "cell_type": "markdown",
     "checksum": "4cb6acedfeffacb4c861a887d019c4fa",
     "grade": false,
     "grade_id": "cell-2e10fd250e33a6ab",
     "locked": true,
     "schema_version": 3,
     "solution": false,
     "task": false
    }
   },
   "source": [
    "### Selecting Columns and Rows"
   ]
  },
  {
   "cell_type": "code",
   "execution_count": 148,
   "id": "f31cb481",
   "metadata": {
    "deletable": false,
    "nbgrader": {
     "cell_type": "code",
     "checksum": "68c1a2f6a5c69c470fce010b97274d43",
     "grade": false,
     "grade_id": "cell-4a89638bb4e331bb",
     "locked": false,
     "schema_version": 3,
     "solution": true,
     "task": false
    }
   },
   "outputs": [
    {
     "name": "stdout",
     "output_type": "stream",
     "text": [
      "0       2020 Summer Vintage Flamingo Print  Pajamas Se...\n",
      "1       SSHOUSE Summer Casual Sleeveless Soirée Party ...\n",
      "2       2020 Nouvelle Arrivée Femmes Printemps et Été ...\n",
      "3       Hot Summer Cool T-shirt pour les femmes Mode T...\n",
      "4       Femmes Shorts d'été à lacets taille élastique ...\n",
      "                              ...                        \n",
      "1568    Nouvelle Mode Femmes Bohême Pissenlit Imprimer...\n",
      "1569    10 couleurs femmes shorts d'été lacent ceintur...\n",
      "1570    Nouveautés Hommes Siwmwear Beach-Shorts Hommes...\n",
      "1571    Mode femmes d'été sans manches robes col en V ...\n",
      "1572    Pantalon de yoga pour femmes à la mode Slim Fi...\n",
      "Name: title, Length: 1573, dtype: object\n"
     ]
    }
   ],
   "source": [
    "### Ex-5-Task-1\n",
    "ser = None \n",
    "\n",
    "# Select a 'title' column from product dataframe and store in separate variables as series (ser)\n",
    "### BEGIN SOLUTION \n",
    "# YOUR CODE HERE\n",
    "ser = df_product['title']\n",
    "print(ser)\n",
    "### END SOLUTION"
   ]
  },
  {
   "cell_type": "code",
   "execution_count": null,
   "id": "db822be7",
   "metadata": {
    "deletable": false,
    "editable": false,
    "nbgrader": {
     "cell_type": "code",
     "checksum": "bc963e1b098871013a6322c33ebccce5",
     "grade": true,
     "grade_id": "cell-c5b6f7ddbbaab9df",
     "locked": true,
     "points": 1,
     "schema_version": 3,
     "solution": false,
     "task": false
    }
   },
   "outputs": [],
   "source": []
  },
  {
   "cell_type": "code",
   "execution_count": 149,
   "id": "d169a4ed",
   "metadata": {
    "deletable": false,
    "nbgrader": {
     "cell_type": "code",
     "checksum": "c3025f6a37f97c778d1293dfefb63068",
     "grade": false,
     "grade_id": "cell-aa6e58ced9ad0cd4",
     "locked": false,
     "schema_version": 3,
     "solution": true,
     "task": false
    }
   },
   "outputs": [
    {
     "name": "stdout",
     "output_type": "stream",
     "text": [
      "Index(['title', 'title_orig', 'price', 'retail_price', 'currency_buyer',\n",
      "       'units_sold', 'uses_ad_boosts', 'rating', 'rating_count',\n",
      "       'rating_five_count', 'rating_four_count', 'rating_three_count',\n",
      "       'rating_two_count', 'rating_one_count', 'badges_count',\n",
      "       'badge_local_product', 'badge_product_quality', 'badge_fast_shipping',\n",
      "       'tags', 'product_color', 'product_variation_size_id',\n",
      "       'product_variation_inventory', 'shipping_option_name',\n",
      "       'shipping_option_price', 'shipping_is_express', 'countries_shipped_to',\n",
      "       'inventory_total', 'has_urgency_banner', 'urgency_text',\n",
      "       'origin_country', 'merchant_title', 'merchant_name',\n",
      "       'merchant_info_subtitle', 'merchant_rating_count', 'merchant_rating',\n",
      "       'merchant_id', 'merchant_has_profile_picture',\n",
      "       'merchant_profile_picture', 'product_url', 'product_picture',\n",
      "       'product_id', 'theme', 'crawl_month', 'cwarl_month'],\n",
      "      dtype='object')\n",
      "                                                  title  price  retail_price\n",
      "0     2020 Summer Vintage Flamingo Print  Pajamas Se...     16            14\n",
      "1     SSHOUSE Summer Casual Sleeveless Soirée Party ...      8            22\n",
      "2     2020 Nouvelle Arrivée Femmes Printemps et Été ...      8            43\n",
      "3     Hot Summer Cool T-shirt pour les femmes Mode T...      8             8\n",
      "4     Femmes Shorts d'été à lacets taille élastique ...      2             3\n",
      "...                                                 ...    ...           ...\n",
      "1568  Nouvelle Mode Femmes Bohême Pissenlit Imprimer...      6             9\n",
      "1569  10 couleurs femmes shorts d'été lacent ceintur...      2            56\n",
      "1570  Nouveautés Hommes Siwmwear Beach-Shorts Hommes...      5            19\n",
      "1571  Mode femmes d'été sans manches robes col en V ...     13            11\n",
      "1572  Pantalon de yoga pour femmes à la mode Slim Fi...      7             6\n",
      "\n",
      "[1573 rows x 3 columns]\n"
     ]
    }
   ],
   "source": [
    "### Ex-5-Task-2\n",
    "product_price = None \n",
    "# Select multiple columns ('title', 'price', and 'retail price' ) from product dataframe and store in variable product_price.\n",
    "### BEGIN SOLUTION \n",
    "# YOUR CODE HERE\n",
    "print(df_product.columns)\n",
    "\n",
    "product_price = df_product[['title','price', 'retail_price']]\n",
    "print(product_price)\n",
    "\n",
    "### END SOLUTION"
   ]
  },
  {
   "cell_type": "code",
   "execution_count": null,
   "id": "d26a0c27",
   "metadata": {
    "deletable": false,
    "editable": false,
    "nbgrader": {
     "cell_type": "code",
     "checksum": "f7a760f2c72d8cc768cff1aa19c0128d",
     "grade": true,
     "grade_id": "cell-f90c8bd6ff766b03",
     "locked": true,
     "points": 0,
     "schema_version": 3,
     "solution": false,
     "task": false
    }
   },
   "outputs": [],
   "source": []
  },
  {
   "cell_type": "markdown",
   "id": "233283c2",
   "metadata": {
    "deletable": false,
    "editable": false,
    "nbgrader": {
     "cell_type": "markdown",
     "checksum": "51f793744ecf9ea014096ff0be93af3f",
     "grade": false,
     "grade_id": "cell-b5cc8db5b5a7499e",
     "locked": true,
     "schema_version": 3,
     "solution": false,
     "task": false
    }
   },
   "source": [
    "### Selection by labels and Selection by position"
   ]
  },
  {
   "cell_type": "code",
   "execution_count": 150,
   "id": "7000eea9",
   "metadata": {
    "deletable": false,
    "nbgrader": {
     "cell_type": "code",
     "checksum": "21865fb574944fb1484e4600f85a2a19",
     "grade": false,
     "grade_id": "cell-182f37ff824d8eac",
     "locked": false,
     "schema_version": 3,
     "solution": true,
     "task": false
    }
   },
   "outputs": [
    {
     "name": "stdout",
     "output_type": "stream",
     "text": [
      "Pantalon de yoga pour femmes à la mode Slim Fit Fitness Running Leggings\n"
     ]
    }
   ],
   "source": [
    "### Ex-5-Task-3\n",
    "single_data = None\n",
    "## Select a data of title column and at index 1572 of product dataframe\n",
    "### BEGIN SOLUTION \n",
    "# YOUR CODE HERE\n",
    "#single_data = df_product['title'].iloc[1572]\n",
    "\n",
    "single_data = df_product.loc[1572, 'title']\n",
    "print(single_data)\n",
    "### END SOLUTION\n"
   ]
  },
  {
   "cell_type": "code",
   "execution_count": null,
   "id": "735a1174",
   "metadata": {
    "deletable": false,
    "editable": false,
    "nbgrader": {
     "cell_type": "code",
     "checksum": "354d350037d3ce6d6bc74a3c14dc396d",
     "grade": true,
     "grade_id": "cell-aa3984006bc075f2",
     "locked": true,
     "points": 1,
     "schema_version": 3,
     "solution": false,
     "task": false
    }
   },
   "outputs": [],
   "source": []
  },
  {
   "cell_type": "code",
   "execution_count": 151,
   "id": "9ce4e5da",
   "metadata": {
    "deletable": false,
    "nbgrader": {
     "cell_type": "code",
     "checksum": "228854988bcd13a853a8973145c0d89a",
     "grade": false,
     "grade_id": "cell-859e6859ed62a2ca",
     "locked": false,
     "schema_version": 3,
     "solution": true,
     "task": false
    }
   },
   "outputs": [
    {
     "name": "stdout",
     "output_type": "stream",
     "text": [
      "100\n"
     ]
    }
   ],
   "source": [
    "### Ex-5-Task-4\n",
    "single_data = None\n",
    "## Select a data of 6th column and at  5tj row of product dataframe\n",
    "### BEGIN SOLUTION \n",
    "# YOUR CODE HERE\n",
    "single_data = df_product.iloc[4, 5]\n",
    "print(single_data)\n",
    "### END SOLUTION"
   ]
  },
  {
   "cell_type": "code",
   "execution_count": null,
   "id": "781678a6",
   "metadata": {
    "deletable": false,
    "editable": false,
    "nbgrader": {
     "cell_type": "code",
     "checksum": "3277eda3671ffeb19a728379ac8ac39d",
     "grade": true,
     "grade_id": "cell-951cb3eacc682889",
     "locked": true,
     "points": 1,
     "schema_version": 3,
     "solution": false,
     "task": false
    }
   },
   "outputs": [],
   "source": []
  },
  {
   "cell_type": "code",
   "execution_count": 152,
   "id": "797384da",
   "metadata": {
    "deletable": false,
    "nbgrader": {
     "cell_type": "code",
     "checksum": "9570eccd6601ade20898b46c22e55f75",
     "grade": false,
     "grade_id": "cell-67b0b6c6d6ba760b",
     "locked": false,
     "schema_version": 3,
     "solution": true,
     "task": false
    }
   },
   "outputs": [
    {
     "name": "stdout",
     "output_type": "stream",
     "text": [
      "    currency_buyer  units_sold  merchant_rating_count  merchant_rating\n",
      "100            EUR         100                    288         3.729167\n",
      "101            EUR       10000                  54504         3.801684\n",
      "102            EUR         100                     67         3.298507\n",
      "103            EUR        5000                  99283         4.285598\n",
      "104            EUR         100                    239         3.882845\n",
      "..             ...         ...                    ...              ...\n",
      "196            EUR        1000                   9341         4.147415\n",
      "197            EUR       10000                  39381         4.066326\n",
      "198            EUR        1000                   5048         4.159667\n",
      "199            EUR        1000                   2377         4.063525\n",
      "200            EUR        1000                   2996         4.348798\n",
      "\n",
      "[101 rows x 4 columns]\n"
     ]
    }
   ],
   "source": [
    "### Ex-5-Task-5\n",
    "sliced_data = None \n",
    "## Select a portion of data frame with column name currency_buyer, units_sold, merchant_rating_count, merchant_rating and with index 100 to 200\n",
    "### BEGIN SOLUTION \n",
    "# YOUR CODE HERE\n",
    "sliced_data = df_product.loc[100:200, ['currency_buyer', 'units_sold', 'merchant_rating_count', 'merchant_rating']]\n",
    "print(sliced_data)\n",
    "### END SOLUTION"
   ]
  },
  {
   "cell_type": "code",
   "execution_count": null,
   "id": "8a5aff8d",
   "metadata": {
    "deletable": false,
    "editable": false,
    "nbgrader": {
     "cell_type": "code",
     "checksum": "6fa42ffe53bc4733cddcb712ba654543",
     "grade": true,
     "grade_id": "cell-0043e436b0682c22",
     "locked": true,
     "points": 1,
     "schema_version": 3,
     "solution": false,
     "task": false
    }
   },
   "outputs": [],
   "source": []
  },
  {
   "cell_type": "code",
   "execution_count": 153,
   "id": "1c4f9d9e",
   "metadata": {
    "deletable": false,
    "nbgrader": {
     "cell_type": "code",
     "checksum": "a41d7de179813fa8e73c02108e5e2346",
     "grade": false,
     "grade_id": "cell-0d7f0352100369da",
     "locked": false,
     "schema_version": 3,
     "solution": true,
     "task": false
    }
   },
   "outputs": [
    {
     "name": "stdout",
     "output_type": "stream",
     "text": [
      "     price  retail_price currency_buyer  units_sold  uses_ad_boosts  rating  \\\n",
      "100      9             8            EUR         100               1    3.18   \n",
      "101      6             8            EUR       10000               0    3.96   \n",
      "102     20            17            EUR         100               1    2.80   \n",
      "103      5             5            EUR        5000               0    3.89   \n",
      "104      8            65            EUR         100               0    3.97   \n",
      "..     ...           ...            ...         ...             ...     ...   \n",
      "195      8             7            EUR          50               0    4.00   \n",
      "196     22           169            EUR        1000               1    3.38   \n",
      "197      8             7            EUR       10000               1    3.70   \n",
      "198     19            26            EUR        1000               1    3.01   \n",
      "199     11            10            EUR        1000               0    3.67   \n",
      "\n",
      "     rating_count  \n",
      "100            72  \n",
      "101          1338  \n",
      "102            15  \n",
      "103          1161  \n",
      "104            29  \n",
      "..            ...  \n",
      "195             6  \n",
      "196           542  \n",
      "197          2441  \n",
      "198           205  \n",
      "199           215  \n",
      "\n",
      "[100 rows x 7 columns]\n"
     ]
    }
   ],
   "source": [
    "### Ex-5-Task-6\n",
    "sliced_data = None \n",
    "## Select a portion of data frame with 3rd to 8th columns and with rows 100 to 200 \n",
    "# it must only include 100 rows and 7 columns \n",
    "### BEGIN SOLUTION \n",
    "# YOUR CODE HERE\n",
    "sliced_data = df_product.iloc[100:200, 2:9]\n",
    "print(sliced_data)\n",
    "### END SOLUTION\n"
   ]
  },
  {
   "cell_type": "code",
   "execution_count": null,
   "id": "0a72eb8a",
   "metadata": {
    "deletable": false,
    "editable": false,
    "nbgrader": {
     "cell_type": "code",
     "checksum": "944861c79e135b1558d93f5aaafae51f",
     "grade": true,
     "grade_id": "cell-571e43dbc5b0d6eb",
     "locked": true,
     "points": 1,
     "schema_version": 3,
     "solution": false,
     "task": false
    }
   },
   "outputs": [],
   "source": []
  },
  {
   "cell_type": "markdown",
   "id": "6d3d47ea",
   "metadata": {
    "deletable": false,
    "editable": false,
    "nbgrader": {
     "cell_type": "markdown",
     "checksum": "25d7203a070b4ea4e452b8ff0fc5fb25",
     "grade": false,
     "grade_id": "cell-5cb5b08934d8f231",
     "locked": true,
     "schema_version": 3,
     "solution": false,
     "task": false
    }
   },
   "source": [
    "### Boolean Indexing and Conditional Filtering"
   ]
  },
  {
   "cell_type": "code",
   "execution_count": 154,
   "id": "b7e76c24",
   "metadata": {
    "deletable": false,
    "nbgrader": {
     "cell_type": "code",
     "checksum": "b579def09b4bceb6d3edbf097cd700b3",
     "grade": false,
     "grade_id": "cell-2094de1b6c7ba6c5",
     "locked": false,
     "schema_version": 3,
     "solution": true,
     "task": false
    }
   },
   "outputs": [
    {
     "name": "stdout",
     "output_type": "stream",
     "text": [
      "8.196439923712651\n",
      "11.0\n",
      "                                                  title  \\\n",
      "8     Robe d'été décontractée à manches courtes pour...   \n",
      "15    Mode d'été Flare Sleeve Plus Size T-shirt hors...   \n",
      "16    Nouvelle mode d'été pour femmes Robe sans manc...   \n",
      "18    Débardeur d'été 5 Couleurs Grandes Tailles été...   \n",
      "20    Top Maillot de bain Ensembles Mode Maillots de...   \n",
      "...                                                 ...   \n",
      "1537  Plus la taille XS-7XL été femmes mode col rond...   \n",
      "1538  Fashion Back Lace Up Flower Print Tops Short S...   \n",
      "1545  Summer Fashion Cute \" Dog Mom \" Letter Printed...   \n",
      "1557  fr.delaval.nl : Nouvelle mode d'été pour femme...   \n",
      "1566  Robe mi-longue d'été à manches courtes pour fe...   \n",
      "\n",
      "                                             title_orig  price  retail_price  \\\n",
      "8     Women's Summer Casual Dress Fashion Short Slee...     11            84   \n",
      "15    Summer Fashion Flare Sleeve Plus Size T-shirt ...     11            81   \n",
      "16    New Summer Women's Fashion Sleeveless Polka Do...     11            10   \n",
      "18    5 Color Plus Size Summer New Women Fashion Lad...      9             9   \n",
      "20    Top Swimsuit Sets Fashion Swimwear Women Bikin...     11            10   \n",
      "...                                                 ...    ...           ...   \n",
      "1537  Plus Size XS-7XL Summer Women Fashion Round Ne...     11            12   \n",
      "1538  Fashion Back Lace Up Flower Print Tops Shorts ...      9             8   \n",
      "1545  Summer Fashion  Cute \" Dog  Mom \" Letter Print...      9             8   \n",
      "1557  HODMEXI™ New Fashion Summer Womens Sexy Party ...      9            76   \n",
      "1566  Womens Short Sleeve Baggy Summer Beach Midi Dr...     11           134   \n",
      "\n",
      "     currency_buyer  units_sold  uses_ad_boosts  rating  rating_count  \\\n",
      "8               EUR         100               1    3.47            15   \n",
      "15              EUR        1000               0    3.92           426   \n",
      "16              EUR       10000               0    3.72          2058   \n",
      "18              EUR       20000               0    3.82          5479   \n",
      "20              EUR        5000               0    3.84          1183   \n",
      "...             ...         ...             ...     ...           ...   \n",
      "1537            EUR       10000               0    3.96           666   \n",
      "1538            EUR        1000               1    3.72           489   \n",
      "1545            EUR        5000               0    4.28          1120   \n",
      "1557            EUR       20000               0    3.55          7088   \n",
      "1566            EUR         100               1    3.54            28   \n",
      "\n",
      "      rating_five_count  rating_four_count  rating_three_count  \\\n",
      "8                   6.0                2.0                 3.0   \n",
      "15                204.0               94.0                62.0   \n",
      "16                840.0              435.0               386.0   \n",
      "18               2456.0             1162.0               853.0   \n",
      "20                506.0              274.0               216.0   \n",
      "...                 ...                ...                 ...   \n",
      "1537              360.0              100.0                91.0   \n",
      "1538              204.0              100.0                84.0   \n",
      "1545              698.0              205.0               108.0   \n",
      "1557             2635.0             1394.0              1315.0   \n",
      "1566                7.0               11.0                 4.0   \n",
      "\n",
      "      rating_two_count  rating_one_count  badges_count  badge_local_product  \\\n",
      "8                  1.0               3.0             0                    0   \n",
      "15                21.0              45.0             0                    0   \n",
      "16               158.0             239.0             0                    0   \n",
      "18               431.0             577.0             0                    0   \n",
      "20                81.0             106.0             0                    0   \n",
      "...                ...               ...           ...                  ...   \n",
      "1537              47.0              68.0             0                    0   \n",
      "1538              44.0              57.0             0                    0   \n",
      "1545              47.0              62.0             1                    0   \n",
      "1557             715.0            1029.0             0                    0   \n",
      "1566               2.0               4.0             0                    0   \n",
      "\n",
      "      badge_product_quality  badge_fast_shipping  \\\n",
      "8                         0                    0   \n",
      "15                        0                    0   \n",
      "16                        0                    0   \n",
      "18                        0                    0   \n",
      "20                        0                    0   \n",
      "...                     ...                  ...   \n",
      "1537                      0                    0   \n",
      "1538                      0                    0   \n",
      "1545                      1                    0   \n",
      "1557                      0                    0   \n",
      "1566                      0                    0   \n",
      "\n",
      "                                                   tags product_color  \\\n",
      "8     slim dress,summer dress,womenshortsleevedre,Sl...         black   \n",
      "15    Summer,Plus Size,Shirt,Sleeve,cute,Long Sleeve...         Black   \n",
      "16    Summer,fashion women,Fashion,Mini,Dresses,Tops...           red   \n",
      "18    Summer,Fashion,tunic,Women Vest,Tank,Tops,tops...          blue   \n",
      "20    Fashion,Floral print,Tops,sexy bikini,Swimwear...         green   \n",
      "...                                                 ...           ...   \n",
      "1537  Summer,Plus Size,Mini,plus size dress,Dress,Mi...          grey   \n",
      "1538  Shorts,Lace,Halter,Pleated,Loose,Backs,Outfits...         white   \n",
      "1545  Summer,Fashion,cute,teeshirthomme,summer t-shi...         black   \n",
      "1557  Summer,Plus Size,club dresses,Dress,summer dre...         green   \n",
      "1566  Summer,Shift Dress,Sleeve,shirt dress,long dre...         black   \n",
      "\n",
      "     product_variation_size_id  product_variation_inventory  \\\n",
      "8                            M                           50   \n",
      "15                           S                           50   \n",
      "16                           L                           50   \n",
      "18                           S                           50   \n",
      "20                           S                           50   \n",
      "...                        ...                          ...   \n",
      "1537                         S                           50   \n",
      "1538                       XXS                            5   \n",
      "1545                         S                           50   \n",
      "1557                         S                           50   \n",
      "1566                         S                           50   \n",
      "\n",
      "     shipping_option_name  shipping_option_price  shipping_is_express  \\\n",
      "8      Livraison standard                      2                    0   \n",
      "15     Livraison standard                      3                    0   \n",
      "16     Livraison standard                      2                    0   \n",
      "18     Livraison standard                      3                    0   \n",
      "20     Livraison standard                      3                    0   \n",
      "...                   ...                    ...                  ...   \n",
      "1537   Livraison standard                      2                    0   \n",
      "1538   Livraison standard                      3                    0   \n",
      "1545   Livraison standard                      3                    0   \n",
      "1557   Livraison standard                      3                    0   \n",
      "1566   Livraison standard                      3                    0   \n",
      "\n",
      "      countries_shipped_to  inventory_total  has_urgency_banner  \\\n",
      "8                       36               50                 1.0   \n",
      "15                      41               50                 NaN   \n",
      "16                      34               50                 NaN   \n",
      "18                      43               50                 NaN   \n",
      "20                      69               50                 NaN   \n",
      "...                    ...              ...                 ...   \n",
      "1537                    23               50                 NaN   \n",
      "1538                    38               50                 1.0   \n",
      "1545                    39               50                 NaN   \n",
      "1557                    36               50                 NaN   \n",
      "1566                    46               50                 NaN   \n",
      "\n",
      "            urgency_text origin_country    merchant_title  \\\n",
      "8     Quantité limitée !             CN   chenxiangjunjun   \n",
      "15                   NaN             CN  Petha's boutique   \n",
      "16                   NaN             CN         2312hangm   \n",
      "18                   NaN             CN          centper3   \n",
      "20                   NaN             CN            uranus   \n",
      "...                  ...            ...               ...   \n",
      "1537                 NaN             CN             ainiu   \n",
      "1538  Quantité limitée !             CN     Jinqianbao888   \n",
      "1545                 NaN             CN           taishon   \n",
      "1557                 NaN             CN         HOT DRESS   \n",
      "1566                 NaN             CN           SCOMELY   \n",
      "\n",
      "                     merchant_name             merchant_info_subtitle  \\\n",
      "8                  chenxiangjunjun     82 % avis positifs (330 notes)   \n",
      "15                  pethasboutique  86 % avis positifs (39,381 notes)   \n",
      "16                       2312hangm                      (6,302 notes)   \n",
      "18                        centper3  87 % avis positifs (22,089 notes)   \n",
      "20    hongkonghaijietradecolimited  91 % avis positifs (23,609 notes)   \n",
      "...                            ...                                ...   \n",
      "1537                         ainiu   89 % avis positifs (9,325 notes)   \n",
      "1538                 jinqianbao888  86 % avis positifs (40,245 notes)   \n",
      "1545                       taishon  83 % avis positifs (24,564 notes)   \n",
      "1557                      hotdress  84 % avis positifs (51,369 notes)   \n",
      "1566                       scomely   86 % avis positifs (1,926 notes)   \n",
      "\n",
      "      merchant_rating_count  merchant_rating               merchant_id  \\\n",
      "8                       330         3.803030  5d42980e8388970d32294ddc   \n",
      "15                    39381         4.066326  566012f6769a5629aefca555   \n",
      "16                     6302         3.958426  5b8beef49996c87b299cdbec   \n",
      "18                    22089         4.081624  59cdc2112351344fc0dfa54f   \n",
      "20                    23609         4.256597  5576bb43de4a8c24953ae98f   \n",
      "...                     ...              ...                       ...   \n",
      "1537                   9325         4.122466  5937930e188f3d1bd209896d   \n",
      "1538                  40245         3.997590  55769de4fa0be7249554bce2   \n",
      "1545                  24564         3.928880  5763e55cc6053f5e70522ad7   \n",
      "1557                  51369         3.968269  539937d634067e06707b1a8e   \n",
      "1566                   1926         4.071651  593402ae25c4f54ed4e0abdf   \n",
      "\n",
      "      merchant_has_profile_picture  \\\n",
      "8                                0   \n",
      "15                               0   \n",
      "16                               0   \n",
      "18                               0   \n",
      "20                               0   \n",
      "...                            ...   \n",
      "1537                             0   \n",
      "1538                             0   \n",
      "1545                             0   \n",
      "1557                             1   \n",
      "1566                             0   \n",
      "\n",
      "                               merchant_profile_picture  \\\n",
      "8                                                   NaN   \n",
      "15                                                  NaN   \n",
      "16                                                  NaN   \n",
      "18                                                  NaN   \n",
      "20                                                  NaN   \n",
      "...                                                 ...   \n",
      "1537                                                NaN   \n",
      "1538                                                NaN   \n",
      "1545                                                NaN   \n",
      "1557  https://s3-us-west-1.amazonaws.com/sweeper-pro...   \n",
      "1566                                                NaN   \n",
      "\n",
      "                                          product_url  \\\n",
      "8     https://www.wish.com/c/5e6f1fb7fe4a5bb4b8bf36e5   \n",
      "15    https://www.wish.com/c/5c85d47641ec3b55d4d14f79   \n",
      "16    https://www.wish.com/c/5cd3e795ebe403118bbc0f89   \n",
      "18    https://www.wish.com/c/5a8f82375e2ae101c8913122   \n",
      "20    https://www.wish.com/c/57416238fc6f7d5d698f3c9f   \n",
      "...                                               ...   \n",
      "1537  https://www.wish.com/c/5c3befd857ceb9569c5dbb8d   \n",
      "1538  https://www.wish.com/c/5ad96a001c6def05447630a0   \n",
      "1545  https://www.wish.com/c/5c6ccaed29eb172d628bb404   \n",
      "1557  https://www.wish.com/c/56f0dab6277db57b2a18e14e   \n",
      "1566  https://www.wish.com/c/5d1060d39ed281190dfcec91   \n",
      "\n",
      "                                        product_picture  \\\n",
      "8     https://contestimg.wish.com/api/webimage/5e6f1...   \n",
      "15    https://contestimg.wish.com/api/webimage/5c85d...   \n",
      "16    https://contestimg.wish.com/api/webimage/5cd3e...   \n",
      "18    https://contestimg.wish.com/api/webimage/5a8f8...   \n",
      "20    https://contestimg.wish.com/api/webimage/57416...   \n",
      "...                                                 ...   \n",
      "1537  https://contestimg.wish.com/api/webimage/5c3be...   \n",
      "1538  https://contestimg.wish.com/api/webimage/5ad96...   \n",
      "1545  https://contestimg.wish.com/api/webimage/5c6cc...   \n",
      "1557  https://contestimg.wish.com/api/webimage/56f0d...   \n",
      "1566  https://contestimg.wish.com/api/webimage/5d106...   \n",
      "\n",
      "                    product_id   theme crawl_month cwarl_month  \n",
      "8     5e6f1fb7fe4a5bb4b8bf36e5  summer     2020-08  2020-08-01  \n",
      "15    5c85d47641ec3b55d4d14f79  summer     2020-08  2020-08-01  \n",
      "16    5cd3e795ebe403118bbc0f89  summer     2020-08  2020-08-01  \n",
      "18    5a8f82375e2ae101c8913122  summer     2020-08  2020-08-01  \n",
      "20    57416238fc6f7d5d698f3c9f  summer     2020-08  2020-08-01  \n",
      "...                        ...     ...         ...         ...  \n",
      "1537  5c3befd857ceb9569c5dbb8d  summer     2020-08  2020-08-01  \n",
      "1538  5ad96a001c6def05447630a0  summer     2020-08  2020-08-01  \n",
      "1545  5c6ccaed29eb172d628bb404  summer     2020-08  2020-08-01  \n",
      "1557  56f0dab6277db57b2a18e14e  summer     2020-08  2020-08-01  \n",
      "1566  5d1060d39ed281190dfcec91  summer     2020-08  2020-08-01  \n",
      "\n",
      "[328 rows x 44 columns]\n"
     ]
    }
   ],
   "source": [
    "### Ex-5-Task-7\n",
    "mean = None\n",
    "Q3 = None \n",
    "records = None \n",
    "# Find mean and 3rd quantile of the price from product dataframe and get all the records that lies between mean and Q3\n",
    "### BEGIN SOLUTION \n",
    "# YOUR CODE HERE\n",
    "mean = df_product['price'].mean()\n",
    "Q3 = df_product['price'].quantile(0.75)\n",
    "records = df_product[(df_product['price'] >= mean) & (df_product['price'] <= Q3)]\n",
    "\n",
    "print(mean)\n",
    "print(Q3)\n",
    "print(records)\n",
    "\n",
    "### END SOLUTION"
   ]
  },
  {
   "cell_type": "code",
   "execution_count": null,
   "id": "c74fcd54",
   "metadata": {
    "deletable": false,
    "editable": false,
    "nbgrader": {
     "cell_type": "code",
     "checksum": "f2b903d71bd567696b5048dff622901e",
     "grade": true,
     "grade_id": "cell-ccd387feabc78546",
     "locked": true,
     "points": 1,
     "schema_version": 3,
     "solution": false,
     "task": false
    }
   },
   "outputs": [],
   "source": []
  },
  {
   "cell_type": "code",
   "execution_count": 155,
   "id": "72f11aab",
   "metadata": {
    "deletable": false,
    "nbgrader": {
     "cell_type": "code",
     "checksum": "3bf86349ae569eaa410f5b3c71f319a2",
     "grade": false,
     "grade_id": "cell-23a0fd79d3c282e8",
     "locked": false,
     "schema_version": 3,
     "solution": true,
     "task": false
    }
   },
   "outputs": [
    {
     "name": "stdout",
     "output_type": "stream",
     "text": [
      "                                                  title  \\\n",
      "0     2020 Summer Vintage Flamingo Print  Pajamas Se...   \n",
      "1     SSHOUSE Summer Casual Sleeveless Soirée Party ...   \n",
      "3     Hot Summer Cool T-shirt pour les femmes Mode T...   \n",
      "14    2019 Summer Women's Fashion Nouvelle robe sans...   \n",
      "31    Sweet Beading Cami Débardeurs pour femmes Spag...   \n",
      "...                                                 ...   \n",
      "1545  Summer Fashion Cute \" Dog Mom \" Letter Printed...   \n",
      "1551  New Fashion Women's Summer Drawstring Pants  L...   \n",
      "1556  Summer Beach Safety Shorts Leggings Lady Leggi...   \n",
      "1562   Summer Women s Fashion Lace Up Tie Pants Plus...   \n",
      "1570  Nouveautés Hommes Siwmwear Beach-Shorts Hommes...   \n",
      "\n",
      "                                             title_orig  price  retail_price  \\\n",
      "0     2020 Summer Vintage Flamingo Print  Pajamas Se...     16            14   \n",
      "1      Women's Casual Summer Sleeveless Sexy Mini Dress      8            22   \n",
      "3     Hot Summer Cool T Shirt for Women Fashion Tops...      8             8   \n",
      "14    2019 Summer Women's Fashion New Sleeveless Pol...      2             2   \n",
      "31    Sweet Beading Cami Tank Tops for Women Spaghet...      5             6   \n",
      "...                                                 ...    ...           ...   \n",
      "1545  Summer Fashion  Cute \" Dog  Mom \" Letter Print...      9             8   \n",
      "1551  New Fashion Women's Summer Drawstring Pants  L...      7             6   \n",
      "1556  Summer Beach Safety Shorts Lady Leggings Pants...      7             6   \n",
      "1562   Summer Women s Fashion Lace Up Tie Pants Plus...      4             6   \n",
      "1570  New Men Siwmwear Beach-Shorts Men Summer Quick...      5            19   \n",
      "\n",
      "     currency_buyer  units_sold  uses_ad_boosts  rating  rating_count  \\\n",
      "0               EUR         100               0    3.76            54   \n",
      "1               EUR       20000               1    3.45          6135   \n",
      "3               EUR        5000               1    4.03           579   \n",
      "14              EUR       20000               1    3.65          2457   \n",
      "31              EUR        1000               1    4.37           217   \n",
      "...             ...         ...             ...     ...           ...   \n",
      "1545            EUR        5000               0    4.28          1120   \n",
      "1551            EUR         100               1    3.67            18   \n",
      "1556            EUR        1000               1    3.98           129   \n",
      "1562            EUR         100               0    3.77            47   \n",
      "1570            EUR         100               0    3.71            59   \n",
      "\n",
      "      rating_five_count  rating_four_count  rating_three_count  \\\n",
      "0                  26.0                8.0                10.0   \n",
      "1                2269.0             1027.0              1118.0   \n",
      "3                 295.0              119.0                87.0   \n",
      "14                984.0              481.0               459.0   \n",
      "31                137.0               42.0                24.0   \n",
      "...                 ...                ...                 ...   \n",
      "1545              698.0              205.0               108.0   \n",
      "1551                7.0                3.0                 5.0   \n",
      "1556               64.0               21.0                28.0   \n",
      "1562               22.0                7.0                 8.0   \n",
      "1570               24.0               15.0                 8.0   \n",
      "\n",
      "      rating_two_count  rating_one_count  badges_count  badge_local_product  \\\n",
      "0                  1.0               9.0             0                    0   \n",
      "1                644.0            1077.0             0                    0   \n",
      "3                 42.0              36.0             0                    0   \n",
      "14               206.0             327.0             0                    0   \n",
      "31                 9.0               5.0             1                    0   \n",
      "...                ...               ...           ...                  ...   \n",
      "1545              47.0              62.0             1                    0   \n",
      "1551               1.0               2.0             0                    0   \n",
      "1556               9.0               7.0             1                    1   \n",
      "1562               5.0               5.0             0                    0   \n",
      "1570               3.0               9.0             0                    0   \n",
      "\n",
      "      badge_product_quality  badge_fast_shipping  \\\n",
      "0                         0                    0   \n",
      "1                         0                    0   \n",
      "3                         0                    0   \n",
      "14                        0                    0   \n",
      "31                        1                    0   \n",
      "...                     ...                  ...   \n",
      "1545                      1                    0   \n",
      "1551                      0                    0   \n",
      "1556                      0                    0   \n",
      "1562                      0                    0   \n",
      "1570                      0                    0   \n",
      "\n",
      "                                                   tags product_color  \\\n",
      "0     Summer,Fashion,womenunderwearsuit,printedpajam...         white   \n",
      "1     Mini,womens dresses,Summer,Patchwork,fashion d...         green   \n",
      "3     Summer,Shorts,Cotton,Cotton T Shirt,Sleeve,pri...         black   \n",
      "14    Summer,Fashion,Mini,Dress,Loose,Polkas,V-neck,...        yellow   \n",
      "31    tank top women,Vest,Beading,Cotton Shirt,camis...         black   \n",
      "...                                                 ...           ...   \n",
      "1545  Summer,Fashion,cute,teeshirthomme,summer t-shi...         black   \n",
      "1551  drawstringpant,Summer,Shorts,Bottom,pants,Loos...         khaki   \n",
      "1556  undersafetypant,Summer,Underwear,Panties,high ...         white   \n",
      "1562  Summer,Shorts,Lace,pants,Waist,Short pants,Yel...           red   \n",
      "1570  runningshort,Beach Shorts,beachpant,menbeachsh...         white   \n",
      "\n",
      "     product_variation_size_id  product_variation_inventory  \\\n",
      "0                            M                           50   \n",
      "1                           XS                           50   \n",
      "3                            M                           50   \n",
      "14                           S                            1   \n",
      "31                         XXS                           10   \n",
      "...                        ...                          ...   \n",
      "1545                         S                           50   \n",
      "1551                         M                           44   \n",
      "1556                        XS                           50   \n",
      "1562                         S                            1   \n",
      "1570                    SIZE S                           15   \n",
      "\n",
      "     shipping_option_name  shipping_option_price  shipping_is_express  \\\n",
      "0      Livraison standard                      4                    0   \n",
      "1      Livraison standard                      2                    0   \n",
      "3      Livraison standard                      2                    0   \n",
      "14     Livraison standard                      1                    0   \n",
      "31     Livraison standard                      2                    0   \n",
      "...                   ...                    ...                  ...   \n",
      "1545   Livraison standard                      3                    0   \n",
      "1551   Livraison standard                      2                    0   \n",
      "1556   Livraison standard                      2                    0   \n",
      "1562    Standard Shipping                      1                    0   \n",
      "1570   Livraison standard                      2                    0   \n",
      "\n",
      "      countries_shipped_to  inventory_total  has_urgency_banner  \\\n",
      "0                       34               50                 1.0   \n",
      "1                       41               50                 1.0   \n",
      "3                       41               50                 NaN   \n",
      "14                      36               50                 NaN   \n",
      "31                      38               50                 NaN   \n",
      "...                    ...              ...                 ...   \n",
      "1545                    39               50                 NaN   \n",
      "1551                    23               50                 NaN   \n",
      "1556                    27               50                 NaN   \n",
      "1562                    41               50                 NaN   \n",
      "1570                    11               50                 NaN   \n",
      "\n",
      "            urgency_text origin_country             merchant_title  \\\n",
      "0     Quantité limitée !             CN                   zgrdejia   \n",
      "1     Quantité limitée !             CN                  SaraHouse   \n",
      "3                    NaN             CN                   allenfan   \n",
      "14                   NaN             CN               Pentiumhorse   \n",
      "31                   NaN             CN  New Fashion Shopping Park   \n",
      "...                  ...            ...                        ...   \n",
      "1545                 NaN             CN                    taishon   \n",
      "1551                 NaN             CN            Suyi Technology   \n",
      "1556                 NaN             CN              Shades Darker   \n",
      "1562                 NaN             CN                  SaraHouse   \n",
      "1570                 NaN             CN                 shixueying   \n",
      "\n",
      "                    merchant_name                  merchant_info_subtitle  \\\n",
      "0                        zgrdejia                             (568 notes)   \n",
      "1                       sarahouse       83 % avis positifs (17,752 notes)   \n",
      "3                        allenfan                          (23,832 notes)   \n",
      "14                   pentiumhorse                          (55,499 notes)   \n",
      "31         newfashionshoppingpark       87 % avis positifs (44,837 notes)   \n",
      "...                           ...                                     ...   \n",
      "1545                      taishon       83 % avis positifs (24,564 notes)   \n",
      "1551  greatexpectationstechnology       86 % avis positifs (12,309 notes)   \n",
      "1556                 shadesdarker                             (794 notes)   \n",
      "1562                    sarahouse  83% Positive Feedback (17,752 ratings)   \n",
      "1570                   shixueying          86 % avis positifs (210 notes)   \n",
      "\n",
      "      merchant_rating_count  merchant_rating               merchant_id  \\\n",
      "0                       568         4.128521  595097d6a26f6e070cb878d1   \n",
      "1                     17752         3.899673  56458aa03a698c35c9050988   \n",
      "3                     23832         4.020435  58cfdefdacb37b556efdff7c   \n",
      "14                    55499         4.138885  5926c5ace8ff5525241b368d   \n",
      "31                    44837         4.065905  54d30f53dc8ce133f79b434d   \n",
      "...                     ...              ...                       ...   \n",
      "1545                  24564         3.928880  5763e55cc6053f5e70522ad7   \n",
      "1551                  12309         4.045170  5acaf29d5ebcfd72403106a8   \n",
      "1556                    794         4.277078  58b7d6dd3c18975a18817d64   \n",
      "1562                  17752         3.899673  56458aa03a698c35c9050988   \n",
      "1570                    210         3.961905  5b42da1bf64320209fc8da69   \n",
      "\n",
      "      merchant_has_profile_picture  \\\n",
      "0                                0   \n",
      "1                                0   \n",
      "3                                0   \n",
      "14                               0   \n",
      "31                               0   \n",
      "...                            ...   \n",
      "1545                             0   \n",
      "1551                             1   \n",
      "1556                             0   \n",
      "1562                             0   \n",
      "1570                             0   \n",
      "\n",
      "                               merchant_profile_picture  \\\n",
      "0                                                   NaN   \n",
      "1                                                   NaN   \n",
      "3                                                   NaN   \n",
      "14                                                  NaN   \n",
      "31                                                  NaN   \n",
      "...                                                 ...   \n",
      "1545                                                NaN   \n",
      "1551  https://s3-us-west-1.amazonaws.com/sweeper-pro...   \n",
      "1556                                                NaN   \n",
      "1562                                                NaN   \n",
      "1570                                                NaN   \n",
      "\n",
      "                                          product_url  \\\n",
      "0     https://www.wish.com/c/5e9ae51d43d6a96e303acdb0   \n",
      "1     https://www.wish.com/c/58940d436a0d3d5da4e95a38   \n",
      "3     https://www.wish.com/c/5cedf17ad1d44c52c59e4aca   \n",
      "14    https://www.wish.com/c/5cc2ce18bc97595b6549fa14   \n",
      "31    https://www.wish.com/c/5c9ee457c233fd74ef4c8a84   \n",
      "...                                               ...   \n",
      "1545  https://www.wish.com/c/5c6ccaed29eb172d628bb404   \n",
      "1551  https://www.wish.com/c/5cc7b4c98b94871ee33b33b6   \n",
      "1556  https://www.wish.com/c/5cb1abbb53de5b5d80d22e2e   \n",
      "1562  https://www.wish.com/c/5d58daef3159a812b05933d2   \n",
      "1570  https://www.wish.com/c/5e74be96034d613d42b52dfe   \n",
      "\n",
      "                                        product_picture  \\\n",
      "0     https://contestimg.wish.com/api/webimage/5e9ae...   \n",
      "1     https://contestimg.wish.com/api/webimage/58940...   \n",
      "3     https://contestimg.wish.com/api/webimage/5cedf...   \n",
      "14    https://contestimg.wish.com/api/webimage/5cc2c...   \n",
      "31    https://contestimg.wish.com/api/webimage/5c9ee...   \n",
      "...                                                 ...   \n",
      "1545  https://contestimg.wish.com/api/webimage/5c6cc...   \n",
      "1551  https://contestimg.wish.com/api/webimage/5cc7b...   \n",
      "1556  https://contestimg.wish.com/api/webimage/5cb1a...   \n",
      "1562  https://contestimg.wish.com/api/webimage/5d58d...   \n",
      "1570  https://contestimg.wish.com/api/webimage/5e74b...   \n",
      "\n",
      "                    product_id   theme crawl_month cwarl_month  \n",
      "0     5e9ae51d43d6a96e303acdb0  summer     2020-08  2020-08-01  \n",
      "1     58940d436a0d3d5da4e95a38  summer     2020-08  2020-08-01  \n",
      "3     5cedf17ad1d44c52c59e4aca  summer     2020-08  2020-08-01  \n",
      "14    5cc2ce18bc97595b6549fa14  summer     2020-08  2020-08-01  \n",
      "31    5c9ee457c233fd74ef4c8a84  summer     2020-08  2020-08-01  \n",
      "...                        ...     ...         ...         ...  \n",
      "1545  5c6ccaed29eb172d628bb404  summer     2020-08  2020-08-01  \n",
      "1551  5cc7b4c98b94871ee33b33b6  summer     2020-08  2020-08-01  \n",
      "1556  5cb1abbb53de5b5d80d22e2e  summer     2020-08  2020-08-01  \n",
      "1562  5d58daef3159a812b05933d2  summer     2020-08  2020-08-01  \n",
      "1570  5e74be96034d613d42b52dfe  summer     2020-08  2020-08-01  \n",
      "\n",
      "[294 rows x 44 columns]\n"
     ]
    }
   ],
   "source": [
    "### Ex-5-Task-8\n",
    "summer_product = None \n",
    "## Find all the row in product dataframe containing 'summer' keyword in its title. Make sure the string is lower to get all the records. \n",
    "### BEGIN SOLUTION \n",
    "# YOUR CODE HERE\n",
    "summer_product = df_product[df_product['title'].str.lower().str.contains('summer')]\n",
    "print(summer_product)\n",
    "\n",
    "### END SOLUTION"
   ]
  },
  {
   "cell_type": "code",
   "execution_count": null,
   "id": "819c57cd",
   "metadata": {
    "deletable": false,
    "editable": false,
    "nbgrader": {
     "cell_type": "code",
     "checksum": "f87b654f5dfedb8dcfd6ffd344ca25bd",
     "grade": true,
     "grade_id": "cell-251fe461d71bd244",
     "locked": true,
     "points": 1,
     "schema_version": 3,
     "solution": false,
     "task": false
    }
   },
   "outputs": [],
   "source": []
  },
  {
   "cell_type": "markdown",
   "id": "146a4ec1",
   "metadata": {
    "deletable": false,
    "editable": false,
    "nbgrader": {
     "cell_type": "markdown",
     "checksum": "0090d796121a689f7fa908fa1746a351",
     "grade": false,
     "grade_id": "cell-1a1900ac9c9c957e",
     "locked": true,
     "schema_version": 3,
     "solution": false,
     "task": false
    }
   },
   "source": [
    "## Handling Missing Data"
   ]
  },
  {
   "cell_type": "code",
   "execution_count": 156,
   "id": "badb076d",
   "metadata": {
    "deletable": false,
    "nbgrader": {
     "cell_type": "code",
     "checksum": "b444343b03d223781552a9159de4dce9",
     "grade": false,
     "grade_id": "cell-e4dcb1feba437a37",
     "locked": false,
     "schema_version": 3,
     "solution": true,
     "task": false
    }
   },
   "outputs": [
    {
     "name": "stdout",
     "output_type": "stream",
     "text": [
      "title                              0\n",
      "title_orig                         0\n",
      "price                              0\n",
      "retail_price                       0\n",
      "currency_buyer                     0\n",
      "units_sold                         0\n",
      "uses_ad_boosts                     0\n",
      "rating                             0\n",
      "rating_count                       0\n",
      "rating_five_count                 45\n",
      "rating_four_count                 45\n",
      "rating_three_count                45\n",
      "rating_two_count                  45\n",
      "rating_one_count                  45\n",
      "badges_count                       0\n",
      "badge_local_product                0\n",
      "badge_product_quality              0\n",
      "badge_fast_shipping                0\n",
      "tags                               0\n",
      "product_color                     41\n",
      "product_variation_size_id         14\n",
      "product_variation_inventory        0\n",
      "shipping_option_name               0\n",
      "shipping_option_price              0\n",
      "shipping_is_express                0\n",
      "countries_shipped_to               0\n",
      "inventory_total                    0\n",
      "has_urgency_banner              1100\n",
      "urgency_text                    1100\n",
      "origin_country                    17\n",
      "merchant_title                     0\n",
      "merchant_name                      4\n",
      "merchant_info_subtitle             1\n",
      "merchant_rating_count              0\n",
      "merchant_rating                    0\n",
      "merchant_id                        0\n",
      "merchant_has_profile_picture       0\n",
      "merchant_profile_picture        1347\n",
      "product_url                        0\n",
      "product_picture                    0\n",
      "product_id                         0\n",
      "theme                              0\n",
      "crawl_month                        0\n",
      "cwarl_month                        0\n",
      "dtype: int64\n"
     ]
    }
   ],
   "source": [
    "### Ex-6-Task-1\n",
    "count_na = None\n",
    "# Count the number of null data in each columns\n",
    "### BEGIN SOLUTION \n",
    "# YOUR CODE HERE\n",
    "count_na = df_product.isnull().sum()\n",
    "print(count_na)\n",
    "### END SOLUTION"
   ]
  },
  {
   "cell_type": "code",
   "execution_count": null,
   "id": "69336f3c",
   "metadata": {
    "deletable": false,
    "editable": false,
    "nbgrader": {
     "cell_type": "code",
     "checksum": "5d9a129e660fd144c1d149a86960b1cc",
     "grade": true,
     "grade_id": "cell-bfb77311b2d473eb",
     "locked": true,
     "points": 1,
     "schema_version": 3,
     "solution": false,
     "task": false
    }
   },
   "outputs": [],
   "source": []
  },
  {
   "cell_type": "code",
   "execution_count": 157,
   "id": "b573a4b3",
   "metadata": {
    "deletable": false,
    "nbgrader": {
     "cell_type": "code",
     "checksum": "13ee28ffb023462c24066f20e378469b",
     "grade": false,
     "grade_id": "cell-7590f5c0fd1abc99",
     "locked": false,
     "schema_version": 3,
     "solution": true,
     "task": false
    }
   },
   "outputs": [
    {
     "name": "stderr",
     "output_type": "stream",
     "text": [
      "/var/folders/k5/y70cdbnd4p52p6lw24_rbrl40000gn/T/ipykernel_95370/4137627370.py:7: FutureWarning: A value is trying to be set on a copy of a DataFrame or Series through chained assignment using an inplace method.\n",
      "The behavior will change in pandas 3.0. This inplace method will never work because the intermediate object on which we are setting values always behaves as a copy.\n",
      "\n",
      "For example, when doing 'df[col].method(value, inplace=True)', try using 'df.method({col: value}, inplace=True)' or df[col] = df[col].method(value) instead, to perform the operation inplace on the original object.\n",
      "\n",
      "\n",
      "  df_product['product_color'].fillna(df_product['product_color'].mode()[0], inplace=True)\n",
      "/var/folders/k5/y70cdbnd4p52p6lw24_rbrl40000gn/T/ipykernel_95370/4137627370.py:8: FutureWarning: A value is trying to be set on a copy of a DataFrame or Series through chained assignment using an inplace method.\n",
      "The behavior will change in pandas 3.0. This inplace method will never work because the intermediate object on which we are setting values always behaves as a copy.\n",
      "\n",
      "For example, when doing 'df[col].method(value, inplace=True)', try using 'df.method({col: value}, inplace=True)' or df[col] = df[col].method(value) instead, to perform the operation inplace on the original object.\n",
      "\n",
      "\n",
      "  df_product['rating_five_count'].fillna(df_product['rating_five_count'].mean(), inplace=True)\n",
      "/var/folders/k5/y70cdbnd4p52p6lw24_rbrl40000gn/T/ipykernel_95370/4137627370.py:9: FutureWarning: A value is trying to be set on a copy of a DataFrame or Series through chained assignment using an inplace method.\n",
      "The behavior will change in pandas 3.0. This inplace method will never work because the intermediate object on which we are setting values always behaves as a copy.\n",
      "\n",
      "For example, when doing 'df[col].method(value, inplace=True)', try using 'df.method({col: value}, inplace=True)' or df[col] = df[col].method(value) instead, to perform the operation inplace on the original object.\n",
      "\n",
      "\n",
      "  df_product['rating_four_count'].fillna(df_product['rating_four_count'].median(), inplace=True)\n"
     ]
    }
   ],
   "source": [
    "### Ex-6-Task-2\n",
    "\n",
    "# Impute the  product color with maximum occur value as it is the categorical columns \n",
    "# Impute the rating five count by mean and rating four count by median of respective columns\n",
    "### BEGIN SOLUTION \n",
    "# YOUR CODE HERE\n",
    "df_product['product_color'].fillna(df_product['product_color'].mode()[0], inplace=True)\n",
    "df_product['rating_five_count'].fillna(df_product['rating_five_count'].mean(), inplace=True)\n",
    "df_product['rating_four_count'].fillna(df_product['rating_four_count'].median(), inplace=True)\n",
    "### END SOLUTION"
   ]
  },
  {
   "cell_type": "code",
   "execution_count": null,
   "id": "48c2fbcf",
   "metadata": {
    "deletable": false,
    "editable": false,
    "nbgrader": {
     "cell_type": "code",
     "checksum": "cee2a0941f478af7d7cb80afd8c64a4c",
     "grade": true,
     "grade_id": "cell-f9ddfbd10b3a286f",
     "locked": true,
     "points": 2,
     "schema_version": 3,
     "solution": false,
     "task": false
    }
   },
   "outputs": [],
   "source": []
  },
  {
   "cell_type": "markdown",
   "id": "89931b5e",
   "metadata": {
    "deletable": false,
    "editable": false,
    "nbgrader": {
     "cell_type": "markdown",
     "checksum": "fb13b59dc2125e488b76ff3a55d9c7f5",
     "grade": false,
     "grade_id": "cell-63b225fd1ca69870",
     "locked": true,
     "schema_version": 3,
     "solution": false,
     "task": false
    }
   },
   "source": [
    "## Data Cleaning"
   ]
  },
  {
   "cell_type": "markdown",
   "id": "8ba952b9",
   "metadata": {
    "deletable": false,
    "editable": false,
    "nbgrader": {
     "cell_type": "markdown",
     "checksum": "8ad4302b5ef646270946c75b7bc90022",
     "grade": false,
     "grade_id": "cell-2f5b47c21f602b61",
     "locked": true,
     "schema_version": 3,
     "solution": false,
     "task": false
    }
   },
   "source": [
    "### Removing Duplicates"
   ]
  },
  {
   "cell_type": "code",
   "execution_count": 158,
   "id": "2853ae66",
   "metadata": {
    "deletable": false,
    "nbgrader": {
     "cell_type": "code",
     "checksum": "80bb7c5ced28678e68f963851ce384d5",
     "grade": false,
     "grade_id": "cell-7680cf8b324c91be",
     "locked": false,
     "schema_version": 3,
     "solution": true,
     "task": false
    }
   },
   "outputs": [
    {
     "name": "stdout",
     "output_type": "stream",
     "text": [
      "34\n",
      "                                                  title  \\\n",
      "0     2020 Summer Vintage Flamingo Print  Pajamas Se...   \n",
      "1     SSHOUSE Summer Casual Sleeveless Soirée Party ...   \n",
      "2     2020 Nouvelle Arrivée Femmes Printemps et Été ...   \n",
      "3     Hot Summer Cool T-shirt pour les femmes Mode T...   \n",
      "4     Femmes Shorts d'été à lacets taille élastique ...   \n",
      "...                                                 ...   \n",
      "1568  Nouvelle Mode Femmes Bohême Pissenlit Imprimer...   \n",
      "1569  10 couleurs femmes shorts d'été lacent ceintur...   \n",
      "1570  Nouveautés Hommes Siwmwear Beach-Shorts Hommes...   \n",
      "1571  Mode femmes d'été sans manches robes col en V ...   \n",
      "1572  Pantalon de yoga pour femmes à la mode Slim Fi...   \n",
      "\n",
      "                                             title_orig  price  retail_price  \\\n",
      "0     2020 Summer Vintage Flamingo Print  Pajamas Se...     16            14   \n",
      "1      Women's Casual Summer Sleeveless Sexy Mini Dress      8            22   \n",
      "2     2020 New Arrival Women Spring and Summer Beach...      8            43   \n",
      "3     Hot Summer Cool T Shirt for Women Fashion Tops...      8             8   \n",
      "4     Women Summer Shorts Lace Up Elastic Waistband ...      2             3   \n",
      "...                                                 ...    ...           ...   \n",
      "1568  New Fashion Women Bohemia Dandelion Print Tee ...      6             9   \n",
      "1569  10 Color Women Summer Shorts Lace Up Elastic W...      2            56   \n",
      "1570  New Men Siwmwear Beach-Shorts Men Summer Quick...      5            19   \n",
      "1571  Fashion Women Summer Sleeveless Dresses V Neck...     13            11   \n",
      "1572  Fashion Women Yoga Pants Slim Fit Fitness Runn...      7             6   \n",
      "\n",
      "     currency_buyer  units_sold  uses_ad_boosts  rating  rating_count  \\\n",
      "0               EUR         100               0    3.76            54   \n",
      "1               EUR       20000               1    3.45          6135   \n",
      "2               EUR         100               0    3.57            14   \n",
      "3               EUR        5000               1    4.03           579   \n",
      "4               EUR         100               1    3.10            20   \n",
      "...             ...         ...             ...     ...           ...   \n",
      "1568            EUR       10000               1    4.08          1367   \n",
      "1569            EUR         100               1    3.07            28   \n",
      "1570            EUR         100               0    3.71            59   \n",
      "1571            EUR         100               0    2.50             2   \n",
      "1572            EUR         100               1    4.07            14   \n",
      "\n",
      "      rating_five_count  rating_four_count  rating_three_count  \\\n",
      "0                  26.0                8.0                10.0   \n",
      "1                2269.0             1027.0              1118.0   \n",
      "2                   5.0                4.0                 2.0   \n",
      "3                 295.0              119.0                87.0   \n",
      "4                   6.0                4.0                 2.0   \n",
      "...                 ...                ...                 ...   \n",
      "1568              722.0              293.0               185.0   \n",
      "1569               11.0                3.0                 1.0   \n",
      "1570               24.0               15.0                 8.0   \n",
      "1571                0.0                1.0                 0.0   \n",
      "1572                8.0                3.0                 1.0   \n",
      "\n",
      "      rating_two_count  rating_one_count  badges_count  badge_local_product  \\\n",
      "0                  1.0               9.0             0                    0   \n",
      "1                644.0            1077.0             0                    0   \n",
      "2                  0.0               3.0             0                    0   \n",
      "3                 42.0              36.0             0                    0   \n",
      "4                  2.0               6.0             0                    0   \n",
      "...                ...               ...           ...                  ...   \n",
      "1568              77.0              90.0             0                    0   \n",
      "1569               3.0              10.0             0                    0   \n",
      "1570               3.0               9.0             0                    0   \n",
      "1571               0.0               1.0             0                    0   \n",
      "1572               0.0               2.0             0                    0   \n",
      "\n",
      "      badge_product_quality  badge_fast_shipping  \\\n",
      "0                         0                    0   \n",
      "1                         0                    0   \n",
      "2                         0                    0   \n",
      "3                         0                    0   \n",
      "4                         0                    0   \n",
      "...                     ...                  ...   \n",
      "1568                      0                    0   \n",
      "1569                      0                    0   \n",
      "1570                      0                    0   \n",
      "1571                      0                    0   \n",
      "1572                      0                    0   \n",
      "\n",
      "                                                   tags product_color  \\\n",
      "0     Summer,Fashion,womenunderwearsuit,printedpajam...         white   \n",
      "1     Mini,womens dresses,Summer,Patchwork,fashion d...         green   \n",
      "2     Summer,cardigan,women beachwear,chiffon,Sexy w...  leopardprint   \n",
      "3     Summer,Shorts,Cotton,Cotton T Shirt,Sleeve,pri...         black   \n",
      "4     Summer,Plus Size,Lace,Casual pants,Bottom,pant...        yellow   \n",
      "...                                                 ...           ...   \n",
      "1568  bohemia,Plus Size,dandelionfloralprinted,short...      navyblue   \n",
      "1569  Summer,Panties,Elastic,Lace,Casual pants,casua...     lightblue   \n",
      "1570  runningshort,Beach Shorts,beachpant,menbeachsh...         white   \n",
      "1571  Summer,fashion women,Fashion,Lace,Dresses,Dres...         white   \n",
      "1572  Summer,Leggings,slim,Yoga,pants,Slim Fit,Women...           red   \n",
      "\n",
      "     product_variation_size_id  product_variation_inventory  \\\n",
      "0                            M                           50   \n",
      "1                           XS                           50   \n",
      "2                           XS                            1   \n",
      "3                            M                           50   \n",
      "4                            S                            1   \n",
      "...                        ...                          ...   \n",
      "1568                         S                           50   \n",
      "1569                         S                            2   \n",
      "1570                    SIZE S                           15   \n",
      "1571                   Size S.                           36   \n",
      "1572                         S                           50   \n",
      "\n",
      "     shipping_option_name  shipping_option_price  shipping_is_express  \\\n",
      "0      Livraison standard                      4                    0   \n",
      "1      Livraison standard                      2                    0   \n",
      "2      Livraison standard                      3                    0   \n",
      "3      Livraison standard                      2                    0   \n",
      "4      Livraison standard                      1                    0   \n",
      "...                   ...                    ...                  ...   \n",
      "1568   Livraison standard                      2                    0   \n",
      "1569   Livraison standard                      1                    0   \n",
      "1570   Livraison standard                      2                    0   \n",
      "1571   Livraison standard                      3                    0   \n",
      "1572   Livraison standard                      2                    0   \n",
      "\n",
      "      countries_shipped_to  inventory_total  has_urgency_banner  \\\n",
      "0                       34               50                 1.0   \n",
      "1                       41               50                 1.0   \n",
      "2                       36               50                 1.0   \n",
      "3                       41               50                 NaN   \n",
      "4                       35               50                 1.0   \n",
      "...                    ...              ...                 ...   \n",
      "1568                    41               50                 NaN   \n",
      "1569                    26               50                 1.0   \n",
      "1570                    11               50                 NaN   \n",
      "1571                    29               50                 NaN   \n",
      "1572                    41               50                 NaN   \n",
      "\n",
      "            urgency_text origin_country           merchant_title  \\\n",
      "0     Quantité limitée !             CN                 zgrdejia   \n",
      "1     Quantité limitée !             CN                SaraHouse   \n",
      "2     Quantité limitée !             CN                   hxt520   \n",
      "3                    NaN             CN                 allenfan   \n",
      "4     Quantité limitée !             CN          youngpeopleshop   \n",
      "...                  ...            ...                      ...   \n",
      "1568                 NaN             CN             cxuelin99126   \n",
      "1569  Quantité limitée !             CN  sell best quality goods   \n",
      "1570                 NaN             CN               shixueying   \n",
      "1571                 NaN             CN                    modai   \n",
      "1572                 NaN             CN           AISHOPPINGMALL   \n",
      "\n",
      "             merchant_name             merchant_info_subtitle  \\\n",
      "0                 zgrdejia                        (568 notes)   \n",
      "1                sarahouse  83 % avis positifs (17,752 notes)   \n",
      "2                   hxt520     86 % avis positifs (295 notes)   \n",
      "3                 allenfan                     (23,832 notes)   \n",
      "4              happyhorses  85 % avis positifs (14,482 notes)   \n",
      "...                    ...                                ...   \n",
      "1568          cxuelin99126   90 % avis positifs (5,316 notes)   \n",
      "1569  sellbestqualitygoods                      (4,435 notes)   \n",
      "1570            shixueying     86 % avis positifs (210 notes)   \n",
      "1571                 modai      77 % avis positifs (31 notes)   \n",
      "1572        aishoppingmall   90 % avis positifs (7,023 notes)   \n",
      "\n",
      "      merchant_rating_count  merchant_rating               merchant_id  \\\n",
      "0                       568         4.128521  595097d6a26f6e070cb878d1   \n",
      "1                     17752         3.899673  56458aa03a698c35c9050988   \n",
      "2                       295         3.989831  5d464a1ffdf7bc44ee933c65   \n",
      "3                     23832         4.020435  58cfdefdacb37b556efdff7c   \n",
      "4                     14482         4.001588  5ab3b592c3911a095ad5dadb   \n",
      "...                     ...              ...                       ...   \n",
      "1568                   5316         4.224605  5b507899ab577736508a0782   \n",
      "1569                   4435         3.696054  54d83b6b6b8a771e478558de   \n",
      "1570                    210         3.961905  5b42da1bf64320209fc8da69   \n",
      "1571                     31         3.774194  5d56b32c40defd78043d5af9   \n",
      "1572                   7023         4.235939  5a409cf87b584e7951b2e25f   \n",
      "\n",
      "      merchant_has_profile_picture merchant_profile_picture  \\\n",
      "0                                0                      NaN   \n",
      "1                                0                      NaN   \n",
      "2                                0                      NaN   \n",
      "3                                0                      NaN   \n",
      "4                                0                      NaN   \n",
      "...                            ...                      ...   \n",
      "1568                             0                      NaN   \n",
      "1569                             0                      NaN   \n",
      "1570                             0                      NaN   \n",
      "1571                             0                      NaN   \n",
      "1572                             0                      NaN   \n",
      "\n",
      "                                          product_url  \\\n",
      "0     https://www.wish.com/c/5e9ae51d43d6a96e303acdb0   \n",
      "1     https://www.wish.com/c/58940d436a0d3d5da4e95a38   \n",
      "2     https://www.wish.com/c/5ea10e2c617580260d55310a   \n",
      "3     https://www.wish.com/c/5cedf17ad1d44c52c59e4aca   \n",
      "4     https://www.wish.com/c/5ebf5819ebac372b070b0e70   \n",
      "...                                               ...   \n",
      "1568  https://www.wish.com/c/5d5fadc99febd9356cbc52ee   \n",
      "1569  https://www.wish.com/c/5eccd22b4497b86fd48f16b4   \n",
      "1570  https://www.wish.com/c/5e74be96034d613d42b52dfe   \n",
      "1571  https://www.wish.com/c/5eda07ab0e295c2097c36590   \n",
      "1572  https://www.wish.com/c/5e857321f53c3d2d8f25e7ed   \n",
      "\n",
      "                                        product_picture  \\\n",
      "0     https://contestimg.wish.com/api/webimage/5e9ae...   \n",
      "1     https://contestimg.wish.com/api/webimage/58940...   \n",
      "2     https://contestimg.wish.com/api/webimage/5ea10...   \n",
      "3     https://contestimg.wish.com/api/webimage/5cedf...   \n",
      "4     https://contestimg.wish.com/api/webimage/5ebf5...   \n",
      "...                                                 ...   \n",
      "1568  https://contestimg.wish.com/api/webimage/5d5fa...   \n",
      "1569  https://contestimg.wish.com/api/webimage/5eccd...   \n",
      "1570  https://contestimg.wish.com/api/webimage/5e74b...   \n",
      "1571  https://contestimg.wish.com/api/webimage/5eda0...   \n",
      "1572  https://contestimg.wish.com/api/webimage/5e857...   \n",
      "\n",
      "                    product_id   theme crawl_month cwarl_month  \n",
      "0     5e9ae51d43d6a96e303acdb0  summer     2020-08  2020-08-01  \n",
      "1     58940d436a0d3d5da4e95a38  summer     2020-08  2020-08-01  \n",
      "2     5ea10e2c617580260d55310a  summer     2020-08  2020-08-01  \n",
      "3     5cedf17ad1d44c52c59e4aca  summer     2020-08  2020-08-01  \n",
      "4     5ebf5819ebac372b070b0e70  summer     2020-08  2020-08-01  \n",
      "...                        ...     ...         ...         ...  \n",
      "1568  5d5fadc99febd9356cbc52ee  summer     2020-08  2020-08-01  \n",
      "1569  5eccd22b4497b86fd48f16b4  summer     2020-08  2020-08-01  \n",
      "1570  5e74be96034d613d42b52dfe  summer     2020-08  2020-08-01  \n",
      "1571  5eda07ab0e295c2097c36590  summer     2020-08  2020-08-01  \n",
      "1572  5e857321f53c3d2d8f25e7ed  summer     2020-08  2020-08-01  \n",
      "\n",
      "[1539 rows x 44 columns]\n"
     ]
    }
   ],
   "source": [
    "### Ex-7-Task-1\n",
    "duplicate_count = None\n",
    "df_drop_duplicate = None # store the data frame after removing duplicates \n",
    "# Count no. of duplicates value in product dataframe and drop all the duplicate values \n",
    "### BEGIN SOLUTION \n",
    "# YOUR CODE HERE\n",
    "duplicate_count = df_product.duplicated().sum()\n",
    "df_drop_duplicate = df_product.drop_duplicates()\n",
    "\n",
    "print(duplicate_count)\n",
    "print(df_drop_duplicate)\n",
    "### END SOLUTION"
   ]
  },
  {
   "cell_type": "code",
   "execution_count": null,
   "id": "89a5cb7c",
   "metadata": {
    "deletable": false,
    "editable": false,
    "nbgrader": {
     "cell_type": "code",
     "checksum": "56de2c66a7e01766464fd3b9fe1bf190",
     "grade": true,
     "grade_id": "cell-3e3c733c0a4b0e75",
     "locked": true,
     "points": 1,
     "schema_version": 3,
     "solution": false,
     "task": false
    }
   },
   "outputs": [],
   "source": []
  },
  {
   "cell_type": "markdown",
   "id": "427ad132",
   "metadata": {
    "deletable": false,
    "editable": false,
    "nbgrader": {
     "cell_type": "markdown",
     "checksum": "7c71e8cc4af65c1f3ac935bce48fe631",
     "grade": false,
     "grade_id": "cell-a06caa9f77a21271",
     "locked": true,
     "schema_version": 3,
     "solution": false,
     "task": false
    }
   },
   "source": [
    "## Data Transformation"
   ]
  },
  {
   "cell_type": "markdown",
   "id": "79e3826b",
   "metadata": {
    "deletable": false,
    "editable": false,
    "nbgrader": {
     "cell_type": "markdown",
     "checksum": "27270bfd32345b83fd489ae9d259b713",
     "grade": false,
     "grade_id": "cell-9f5713f7da6b80f7",
     "locked": true,
     "schema_version": 3,
     "solution": false,
     "task": false
    }
   },
   "source": [
    "### Applying Functions: Apply, map"
   ]
  },
  {
   "cell_type": "code",
   "execution_count": 159,
   "id": "3e484c30",
   "metadata": {
    "deletable": false,
    "nbgrader": {
     "cell_type": "code",
     "checksum": "83d9cef3a30f41cc1749d2dbc59802fa",
     "grade": false,
     "grade_id": "cell-37bdbc2fe79bf59e",
     "locked": false,
     "schema_version": 3,
     "solution": true,
     "task": false
    }
   },
   "outputs": [
    {
     "name": "stdout",
     "output_type": "stream",
     "text": [
      "merchantid\n",
      "5357bcf2bb72c5504882e889   -1320000.00\n",
      "5708773c3c02161b3f8c7900   -2831724.00\n",
      "5417aada4ad3ab27e954b76c          0.00\n",
      "570f3a713a698c14278bb51e   -1333000.00\n",
      "53082ea15aefb07dfe1f2a4f   -2800000.00\n",
      "                               ...    \n",
      "567bad8582c35f28103e5813          2.00\n",
      "5b24edf0d1c360301099e9c6          0.00\n",
      "5d417e7070327a2743021677         -6.28\n",
      "5add589edb5f1f32114d07df          0.00\n",
      "5d4b8931933fb13f8a1fe232        -19.00\n",
      "Name: total_profit, Length: 958, dtype: float64\n"
     ]
    }
   ],
   "source": [
    "### Ex-7-Task-2\n",
    "\n",
    "df_sales['total_profit'] = None\n",
    "# Calculate the total profit using apply function in pandas and save in total_profit column\n",
    "# Formulae: total_profit = (mean product price - mean retail price) * total units sold\n",
    "### BEGIN SOLUTION \n",
    "# YOUR CODE HERE\n",
    "\n",
    "\n",
    "df_sales['total_profit'] = (df_sales['meanproductprices'] - df_sales['meanretailprices']) * df_sales['totalunitssold']\n",
    "\n",
    "print(df_sales['total_profit'])\n",
    "\n",
    "\n",
    "### END SOLUTION"
   ]
  },
  {
   "cell_type": "code",
   "execution_count": null,
   "id": "d3c2003d",
   "metadata": {
    "deletable": false,
    "editable": false,
    "nbgrader": {
     "cell_type": "code",
     "checksum": "cc4c22eb00de8ba7d64f4dc4f9387f55",
     "grade": true,
     "grade_id": "cell-738ff67865db7568",
     "locked": true,
     "points": 1,
     "schema_version": 3,
     "solution": false,
     "task": false
    }
   },
   "outputs": [],
   "source": []
  },
  {
   "cell_type": "markdown",
   "id": "b2d1416b",
   "metadata": {
    "deletable": false,
    "editable": false,
    "nbgrader": {
     "cell_type": "markdown",
     "checksum": "c927d77ef14908ef83b762b85947b314",
     "grade": false,
     "grade_id": "cell-ef8a78e397b10b5a",
     "locked": true,
     "schema_version": 3,
     "solution": false,
     "task": false
    }
   },
   "source": [
    "### Binning and Categorizing Data"
   ]
  },
  {
   "cell_type": "code",
   "execution_count": 160,
   "id": "a38b8a53",
   "metadata": {
    "deletable": false,
    "nbgrader": {
     "cell_type": "code",
     "checksum": "8d4ad5fe8027cf9f6c6109109ce6fe5d",
     "grade": false,
     "grade_id": "cell-adae3d3197a50a0d",
     "locked": false,
     "schema_version": 3,
     "solution": true,
     "task": false
    }
   },
   "outputs": [
    {
     "name": "stdout",
     "output_type": "stream",
     "text": [
      "0        low_sales\n",
      "1       high_sales\n",
      "2        low_sales\n",
      "3       high_sales\n",
      "4        low_sales\n",
      "           ...    \n",
      "1568    high_sales\n",
      "1569     low_sales\n",
      "1570     low_sales\n",
      "1571     low_sales\n",
      "1572     low_sales\n",
      "Name: sales_category, Length: 1573, dtype: category\n",
      "Categories (3, object): ['low_sales' < 'medium_sales' < 'high_sales']\n"
     ]
    }
   ],
   "source": [
    "### Ex-7-Task-3\n",
    "df_product['sales_category'] = None\n",
    "# Divide the row into three category based on their units sold and save it into the sales_category column of produdct dataframe\n",
    "# category are : low_sales, medium sales, and high sales \n",
    "### BEGIN SOLUTION \n",
    "# YOUR CODE HERE\n",
    "bins = [df_product['units_sold'].min() - 1, \n",
    "        df_product['units_sold'].quantile(0.33), \n",
    "        df_product['units_sold'].quantile(0.66), \n",
    "        df_product['units_sold'].max()]\n",
    "\n",
    "labels = ['low_sales', 'medium_sales', 'high_sales']\n",
    "\n",
    "df_product['sales_category'] = pd.cut(df_product['units_sold'], bins=bins, labels=labels)\n",
    "print(df_product['sales_category'] )\n",
    "\n",
    "\n",
    "### END SOLUTION"
   ]
  },
  {
   "cell_type": "code",
   "execution_count": null,
   "id": "a02c2ece",
   "metadata": {
    "deletable": false,
    "editable": false,
    "nbgrader": {
     "cell_type": "code",
     "checksum": "65dcba4ef640ac656d3b52dba4594bfa",
     "grade": true,
     "grade_id": "cell-cf8b45ec41dc1658",
     "locked": true,
     "points": 1,
     "schema_version": 3,
     "solution": false,
     "task": false
    }
   },
   "outputs": [],
   "source": []
  },
  {
   "cell_type": "markdown",
   "id": "badb8b3e",
   "metadata": {
    "deletable": false,
    "editable": false,
    "nbgrader": {
     "cell_type": "markdown",
     "checksum": "3a56bb525106dbc2038dc09d134201e8",
     "grade": false,
     "grade_id": "cell-ab03aef8c319efae",
     "locked": true,
     "schema_version": 3,
     "solution": false,
     "task": false
    }
   },
   "source": [
    "## Data Aggregation and Grouping"
   ]
  },
  {
   "cell_type": "markdown",
   "id": "771796e6",
   "metadata": {
    "deletable": false,
    "editable": false,
    "nbgrader": {
     "cell_type": "markdown",
     "checksum": "90d17a4ac0a4ef3e117807d7754cc141",
     "grade": false,
     "grade_id": "cell-336a67c716f289ad",
     "locked": true,
     "schema_version": 3,
     "solution": false,
     "task": false
    }
   },
   "source": [
    "### Groupby aggregation function\n"
   ]
  },
  {
   "cell_type": "code",
   "execution_count": 161,
   "id": "8eb680d5",
   "metadata": {
    "deletable": false,
    "nbgrader": {
     "cell_type": "code",
     "checksum": "1e23172f7d0139d4d1a871b04c0870bd",
     "grade": false,
     "grade_id": "cell-bc09883254c13cbb",
     "locked": false,
     "schema_version": 3,
     "solution": true,
     "task": false
    }
   },
   "outputs": [
    {
     "name": "stdout",
     "output_type": "stream",
     "text": [
      "                   price  retail_price  units_sold  rating_five_count\n",
      "sales_category                                                       \n",
      "low_sales       7.953704          10.0           1         442.263743\n",
      "medium_sales    8.456790          11.0        1000         520.000000\n",
      "high_sales      8.296154          10.0        5000       11548.000000\n"
     ]
    },
    {
     "name": "stderr",
     "output_type": "stream",
     "text": [
      "/var/folders/k5/y70cdbnd4p52p6lw24_rbrl40000gn/T/ipykernel_95370/2070367986.py:7: FutureWarning: The default of observed=False is deprecated and will be changed to True in a future version of pandas. Pass observed=False to retain current behavior or observed=True to adopt the future default and silence this warning.\n",
      "  group_df = df_product.groupby('sales_category').agg({\n"
     ]
    }
   ],
   "source": [
    "### Ex-8-Task-1\n",
    "\n",
    "group_df = None \n",
    "# Create a group of low, medium and high sales and then calulcate, mean of price, median of retail price, min of units_sold and max of rating_five_count of each category\n",
    "### BEGIN SOLUTION \n",
    "# YOUR CODE HERE\n",
    "group_df = df_product.groupby('sales_category').agg({\n",
    "    'price': 'mean',\n",
    "    'retail_price': 'median',\n",
    "    'units_sold': 'min',\n",
    "    'rating_five_count': 'max'\n",
    "})\n",
    "print(group_df)\n",
    "### END SOLUTION"
   ]
  },
  {
   "cell_type": "code",
   "execution_count": null,
   "id": "707ab870",
   "metadata": {
    "deletable": false,
    "editable": false,
    "nbgrader": {
     "cell_type": "code",
     "checksum": "a3e58f54137eb898fa58cd171517a720",
     "grade": true,
     "grade_id": "cell-8fe59ad3ea8407dd",
     "locked": true,
     "points": 1,
     "schema_version": 3,
     "solution": false,
     "task": false
    }
   },
   "outputs": [],
   "source": []
  },
  {
   "cell_type": "code",
   "execution_count": 162,
   "id": "1f352a84",
   "metadata": {
    "deletable": false,
    "nbgrader": {
     "cell_type": "code",
     "checksum": "05c6e533d41cf034bde477f91d4a8674",
     "grade": false,
     "grade_id": "cell-255f0b442e9f0439",
     "locked": false,
     "schema_version": 3,
     "solution": true,
     "task": false
    }
   },
   "outputs": [
    {
     "name": "stdout",
     "output_type": "stream",
     "text": [
      "                   price  retail_price  units_sold  rating_five_count\n",
      "sales_category                                                       \n",
      "low_sales       0.582935      1.236073    0.349222           2.556705\n",
      "medium_sales    0.458898      1.273400    0.000000           0.793716\n",
      "high_sales      0.409786      1.415261    1.069322           1.194116\n"
     ]
    }
   ],
   "source": [
    "### Ex-8-Task-2\n",
    "group_df = None\n",
    "## Calculate the Coefficient of Variation of each sales category\n",
    "### BEGIN SOLUTION \n",
    "# YOUR CODE HERE\n",
    "cols = ['price', 'retail_price', 'units_sold', 'rating_five_count']\n",
    "mean_df = group[cols].mean()\n",
    "std_df = group[cols].std()\n",
    "group_df = std_df / mean_df\n",
    "\n",
    "print(group_df)\n",
    "### END SOLUTION\n"
   ]
  },
  {
   "cell_type": "code",
   "execution_count": null,
   "id": "4c299817",
   "metadata": {
    "deletable": false,
    "editable": false,
    "nbgrader": {
     "cell_type": "code",
     "checksum": "b507610a564605d71a19a5a1515775b0",
     "grade": true,
     "grade_id": "cell-65228f6081c39dd9",
     "locked": true,
     "points": 1,
     "schema_version": 3,
     "solution": false,
     "task": false
    }
   },
   "outputs": [],
   "source": []
  },
  {
   "cell_type": "code",
   "execution_count": 163,
   "id": "82187787",
   "metadata": {
    "deletable": false,
    "nbgrader": {
     "cell_type": "code",
     "checksum": "8dc7788f5775e9869b018fd635eba79c",
     "grade": false,
     "grade_id": "cell-0eb63d9d4433e462",
     "locked": false,
     "schema_version": 3,
     "solution": true,
     "task": false
    }
   },
   "outputs": [
    {
     "name": "stdout",
     "output_type": "stream",
     "text": [
      "0       1.735427\n",
      "1      -0.087113\n",
      "2       0.009985\n",
      "3      -0.087113\n",
      "4      -1.284096\n",
      "          ...   \n",
      "1568   -0.675410\n",
      "1569   -1.284096\n",
      "1570   -0.637055\n",
      "1571    1.088386\n",
      "1572   -0.205695\n",
      "Name: price_zscore, Length: 1573, dtype: float64\n"
     ]
    },
    {
     "name": "stderr",
     "output_type": "stream",
     "text": [
      "/var/folders/k5/y70cdbnd4p52p6lw24_rbrl40000gn/T/ipykernel_95370/384115780.py:7: FutureWarning: The default of observed=False is deprecated and will be changed to True in a future version of pandas. Pass observed=False to retain current behavior or observed=True to adopt the future default and silence this warning.\n",
      "  df_product['price_zscore'] = df_product.groupby('sales_category')['price'].transform(\n"
     ]
    }
   ],
   "source": [
    "### Ex-8-Task-3\n",
    "df_product['price_zscore'] = None\n",
    "## Calculate the Z_score of price for each sales category\n",
    "### BEGIN SOLUTION \n",
    "# YOUR CODE HERE\n",
    "#trying lambda function\n",
    "df_product['price_zscore'] = df_product.groupby('sales_category')['price'].transform(\n",
    "    lambda x: (x - x.mean()) / x.std()\n",
    ") \n",
    "\n",
    "print(df_product['price_zscore'])\n",
    "### END SOLUTION"
   ]
  },
  {
   "cell_type": "code",
   "execution_count": null,
   "id": "2a4b0c72",
   "metadata": {
    "deletable": false,
    "editable": false,
    "nbgrader": {
     "cell_type": "code",
     "checksum": "c4d0ff0a80620e4f98acd511ef640e42",
     "grade": true,
     "grade_id": "cell-6e683a9fe7f0ebae",
     "locked": true,
     "points": 1,
     "schema_version": 3,
     "solution": false,
     "task": false
    }
   },
   "outputs": [],
   "source": []
  },
  {
   "cell_type": "markdown",
   "id": "332105b2",
   "metadata": {
    "deletable": false,
    "editable": false,
    "nbgrader": {
     "cell_type": "markdown",
     "checksum": "cea5216760ade70f3b347ae198368566",
     "grade": false,
     "grade_id": "cell-73cfb7e1ff209c75",
     "locked": true,
     "schema_version": 3,
     "solution": false,
     "task": false
    }
   },
   "source": [
    "## Merging"
   ]
  },
  {
   "cell_type": "code",
   "execution_count": 164,
   "id": "7c2a1017",
   "metadata": {
    "deletable": false,
    "nbgrader": {
     "cell_type": "code",
     "checksum": "3269c19a53b455cdd8b4a9c7bba095b6",
     "grade": false,
     "grade_id": "cell-d35eb6f93360efbd",
     "locked": false,
     "schema_version": 3,
     "solution": true,
     "task": false
    }
   },
   "outputs": [
    {
     "name": "stdout",
     "output_type": "stream",
     "text": [
      "Index(['listedproducts', 'totalunitssold', 'meanunitssoldperproduct', 'rating',\n",
      "       'merchantratingscount', 'meanproductprices', 'meanretailprices',\n",
      "       'averagediscount', 'meandiscount', 'meanproductratingscount',\n",
      "       'totalurgencycount', 'urgencytextrate', 'total_profit'],\n",
      "      dtype='object')\n",
      "Index(['title', 'title_orig', 'price', 'retail_price', 'currency_buyer',\n",
      "       'units_sold', 'uses_ad_boosts', 'rating', 'rating_count',\n",
      "       'rating_five_count', 'rating_four_count', 'rating_three_count',\n",
      "       'rating_two_count', 'rating_one_count', 'badges_count',\n",
      "       'badge_local_product', 'badge_product_quality', 'badge_fast_shipping',\n",
      "       'tags', 'product_color', 'product_variation_size_id',\n",
      "       'product_variation_inventory', 'shipping_option_name',\n",
      "       'shipping_option_price', 'shipping_is_express', 'countries_shipped_to',\n",
      "       'inventory_total', 'has_urgency_banner', 'urgency_text',\n",
      "       'origin_country', 'merchant_title', 'merchant_name',\n",
      "       'merchant_info_subtitle', 'merchant_rating_count', 'merchant_rating',\n",
      "       'merchant_id', 'merchant_has_profile_picture',\n",
      "       'merchant_profile_picture', 'product_url', 'product_picture',\n",
      "       'product_id', 'theme', 'crawl_month', 'cwarl_month', 'sales_category',\n",
      "       'price_zscore'],\n",
      "      dtype='object')\n",
      "      listedproducts  totalunitssold  meanunitssoldperproduct  rating_x  \\\n",
      "0                  2          120000                  60000.0     4.219   \n",
      "1                  2          120000                  60000.0     4.219   \n",
      "2                  5          107100                  21420.0     3.934   \n",
      "3                  5          107100                  21420.0     3.934   \n",
      "4                  5          107100                  21420.0     3.934   \n",
      "...              ...             ...                      ...       ...   \n",
      "1568               1               2                      2.0     3.999   \n",
      "1569               1               2                      2.0     4.303   \n",
      "1570               1               1                      1.0     3.598   \n",
      "1571               1               1                      1.0     3.956   \n",
      "1572               1               1                      1.0     4.007   \n",
      "\n",
      "      merchantratingscount  meanproductprices  meanretailprices  \\\n",
      "0                 320031.0               9.00              20.0   \n",
      "1                 320031.0               9.00              20.0   \n",
      "2                 139223.0               7.76              34.2   \n",
      "3                 139223.0               7.76              34.2   \n",
      "4                 139223.0               7.76              34.2   \n",
      "...                    ...                ...               ...   \n",
      "1568               21307.0              11.00              10.0   \n",
      "1569                 693.0              16.00              16.0   \n",
      "1570                 378.0               2.72               9.0   \n",
      "1571                1134.0              14.00              14.0   \n",
      "1572                1380.0              11.00              30.0   \n",
      "\n",
      "      averagediscount  meandiscount  meanproductratingscount  \\\n",
      "0                54.0          54.0                   8836.0   \n",
      "1                54.0          54.0                   8836.0   \n",
      "2                61.0          61.0                   4010.0   \n",
      "3                61.0          61.0                   4010.0   \n",
      "4                61.0          61.0                   4010.0   \n",
      "...               ...           ...                      ...   \n",
      "1568            -10.0         -10.0                      1.0   \n",
      "1569              0.0           0.0                      0.0   \n",
      "1570             70.0          70.0                      0.0   \n",
      "1571              0.0           0.0                      0.0   \n",
      "1572             64.0          64.0                      0.0   \n",
      "\n",
      "      totalurgencycount  urgencytextrate  total_profit  \\\n",
      "0                   1.0             50.0   -1320000.00   \n",
      "1                   1.0             50.0   -1320000.00   \n",
      "2                   3.0             60.0   -2831724.00   \n",
      "3                   3.0             60.0   -2831724.00   \n",
      "4                   3.0             60.0   -2831724.00   \n",
      "...                 ...              ...           ...   \n",
      "1568                NaN              NaN          2.00   \n",
      "1569                NaN              NaN          0.00   \n",
      "1570                NaN              NaN         -6.28   \n",
      "1571                NaN              NaN          0.00   \n",
      "1572                NaN              NaN        -19.00   \n",
      "\n",
      "                                                  title  \\\n",
      "0     Femmes dentelle manches courtes hauts hauts ch...   \n",
      "1     Femmes Chemisier d'été Chemise Sexy Floral Che...   \n",
      "2     2018 New Fashion Women's Tops Sexy Strappy Sle...   \n",
      "3     Femmes Mode Couleur Unie Sexy Col En V Tops Cr...   \n",
      "4     Nouveau Summer Women's Fashion Bikini Set coul...   \n",
      "...                                                 ...   \n",
      "1568  Femmes T-shirt à rayures à carreaux Chemisier ...   \n",
      "1569  Ventilateur personnel USB rechargeable mains l...   \n",
      "1570  Women's Casual Sleeveless Stripe T Shirts Dres...   \n",
      "1571  Nouvelles femmes d'été mode couleur unie short...   \n",
      "1572  Combinaisons décontractées sans manches en cot...   \n",
      "\n",
      "                                             title_orig  price  retail_price  \\\n",
      "0     Women Lace Short Sleeve Long Tops Blouse Shirt...      7            22   \n",
      "1     Womens Summer Blouse Sexy Floral Shirt Loose K...     11            18   \n",
      "2     2018 New Fashion Women's Tops Sexy Strappy Sle...      5            25   \n",
      "3     Women Fashion Solid Color Sexy V-neck Crop Top...      8             7   \n",
      "4     New Summer Women 's Fashion Bikini Set Solid C...     14            37   \n",
      "...                                                 ...    ...           ...   \n",
      "1568  Women Plaid Stripes T Shirt V-neck Short Sleev...     11            10   \n",
      "1569  Personal Fan USB Rechargeable Hands Free Neckb...     16            16   \n",
      "1570  Women's Casual Sleeveless Stripe T Shirts Dres...      2             9   \n",
      "1571  New Women Summer Fashion Solid Color Shorts Ca...     14            14   \n",
      "1572  Women Summer Fashion Cotton Overalls Sleeveles...     11            30   \n",
      "\n",
      "     currency_buyer  units_sold  uses_ad_boosts  rating_y  rating_count  \\\n",
      "0               EUR      100000               1      3.82         11913   \n",
      "1               EUR       20000               1      4.14          5759   \n",
      "2               EUR      100000               1      3.83         17980   \n",
      "3               EUR         100               1      3.52            23   \n",
      "4               EUR        1000               0      3.85           422   \n",
      "...             ...         ...             ...       ...           ...   \n",
      "1568            EUR           2               0      2.00             1   \n",
      "1569            EUR           2               0      5.00             0   \n",
      "1570            EUR           1               0      5.00             0   \n",
      "1571            EUR           1               0      5.00             0   \n",
      "1572            EUR           1               0      5.00             0   \n",
      "\n",
      "      rating_five_count  rating_four_count  rating_three_count  ...  \\\n",
      "0           5355.000000             2430.0              1974.0  ...   \n",
      "1           3125.000000             1205.0               838.0  ...   \n",
      "2           8290.000000             3483.0              2951.0  ...   \n",
      "3              9.000000                3.0                 4.0  ...   \n",
      "4            189.000000              102.0                55.0  ...   \n",
      "...                 ...                ...                 ...  ...   \n",
      "1568           0.000000                0.0                 0.0  ...   \n",
      "1569         442.263743               31.5                 NaN  ...   \n",
      "1570         442.263743               31.5                 NaN  ...   \n",
      "1571         442.263743               31.5                 NaN  ...   \n",
      "1572         442.263743               31.5                 NaN  ...   \n",
      "\n",
      "      product_variation_inventory  shipping_option_name  \\\n",
      "0                              50    Livraison standard   \n",
      "1                              50    Livraison standard   \n",
      "2                              50    Livraison standard   \n",
      "3                              17    Livraison standard   \n",
      "4                              50    Livraison standard   \n",
      "...                           ...                   ...   \n",
      "1568                           50    Livraison standard   \n",
      "1569                           10    Livraison standard   \n",
      "1570                            1    Livraison standard   \n",
      "1571                            5    Livraison standard   \n",
      "1572                           10    Livraison standard   \n",
      "\n",
      "      shipping_option_price  shipping_is_express  countries_shipped_to  \\\n",
      "0                         2                    0                    46   \n",
      "1                         3                    0                    46   \n",
      "2                         1                    0                    41   \n",
      "3                         3                    0                    41   \n",
      "4                         4                    0                    41   \n",
      "...                     ...                  ...                   ...   \n",
      "1568                      3                    0                    19   \n",
      "1569                      5                    0                    32   \n",
      "1570                      1                    0                    33   \n",
      "1571                      4                    0                    27   \n",
      "1572                      2                    0                    33   \n",
      "\n",
      "      inventory_total has_urgency_banner        urgency_text origin_country  \\\n",
      "0                  50                NaN                 NaN             CN   \n",
      "1                  50                1.0  Quantité limitée !             CN   \n",
      "2                  50                1.0  Quantité limitée !             CN   \n",
      "3                  50                1.0  Quantité limitée !             CN   \n",
      "4                  50                1.0  Quantité limitée !             CN   \n",
      "...               ...                ...                 ...            ...   \n",
      "1568               50                NaN                 NaN             CN   \n",
      "1569               50                NaN                 NaN             CN   \n",
      "1570               50                NaN                 NaN             CN   \n",
      "1571               50                NaN                 NaN             CN   \n",
      "1572               50                NaN                 NaN             CN   \n",
      "\n",
      "                      merchant_title              merchant_name  \\\n",
      "0                      ApparelHeaven         primesalecolimited   \n",
      "1                      ApparelHeaven         primesalecolimited   \n",
      "2                            leiston                    leiston   \n",
      "3                            leiston                    leiston   \n",
      "4                            leiston                    leiston   \n",
      "...                              ...                        ...   \n",
      "1568  Guangzhou Fashion Girl co.,ltd  guangzhoufashiongirlcoltd   \n",
      "1569                     xiaoguiling                xiaoguiling   \n",
      "1570                         Kyiswen                    kyiswen   \n",
      "1571                       gaomeigui                  gaomeigui   \n",
      "1572                          caogao                     caogao   \n",
      "\n",
      "                  merchant_info_subtitle  merchant_rating_count  \\\n",
      "0     90 % avis positifs (320,031 notes)                 320031   \n",
      "1     90 % avis positifs (320,031 notes)                 320031   \n",
      "2     84 % avis positifs (139,223 notes)                 139223   \n",
      "3     84 % avis positifs (139,223 notes)                 139223   \n",
      "4     84 % avis positifs (139,223 notes)                 139223   \n",
      "...                                  ...                    ...   \n",
      "1568   86 % avis positifs (21,307 notes)                  21307   \n",
      "1569                         (693 notes)                    693   \n",
      "1570      75 % avis positifs (378 notes)                    378   \n",
      "1571    84 % avis positifs (1,134 notes)                   1134   \n",
      "1572                       (1,380 notes)                   1380   \n",
      "\n",
      "      merchant_rating               merchant_id  merchant_has_profile_picture  \\\n",
      "0            4.218866  5357bcf2bb72c5504882e889                             1   \n",
      "1            4.218866  5357bcf2bb72c5504882e889                             1   \n",
      "2            3.933581  5708773c3c02161b3f8c7900                             0   \n",
      "3            3.933581  5708773c3c02161b3f8c7900                             0   \n",
      "4            3.933581  5708773c3c02161b3f8c7900                             0   \n",
      "...               ...                       ...                           ...   \n",
      "1568         3.999061  567bad8582c35f28103e5813                             0   \n",
      "1569         4.303030  5b24edf0d1c360301099e9c6                             0   \n",
      "1570         3.597884  5d417e7070327a2743021677                             0   \n",
      "1571         3.955908  5add589edb5f1f32114d07df                             0   \n",
      "1572         4.007246  5d4b8931933fb13f8a1fe232                             0   \n",
      "\n",
      "                               merchant_profile_picture  \\\n",
      "0     https://s3-us-west-1.amazonaws.com/sweeper-pro...   \n",
      "1     https://s3-us-west-1.amazonaws.com/sweeper-pro...   \n",
      "2                                                   NaN   \n",
      "3                                                   NaN   \n",
      "4                                                   NaN   \n",
      "...                                                 ...   \n",
      "1568                                                NaN   \n",
      "1569                                                NaN   \n",
      "1570                                                NaN   \n",
      "1571                                                NaN   \n",
      "1572                                                NaN   \n",
      "\n",
      "                                          product_url  \\\n",
      "0     https://www.wish.com/c/567cb0925ff12c4829f07dfb   \n",
      "1     https://www.wish.com/c/572981a997dc5f5d3c5f0651   \n",
      "2     https://www.wish.com/c/5b07a7c6e997b33c6f9947da   \n",
      "3     https://www.wish.com/c/5e9692898a10221b310986c9   \n",
      "4     https://www.wish.com/c/5cece16810467a5f254abaa9   \n",
      "...                                               ...   \n",
      "1568  https://www.wish.com/c/5ed8983fb83b7828822ad26a   \n",
      "1569  https://www.wish.com/c/5f11698e9a44cd5ecd1909db   \n",
      "1570  https://www.wish.com/c/5ed3ae8e7bf8821d5cf4bc64   \n",
      "1571  https://www.wish.com/c/5eccb455d4eb5d46b00be0ed   \n",
      "1572  https://www.wish.com/c/5ebfdd5bebac37702b0b207b   \n",
      "\n",
      "                                        product_picture  \\\n",
      "0     https://contestimg.wish.com/api/webimage/567cb...   \n",
      "1     https://contestimg.wish.com/api/webimage/57298...   \n",
      "2     https://contestimg.wish.com/api/webimage/5b07a...   \n",
      "3     https://contestimg.wish.com/api/webimage/5e969...   \n",
      "4     https://contestimg.wish.com/api/webimage/5cece...   \n",
      "...                                                 ...   \n",
      "1568  https://contestimg.wish.com/api/webimage/5ed89...   \n",
      "1569  https://contestimg.wish.com/api/webimage/5f116...   \n",
      "1570  https://contestimg.wish.com/api/webimage/5ed3a...   \n",
      "1571  https://contestimg.wish.com/api/webimage/5eccb...   \n",
      "1572  https://contestimg.wish.com/api/webimage/5ebfd...   \n",
      "\n",
      "                    product_id   theme  crawl_month  cwarl_month  \\\n",
      "0     567cb0925ff12c4829f07dfb  summer      2020-08   2020-08-01   \n",
      "1     572981a997dc5f5d3c5f0651  summer      2020-08   2020-08-01   \n",
      "2     5b07a7c6e997b33c6f9947da  summer      2020-08   2020-08-01   \n",
      "3     5e9692898a10221b310986c9  summer      2020-08   2020-08-01   \n",
      "4     5cece16810467a5f254abaa9  summer      2020-08   2020-08-01   \n",
      "...                        ...     ...          ...          ...   \n",
      "1568  5ed8983fb83b7828822ad26a  summer      2020-08   2020-08-01   \n",
      "1569  5f11698e9a44cd5ecd1909db  summer      2020-08   2020-08-01   \n",
      "1570  5ed3ae8e7bf8821d5cf4bc64  summer      2020-08   2020-08-01   \n",
      "1571  5eccb455d4eb5d46b00be0ed  summer      2020-08   2020-08-01   \n",
      "1572  5ebfdd5bebac37702b0b207b  summer      2020-08   2020-08-01   \n",
      "\n",
      "     sales_category  price_zscore  \n",
      "0        high_sales     -0.381261  \n",
      "1        high_sales      0.795332  \n",
      "2        high_sales     -0.969558  \n",
      "3         low_sales      0.009985  \n",
      "4      medium_sales      1.428367  \n",
      "...             ...           ...  \n",
      "1568      low_sales      0.657026  \n",
      "1569      low_sales      1.735427  \n",
      "1570      low_sales     -1.284096  \n",
      "1571      low_sales      1.304066  \n",
      "1572      low_sales      0.657026  \n",
      "\n",
      "[1573 rows x 59 columns]\n"
     ]
    }
   ],
   "source": [
    "### Ex-9-Task-1\n",
    "merged_df = None\n",
    "# Merge the sales and product dataframe and delete all the non common entries. Merge two dataframe based on merchant id.\n",
    "### BEGIN SOLUTION \n",
    "# YOUR CODE HERE\n",
    "print(df_sales.columns)\n",
    "print(df_product.columns)\n",
    "merged_df = pd.merge(df_sales, df_product, left_on='merchantid', right_on='merchant_id', how='inner')\n",
    "\n",
    "print(merged_df)\n",
    "### END SOLUTION"
   ]
  },
  {
   "cell_type": "code",
   "execution_count": null,
   "id": "1a69f064",
   "metadata": {
    "deletable": false,
    "editable": false,
    "nbgrader": {
     "cell_type": "code",
     "checksum": "89b908ab91d3db4f4135d606a00a520b",
     "grade": true,
     "grade_id": "cell-89f4a5c6f9a67448",
     "locked": true,
     "points": 1,
     "schema_version": 3,
     "solution": false,
     "task": false
    }
   },
   "outputs": [],
   "source": []
  },
  {
   "cell_type": "markdown",
   "id": "4eba231b",
   "metadata": {
    "deletable": false,
    "editable": false,
    "nbgrader": {
     "cell_type": "markdown",
     "checksum": "9e4f39188b42896adae8bb608e260180",
     "grade": false,
     "grade_id": "cell-19dd0389d61f7aa3",
     "locked": true,
     "schema_version": 3,
     "solution": false,
     "task": false
    }
   },
   "source": [
    "# Data Wrangling End to End "
   ]
  },
  {
   "cell_type": "markdown",
   "id": "0d1ed08c",
   "metadata": {
    "deletable": false,
    "editable": false,
    "nbgrader": {
     "cell_type": "markdown",
     "checksum": "02a9ff059eb8d44ea00d1aeec9b6498a",
     "grade": false,
     "grade_id": "cell-4a8f991c26062ee7",
     "locked": true,
     "schema_version": 3,
     "solution": false,
     "task": false
    }
   },
   "source": [
    "## Data Cleaning"
   ]
  },
  {
   "cell_type": "markdown",
   "id": "b3887a25",
   "metadata": {
    "deletable": false,
    "editable": false,
    "nbgrader": {
     "cell_type": "markdown",
     "checksum": "aa3a6f31ea4e2045acbe67320328e39f",
     "grade": false,
     "grade_id": "cell-adc568fe379be45f",
     "locked": true,
     "schema_version": 3,
     "solution": false,
     "task": false
    }
   },
   "source": [
    "#### Features and Columns \n",
    "The data was scraped in the french localisation (hence some non-ascii latin characters such as « é » and « à ») in the title column.\n",
    "\n",
    "The title_orig on the other hand contains the original title (the base title) that is displayed by default. When a translation is provided by the seller, it appears in the title column. When the title and title_orig columns are the same, it generally means that the seller did not specify a translation that would be displayed to users with french settings.\n",
    "\n",
    "A picture is worth a thousand words. In the following screenshot you see some features and how to interpret them."
   ]
  },
  {
   "cell_type": "markdown",
   "id": "2e76a8bc",
   "metadata": {
    "deletable": false,
    "editable": false,
    "nbgrader": {
     "cell_type": "markdown",
     "checksum": "e71b070ccd907e1fe099d155b4b0c4e6",
     "grade": false,
     "grade_id": "cell-9b6099c3a5380cf8",
     "locked": true,
     "schema_version": 3,
     "solution": false,
     "task": false
    }
   },
   "source": [
    "![](wish_viz.jpg)"
   ]
  },
  {
   "cell_type": "code",
   "execution_count": 165,
   "id": "afa026fd",
   "metadata": {
    "deletable": false,
    "nbgrader": {
     "cell_type": "code",
     "checksum": "24df17957ed1bc59b546ebc8016a1054",
     "grade": false,
     "grade_id": "cell-90cb0ba6b0e67ba6",
     "locked": false,
     "schema_version": 3,
     "solution": true,
     "task": false
    }
   },
   "outputs": [
    {
     "name": "stdout",
     "output_type": "stream",
     "text": [
      "Index(['title', 'title_orig', 'price', 'retail_price', 'currency_buyer',\n",
      "       'units_sold', 'uses_ad_boosts', 'rating', 'rating_count',\n",
      "       'rating_five_count', 'rating_four_count', 'rating_three_count',\n",
      "       'rating_two_count', 'rating_one_count', 'badges_count',\n",
      "       'badge_local_product', 'badge_product_quality', 'badge_fast_shipping',\n",
      "       'tags', 'product_color', 'product_variation_size_id',\n",
      "       'product_variation_inventory', 'shipping_option_name',\n",
      "       'shipping_option_price', 'shipping_is_express', 'countries_shipped_to',\n",
      "       'inventory_total', 'has_urgency_banner', 'urgency_text',\n",
      "       'origin_country', 'merchant_title', 'merchant_name',\n",
      "       'merchant_info_subtitle', 'merchant_rating_count', 'merchant_rating',\n",
      "       'merchant_id', 'merchant_has_profile_picture',\n",
      "       'merchant_profile_picture', 'product_url', 'product_picture',\n",
      "       'product_id', 'theme', 'crawl_month', 'cwarl_month', 'sales_category',\n",
      "       'price_zscore'],\n",
      "      dtype='object')\n",
      "0    3.76\n",
      "1    3.45\n",
      "2    3.57\n",
      "3    4.03\n",
      "4    3.10\n",
      "Name: rating, dtype: float64\n"
     ]
    }
   ],
   "source": [
    "### Ex-10-Task-1\n",
    "df = None \n",
    "# Read the product data frame with rating and performance \n",
    "### BEGIN SOLUTION \n",
    "# YOUR CODE HERE\n",
    "#df = pd.read_csv('summer-products-with-rating-and-performance_2020-08.csv')\n",
    "df = df_product\n",
    "\n",
    "\n",
    "print(df.columns)\n",
    "\n",
    "print(df['rating'].head())\n",
    "#print(df[['rating', 'performance']].head())\n",
    "\n",
    "### END SOLUTION"
   ]
  },
  {
   "cell_type": "code",
   "execution_count": null,
   "id": "0ab02271",
   "metadata": {
    "deletable": false,
    "editable": false,
    "nbgrader": {
     "cell_type": "code",
     "checksum": "ba1f8eec0e748389ffcb340905bb0129",
     "grade": true,
     "grade_id": "cell-149f0a0caae47f29",
     "locked": true,
     "points": 1,
     "schema_version": 3,
     "solution": false,
     "task": false
    }
   },
   "outputs": [],
   "source": []
  },
  {
   "cell_type": "markdown",
   "id": "e9264124",
   "metadata": {
    "deletable": false,
    "editable": false,
    "nbgrader": {
     "cell_type": "markdown",
     "checksum": "ca24904520f7f44ef87718413603058c",
     "grade": false,
     "grade_id": "cell-89ba6af5a35d2ddc",
     "locked": true,
     "schema_version": 3,
     "solution": false,
     "task": false
    }
   },
   "source": [
    "There are total 43 columns. Let's try to reduce the number. \n",
    "\n",
    "#### Some considerations:\n",
    "- Excluded product color and size because it's just showing the ones that were found in getting the data : there are more colors and sizes for each product so having just one for each category doesn't say much.\n",
    "- Excluded currency used, as every price is in EUR\n",
    "- Excluded shipping option, the \"shipping_is_express\" column is enough.\n",
    "- Excluded product's and merchant's id's and pictures, that won't be needed.\n",
    "- Use only original title \n",
    "\n"
   ]
  },
  {
   "cell_type": "markdown",
   "id": "a3079bf3",
   "metadata": {
    "deletable": false,
    "editable": false,
    "nbgrader": {
     "cell_type": "markdown",
     "checksum": "0242c22e9222213a8fef9d25a671cb08",
     "grade": false,
     "grade_id": "cell-f1e0b4fff17ae336",
     "locked": true,
     "schema_version": 3,
     "solution": false,
     "task": false
    }
   },
   "source": [
    "After removal of column, it must only have these columns. \n",
    "\n",
    "'title_orig', 'price', 'retail_price',\n",
    "'units_sold', 'uses_ad_boosts', 'rating', 'rating_count',\n",
    "'rating_five_count', 'rating_four_count', 'rating_three_count',\n",
    "'rating_two_count', 'rating_one_count', 'badges_count',\n",
    "'badge_local_product', 'badge_product_quality', 'badge_fast_shipping',\n",
    "'tags', 'shipping_option_price', 'shipping_is_express', 'countries_shipped_to',\n",
    "'inventory_total', 'has_urgency_banner',\n",
    "'merchant_rating_count', 'merchant_rating',\n",
    "'merchant_has_profile_picture'"
   ]
  },
  {
   "cell_type": "code",
   "execution_count": 166,
   "id": "eda6dc85",
   "metadata": {
    "deletable": false,
    "nbgrader": {
     "cell_type": "code",
     "checksum": "9aef7b79f087403a189c5713cd5b4c6b",
     "grade": false,
     "grade_id": "cell-762c798491c128f0",
     "locked": false,
     "schema_version": 3,
     "solution": true,
     "task": false
    }
   },
   "outputs": [
    {
     "name": "stdout",
     "output_type": "stream",
     "text": [
      "has_urgency_banner\n",
      "1.0    473\n",
      "Name: count, dtype: int64\n",
      "<class 'pandas.core.frame.DataFrame'>\n",
      "RangeIndex: 1573 entries, 0 to 1572\n",
      "Data columns (total 24 columns):\n",
      " #   Column                        Non-Null Count  Dtype  \n",
      "---  ------                        --------------  -----  \n",
      " 0   title                         1573 non-null   object \n",
      " 1   price                         1573 non-null   int64  \n",
      " 2   retail_price                  1573 non-null   int64  \n",
      " 3   units_sold                    1573 non-null   int64  \n",
      " 4   uses_ad_boosts                1573 non-null   int64  \n",
      " 5   rating                        1573 non-null   float64\n",
      " 6   rating_count                  1573 non-null   int64  \n",
      " 7   rating_five_count             1573 non-null   float64\n",
      " 8   rating_four_count             1573 non-null   float64\n",
      " 9   rating_three_count            1528 non-null   float64\n",
      " 10  rating_two_count              1528 non-null   float64\n",
      " 11  rating_one_count              1528 non-null   float64\n",
      " 12  badges_count                  1573 non-null   int64  \n",
      " 13  badge_local_product           1573 non-null   int64  \n",
      " 14  badge_product_quality         1573 non-null   int64  \n",
      " 15  badge_fast_shipping           1573 non-null   int64  \n",
      " 16  tags                          1573 non-null   object \n",
      " 17  shipping_option_price         1573 non-null   int64  \n",
      " 18  shipping_is_express           1573 non-null   int64  \n",
      " 19  countries_shipped_to          1573 non-null   int64  \n",
      " 20  is_running_out                1573 non-null   float64\n",
      " 21  merchant_rating_count         1573 non-null   int64  \n",
      " 22  merchant_rating               1573 non-null   float64\n",
      " 23  merchant_has_profile_picture  1573 non-null   int64  \n",
      "dtypes: float64(8), int64(14), object(2)\n",
      "memory usage: 295.1+ KB\n",
      "None\n",
      "title                            0\n",
      "price                            0\n",
      "retail_price                     0\n",
      "units_sold                       0\n",
      "uses_ad_boosts                   0\n",
      "rating                           0\n",
      "rating_count                     0\n",
      "rating_five_count                0\n",
      "rating_four_count                0\n",
      "rating_three_count              45\n",
      "rating_two_count                45\n",
      "rating_one_count                45\n",
      "badges_count                     0\n",
      "badge_local_product              0\n",
      "badge_product_quality            0\n",
      "badge_fast_shipping              0\n",
      "tags                             0\n",
      "shipping_option_price            0\n",
      "shipping_is_express              0\n",
      "countries_shipped_to             0\n",
      "is_running_out                   0\n",
      "merchant_rating_count            0\n",
      "merchant_rating                  0\n",
      "merchant_has_profile_picture     0\n",
      "dtype: int64\n",
      "is_running_out\n",
      "0.0    1100\n",
      "1.0     473\n",
      "Name: count, dtype: int64\n"
     ]
    },
    {
     "name": "stderr",
     "output_type": "stream",
     "text": [
      "/var/folders/k5/y70cdbnd4p52p6lw24_rbrl40000gn/T/ipykernel_95370/4231100504.py:24: SettingWithCopyWarning: \n",
      "A value is trying to be set on a copy of a slice from a DataFrame.\n",
      "Try using .loc[row_indexer,col_indexer] = value instead\n",
      "\n",
      "See the caveats in the documentation: https://pandas.pydata.org/pandas-docs/stable/user_guide/indexing.html#returning-a-view-versus-a-copy\n",
      "  df['has_urgency_banner'] = df['has_urgency_banner'].fillna(0)\n"
     ]
    }
   ],
   "source": [
    "### Ex-10-Task-2\n",
    "df = df[['title_orig', 'price', 'retail_price',\n",
    "        'units_sold', 'uses_ad_boosts', 'rating', 'rating_count',\n",
    "       'rating_five_count', 'rating_four_count', 'rating_three_count',\n",
    "       'rating_two_count', 'rating_one_count', 'badges_count',\n",
    "       'badge_local_product', 'badge_product_quality', 'badge_fast_shipping',\n",
    "       'tags', 'shipping_option_price','shipping_is_express', 'countries_shipped_to',\n",
    "        'has_urgency_banner','merchant_rating_count', 'merchant_rating','merchant_has_profile_picture',\n",
    "        ]]\n",
    "\n",
    "# print(df.info())\n",
    "# print(df.isna().sum())\n",
    "# print(df['has_urgency_banner'].value_counts())\n",
    "# Check the data frame information, total no. of null entries in each columns and has_urgency_banner columns counts\n",
    "# After loading the data we se we have 1573 entries and some null values, let's see what some of them are about:\n",
    "# - Exactly 45 for rating counts from 1 to 5 star, could it be that there are products with no ratings at all?\n",
    "# - 1100 null values in the has urgency banner : the values there are 1's so the null values should be turned into 0's\n",
    "# Now, Rename the columns 'has_urgency_banner' to 'is_running_out' and 'title_orig' to 'title' to make it more clear.\n",
    "# **Fix the runing out column. fill all the null values with 0's.\n",
    "### BEGIN SOLUTION \n",
    "# YOUR CODE HERE\n",
    "\n",
    "print(df['has_urgency_banner'].value_counts())\n",
    "df['has_urgency_banner'] = df['has_urgency_banner'].fillna(0)\n",
    "df = df.rename(columns={'has_urgency_banner': 'is_running_out', 'title_orig': 'title'})\n",
    "\n",
    "print(df.info())\n",
    "\n",
    "print(df.isna().sum())\n",
    "\n",
    "print(df['is_running_out'].value_counts())\n",
    "\n",
    "### END SOLUTION"
   ]
  },
  {
   "cell_type": "code",
   "execution_count": null,
   "id": "ac9aff1d",
   "metadata": {
    "deletable": false,
    "editable": false,
    "nbgrader": {
     "cell_type": "code",
     "checksum": "7e21cd3722825c4ed91d6eb56a3a735d",
     "grade": true,
     "grade_id": "cell-2792a2b0fe4bc990",
     "locked": true,
     "points": 1,
     "schema_version": 3,
     "solution": false,
     "task": false
    }
   },
   "outputs": [],
   "source": []
  },
  {
   "cell_type": "markdown",
   "id": "13dcdebe",
   "metadata": {
    "deletable": false,
    "editable": false,
    "nbgrader": {
     "cell_type": "markdown",
     "checksum": "b2eeb7b92b19bee482f66fca23267920",
     "grade": false,
     "grade_id": "cell-3e87e9d30abaae85",
     "locked": true,
     "schema_version": 3,
     "solution": false,
     "task": false
    }
   },
   "source": [
    "#### Check if all the 45 null values for all rating columns belong to same product.\n",
    "- Get the dataframe for which rating_five_count have null values\n",
    "- Then, Count the no. of null values for four, three, two and one rating column.\n",
    "\n",
    "Conclusion: As expected we see the null values in the rating are actually of the same 45 products"
   ]
  },
  {
   "cell_type": "code",
   "execution_count": 167,
   "id": "50e1bf69",
   "metadata": {
    "deletable": false,
    "nbgrader": {
     "cell_type": "code",
     "checksum": "17f2ed322b10f89e0698476589c7a45a",
     "grade": false,
     "grade_id": "cell-869ce4e343b94b16",
     "locked": false,
     "schema_version": 3,
     "solution": true,
     "task": false
    }
   },
   "outputs": [
    {
     "name": "stdout",
     "output_type": "stream",
     "text": [
      "0       False\n",
      "1       False\n",
      "2       False\n",
      "3       False\n",
      "4       False\n",
      "        ...  \n",
      "1568    False\n",
      "1569    False\n",
      "1570    False\n",
      "1571    False\n",
      "1572    False\n",
      "Name: rating_five_count, Length: 1573, dtype: bool\n",
      "0       False\n",
      "1       False\n",
      "2       False\n",
      "3       False\n",
      "4       False\n",
      "        ...  \n",
      "1568    False\n",
      "1569    False\n",
      "1570    False\n",
      "1571    False\n",
      "1572    False\n",
      "Name: rating_five_count, Length: 1573, dtype: bool\n"
     ]
    }
   ],
   "source": [
    "### Ex-10-Task-3\n",
    "df[df['rating_five_count'].isna()][['rating_four_count', 'rating_three_count',\n",
    "       'rating_two_count', 'rating_one_count']].isna().sum()\n",
    "df[df['rating_five_count'].isna()].head()\n",
    "# They seem to be having a rating of 5 even with no ratings: we are going to change the rating and all the rating counts to 0\n",
    "### BEGIN SOLUTION \n",
    "# YOUR CODE HERE\n",
    "mask = df['rating_five_count'].isna()\n",
    "print(mask)\n",
    "rating_cols = ['rating', 'rating_count', 'rating_five_count', 'rating_four_count',\n",
    "               'rating_three_count', 'rating_two_count', 'rating_one_count']\n",
    "\n",
    "\n",
    "df.loc[mask, rating_cols] = 0\n",
    "print(mask)\n",
    "### END SOLUTION"
   ]
  },
  {
   "cell_type": "code",
   "execution_count": null,
   "id": "3ce42672",
   "metadata": {
    "deletable": false,
    "editable": false,
    "nbgrader": {
     "cell_type": "code",
     "checksum": "7443bae47b542a2ac3b422cc4d452f8e",
     "grade": true,
     "grade_id": "cell-c19575e64a68a249",
     "locked": true,
     "points": 2,
     "schema_version": 3,
     "solution": false,
     "task": false
    }
   },
   "outputs": [],
   "source": []
  },
  {
   "cell_type": "markdown",
   "id": "ed51746f",
   "metadata": {
    "deletable": false,
    "editable": false,
    "nbgrader": {
     "cell_type": "markdown",
     "checksum": "fbff584ffbd8a2c144cec0f1a0cde971",
     "grade": false,
     "grade_id": "cell-d6aeb563abcc4dd7",
     "locked": true,
     "schema_version": 3,
     "solution": false,
     "task": false
    }
   },
   "source": [
    "## Data Exploration"
   ]
  },
  {
   "cell_type": "markdown",
   "id": "4e5c8df3",
   "metadata": {
    "deletable": false,
    "editable": false,
    "nbgrader": {
     "cell_type": "markdown",
     "checksum": "6e51d4f2d3b52c2d7e2810aff5b411d4",
     "grade": false,
     "grade_id": "cell-59d1f46caa0cc552",
     "locked": true,
     "schema_version": 3,
     "solution": false,
     "task": false
    }
   },
   "source": [
    "```df['units_sold'].unique()```"
   ]
  },
  {
   "cell_type": "markdown",
   "id": "596bf957",
   "metadata": {
    "deletable": false,
    "editable": false,
    "nbgrader": {
     "cell_type": "markdown",
     "checksum": "588bf7f26bf04ccfa68d60dca86ee41d",
     "grade": false,
     "grade_id": "cell-0fa82b606236279e",
     "locked": true,
     "schema_version": 3,
     "solution": false,
     "task": false
    }
   },
   "source": [
    "It seems like they are all numbers approximated to their lower bound. So let's pretend they are divided in ranges like this:\n",
    "\n",
    "- 10-100\n",
    "- 100-1000\n",
    "- 1000-5000\n",
    "- 5000-10000\n",
    "- 10000-20000\n",
    "- 20000-50000\n",
    "- 50000-100000\n",
    "- 100000+\n",
    "\n",
    "Let's define 3 performance characteristics:\n",
    "\n",
    "- Average : 0-1000\n",
    "- Successful: 1000-20000\n",
    "- Very Successful 20000+\n",
    "\n",
    "Find the percentage of product belongs to each category.\n",
    "Steps:\n",
    "1. First find the performance category and store in performance columns\n",
    "2. Then, Calculate the percentage of product in each performance category\n",
    "\n"
   ]
  },
  {
   "cell_type": "code",
   "execution_count": 168,
   "id": "744063f9",
   "metadata": {
    "deletable": false,
    "nbgrader": {
     "cell_type": "code",
     "checksum": "35529fcfa1f1c61b58d31304db826093",
     "grade": false,
     "grade_id": "cell-276dee2ed209a6be",
     "locked": false,
     "schema_version": 3,
     "solution": true,
     "task": false
    }
   },
   "outputs": [],
   "source": [
    "### Ex-10-Task-4\n",
    "percentage_of_product_in_each_performance_category = None\n",
    "### BEGIN SOLUTION \n",
    "# YOUR CODE HERE\n",
    "def get_performance_category(units_sold):\n",
    "    if units_sold <= 1000:\n",
    "        return 'Average'\n",
    "    elif units_sold <= 20000:\n",
    "        return 'Successful'\n",
    "    else:\n",
    "        return 'Very Successful'\n",
    "    \n",
    "df['performance'] = df['units_sold'].apply(get_performance_category)\n",
    "\n",
    "percentage_of_product_in_each_performance_category = df['performance'].value_counts(normalize=True) * 100\n",
    "\n",
    "\n",
    "### END SOLUTION\n"
   ]
  },
  {
   "cell_type": "code",
   "execution_count": null,
   "id": "6bcdd8a8",
   "metadata": {
    "deletable": false,
    "editable": false,
    "nbgrader": {
     "cell_type": "code",
     "checksum": "aa928a1697ccdbf3114c1f2254ccf6fd",
     "grade": true,
     "grade_id": "cell-084e3aae9beedb69",
     "locked": true,
     "points": 2,
     "schema_version": 3,
     "solution": false,
     "task": false
    }
   },
   "outputs": [],
   "source": []
  },
  {
   "cell_type": "markdown",
   "id": "4bbf4f98",
   "metadata": {
    "deletable": false,
    "editable": false,
    "nbgrader": {
     "cell_type": "markdown",
     "checksum": "8864f799b28e44ca1f2c677f132470a4",
     "grade": false,
     "grade_id": "cell-a8b02413975b57af",
     "locked": true,
     "schema_version": 3,
     "solution": false,
     "task": false
    }
   },
   "source": [
    "## Product Rating and Performance Comparision"
   ]
  },
  {
   "cell_type": "markdown",
   "id": "8c62adc0",
   "metadata": {
    "deletable": false,
    "editable": false,
    "nbgrader": {
     "cell_type": "markdown",
     "checksum": "21c03ebbe4b9b2e41b5e7a13ee035167",
     "grade": false,
     "grade_id": "cell-4a647c18ed111e2b",
     "locked": true,
     "schema_version": 3,
     "solution": false,
     "task": false
    }
   },
   "source": [
    "Looking at the rating columns I notice two things:\n",
    "\n",
    "- Some products have a rating count that's too low to be considered, let's only look at products with more than 150 ratings to try to have a fair result\n",
    "- The rating of the products is a decimal number: let's create another column that categorizes each product into it's rating range.\n",
    "    - columns are \n",
    "        1. < 1 if rating < 1\n",
    "        2. 1-2 if rating >= 1 and rating < 2\n",
    "        3. 2-3 if rating >= 2 and rating < 3\n",
    "        4. 3-4 if rating >= 3 and rating < 4\n",
    "        5. 4-5 if rating >= 4 and rating < 5\n",
    "- Create pivot table with performance in index, raiting_range in column and no. of product as values\n",
    "\n"
   ]
  },
  {
   "cell_type": "code",
   "execution_count": 169,
   "id": "7ba90b50",
   "metadata": {
    "deletable": false,
    "nbgrader": {
     "cell_type": "code",
     "checksum": "d4f088eea8ca9938262fea4ab09abca6",
     "grade": false,
     "grade_id": "cell-232ab77d5b3981bf",
     "locked": false,
     "schema_version": 3,
     "solution": true,
     "task": false
    }
   },
   "outputs": [],
   "source": [
    "### Ex-10-Task-5\n",
    "df_ratings = pd.DataFrame()  ## get records with rating_count > 100\n",
    "df_ratings['rating_range'] = None\n",
    "pivot_table = None\n",
    "### BEGIN SOLUTION \n",
    "# YOUR CODE HERE\n",
    "df_ratings = df[df['rating_count'] > 150].copy()\n",
    "\n",
    "\n",
    "def get_rating_range(rating):\n",
    "    if rating < 1:\n",
    "        return '<1'\n",
    "    elif rating < 2:\n",
    "        return '1-2'\n",
    "    elif rating < 3:\n",
    "        return '2-3'\n",
    "    elif rating < 4:\n",
    "        return '3-4'\n",
    "    else:\n",
    "        return '4-5'\n",
    "    \n",
    "df_ratings['rating_range'] = df_ratings['rating'].apply(get_rating_range)\n",
    "\n",
    "\n",
    "pivot_table = pd.pivot_table(\n",
    "    df_ratings,\n",
    "    values='title',               \n",
    "    index='performance',\n",
    "    columns='rating_range',\n",
    "    aggfunc='count',\n",
    "    fill_value=0\n",
    ")\n",
    "\n",
    "\n",
    "### END SOLUTION"
   ]
  },
  {
   "cell_type": "markdown",
   "id": "be1c64f7",
   "metadata": {
    "deletable": false,
    "editable": false,
    "nbgrader": {
     "cell_type": "markdown",
     "checksum": "8f815dc10b09235a6349f5372925d578",
     "grade": false,
     "grade_id": "cell-318c2c6d0f68165f",
     "locked": true,
     "schema_version": 3,
     "solution": false,
     "task": false
    }
   },
   "source": [
    "This table shows that if the product have average rating of 3-4. THen, it is most likely to be successful product."
   ]
  },
  {
   "cell_type": "code",
   "execution_count": 170,
   "id": "c23169c8",
   "metadata": {
    "deletable": false,
    "editable": false,
    "nbgrader": {
     "cell_type": "code",
     "checksum": "3685a856131460d5a48299f1e10c6955",
     "grade": true,
     "grade_id": "cell-f722ef96643e7bc3",
     "locked": true,
     "points": 3,
     "schema_version": 3,
     "solution": false,
     "task": false
    }
   },
   "outputs": [
    {
     "name": "stdout",
     "output_type": "stream",
     "text": [
      "rating_range     2-3  3-4  4-5\n",
      "performance                   \n",
      "Average            2  167   98\n",
      "Successful         4  301  190\n",
      "Very Successful    0   15    8\n"
     ]
    }
   ],
   "source": [
    "print(pivot_table)"
   ]
  },
  {
   "cell_type": "code",
   "execution_count": null,
   "id": "4abdcb7c",
   "metadata": {
    "deletable": false,
    "editable": false,
    "nbgrader": {
     "cell_type": "code",
     "checksum": "ea80f5ec32e1d04ae2641eb2643c6b12",
     "grade": false,
     "grade_id": "cell-68e58f026e8e4cc4",
     "locked": true,
     "schema_version": 3,
     "solution": false,
     "task": false
    }
   },
   "outputs": [],
   "source": []
  }
 ],
 "metadata": {
  "kernelspec": {
   "display_name": "Python 3",
   "language": "python",
   "name": "python3"
  },
  "language_info": {
   "codemirror_mode": {
    "name": "ipython",
    "version": 3
   },
   "file_extension": ".py",
   "mimetype": "text/x-python",
   "name": "python",
   "nbconvert_exporter": "python",
   "pygments_lexer": "ipython3",
   "version": "3.11.11"
  }
 },
 "nbformat": 4,
 "nbformat_minor": 5
}
