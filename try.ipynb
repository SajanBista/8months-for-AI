{
 "cells": [
  {
   "cell_type": "code",
   "execution_count": 13,
   "id": "b9878abd",
   "metadata": {},
   "outputs": [
    {
     "name": "stdout",
     "output_type": "stream",
     "text": [
      "Requirement already satisfied: kaggle in /Users/sajanbista/Desktop/8months for AI/REST API/.venv/lib/python3.12/site-packages (1.7.4.2)\n",
      "Requirement already satisfied: bleach in /Users/sajanbista/Desktop/8months for AI/REST API/.venv/lib/python3.12/site-packages (from kaggle) (6.2.0)\n",
      "Requirement already satisfied: certifi>=14.05.14 in /Users/sajanbista/Desktop/8months for AI/REST API/.venv/lib/python3.12/site-packages (from kaggle) (2025.4.26)\n",
      "Requirement already satisfied: charset-normalizer in /Users/sajanbista/Desktop/8months for AI/REST API/.venv/lib/python3.12/site-packages (from kaggle) (3.4.2)\n",
      "Requirement already satisfied: idna in /Users/sajanbista/Desktop/8months for AI/REST API/.venv/lib/python3.12/site-packages (from kaggle) (3.10)\n",
      "Requirement already satisfied: protobuf in /Users/sajanbista/Desktop/8months for AI/REST API/.venv/lib/python3.12/site-packages (from kaggle) (6.30.2)\n",
      "Requirement already satisfied: python-dateutil>=2.5.3 in /Users/sajanbista/Desktop/8months for AI/REST API/.venv/lib/python3.12/site-packages (from kaggle) (2.9.0.post0)\n",
      "Requirement already satisfied: python-slugify in /Users/sajanbista/Desktop/8months for AI/REST API/.venv/lib/python3.12/site-packages (from kaggle) (8.0.4)\n",
      "Requirement already satisfied: requests in /Users/sajanbista/Desktop/8months for AI/REST API/.venv/lib/python3.12/site-packages (from kaggle) (2.32.3)\n",
      "Requirement already satisfied: setuptools>=21.0.0 in /Users/sajanbista/Desktop/8months for AI/REST API/.venv/lib/python3.12/site-packages (from kaggle) (80.3.1)\n",
      "Requirement already satisfied: six>=1.10 in /Users/sajanbista/Desktop/8months for AI/REST API/.venv/lib/python3.12/site-packages (from kaggle) (1.17.0)\n",
      "Requirement already satisfied: text-unidecode in /Users/sajanbista/Desktop/8months for AI/REST API/.venv/lib/python3.12/site-packages (from kaggle) (1.3)\n",
      "Requirement already satisfied: tqdm in /Users/sajanbista/Desktop/8months for AI/REST API/.venv/lib/python3.12/site-packages (from kaggle) (4.67.1)\n",
      "Requirement already satisfied: urllib3>=1.15.1 in /Users/sajanbista/Desktop/8months for AI/REST API/.venv/lib/python3.12/site-packages (from kaggle) (2.4.0)\n",
      "Requirement already satisfied: webencodings in /Users/sajanbista/Desktop/8months for AI/REST API/.venv/lib/python3.12/site-packages (from kaggle) (0.5.1)\n",
      "Requirement already satisfied: aiofiles in /Users/sajanbista/Desktop/8months for AI/REST API/.venv/lib/python3.12/site-packages (24.1.0)\n"
     ]
    }
   ],
   "source": [
    "!pip install kaggle\n",
    "!pip install aiofiles"
   ]
  },
  {
   "cell_type": "code",
   "execution_count": 14,
   "id": "ae1e1335",
   "metadata": {},
   "outputs": [
    {
     "ename": "RuntimeError",
     "evalue": "asyncio.run() cannot be called from a running event loop",
     "output_type": "error",
     "traceback": [
      "\u001b[31m---------------------------------------------------------------------------\u001b[39m",
      "\u001b[31mRuntimeError\u001b[39m                              Traceback (most recent call last)",
      "\u001b[36mCell\u001b[39m\u001b[36m \u001b[39m\u001b[32mIn[14]\u001b[39m\u001b[32m, line 47\u001b[39m\n\u001b[32m     44\u001b[39m     \u001b[38;5;28;01mawait\u001b[39;00m unzip_dataset()\n\u001b[32m     46\u001b[39m \u001b[38;5;66;03m# Run the async tasks\u001b[39;00m\n\u001b[32m---> \u001b[39m\u001b[32m47\u001b[39m \u001b[43masyncio\u001b[49m\u001b[43m.\u001b[49m\u001b[43mrun\u001b[49m\u001b[43m(\u001b[49m\u001b[43mmain\u001b[49m\u001b[43m(\u001b[49m\u001b[43m)\u001b[49m\u001b[43m)\u001b[49m\n",
      "\u001b[36mFile \u001b[39m\u001b[32m/Library/Frameworks/Python.framework/Versions/3.12/lib/python3.12/asyncio/runners.py:190\u001b[39m, in \u001b[36mrun\u001b[39m\u001b[34m(main, debug, loop_factory)\u001b[39m\n\u001b[32m    161\u001b[39m \u001b[38;5;250m\u001b[39m\u001b[33;03m\"\"\"Execute the coroutine and return the result.\u001b[39;00m\n\u001b[32m    162\u001b[39m \n\u001b[32m    163\u001b[39m \u001b[33;03mThis function runs the passed coroutine, taking care of\u001b[39;00m\n\u001b[32m   (...)\u001b[39m\u001b[32m    186\u001b[39m \u001b[33;03m    asyncio.run(main())\u001b[39;00m\n\u001b[32m    187\u001b[39m \u001b[33;03m\"\"\"\u001b[39;00m\n\u001b[32m    188\u001b[39m \u001b[38;5;28;01mif\u001b[39;00m events._get_running_loop() \u001b[38;5;129;01mis\u001b[39;00m \u001b[38;5;129;01mnot\u001b[39;00m \u001b[38;5;28;01mNone\u001b[39;00m:\n\u001b[32m    189\u001b[39m     \u001b[38;5;66;03m# fail fast with short traceback\u001b[39;00m\n\u001b[32m--> \u001b[39m\u001b[32m190\u001b[39m     \u001b[38;5;28;01mraise\u001b[39;00m \u001b[38;5;167;01mRuntimeError\u001b[39;00m(\n\u001b[32m    191\u001b[39m         \u001b[33m\"\u001b[39m\u001b[33masyncio.run() cannot be called from a running event loop\u001b[39m\u001b[33m\"\u001b[39m)\n\u001b[32m    193\u001b[39m \u001b[38;5;28;01mwith\u001b[39;00m Runner(debug=debug, loop_factory=loop_factory) \u001b[38;5;28;01mas\u001b[39;00m runner:\n\u001b[32m    194\u001b[39m     \u001b[38;5;28;01mreturn\u001b[39;00m runner.run(main)\n",
      "\u001b[31mRuntimeError\u001b[39m: asyncio.run() cannot be called from a running event loop"
     ]
    }
   ],
   "source": [
    "import asyncio\n",
    "import os\n",
    "import aiofiles\n",
    "import zipfile\n",
    "\n",
    "# Path where dataset will be stored\n",
    "DATA_DIR = \"datasets/iris\"\n",
    "\n",
    "# Dataset identifier on Kaggle\n",
    "DATASET = \"uciml/iris\"\n",
    "\n",
    "async def create_data_dir():\n",
    "    os.makedirs(DATA_DIR, exist_ok=True)\n",
    "\n",
    "async def download_dataset():\n",
    "    print(\"Starting dataset download...\")\n",
    "    # Use subprocess to call the Kaggle CLI (not natively async)\n",
    "    process = await asyncio.create_subprocess_exec(\n",
    "        \"kaggle\", \"datasets\", \"download\", DATASET,\n",
    "        \"--path\", DATA_DIR,\n",
    "        stdout=asyncio.subprocess.PIPE,\n",
    "        stderr=asyncio.subprocess.PIPE\n",
    "    )\n",
    "    stdout, stderr = await process.communicate()\n",
    "\n",
    "    if process.returncode == 0:\n",
    "        print(\"Download completed successfully.\")\n",
    "    else:\n",
    "        print(f\"Error occurred: {stderr.decode()}\")\n",
    "\n",
    "async def unzip_dataset():\n",
    "    for file in os.listdir(DATA_DIR):\n",
    "        if file.endswith(\".zip\"):\n",
    "            zip_path = os.path.join(DATA_DIR, file)\n",
    "            print(f\"Unzipping {zip_path}...\")\n",
    "            with zipfile.ZipFile(zip_path, 'r') as zip_ref:\n",
    "                zip_ref.extractall(DATA_DIR)\n",
    "            os.remove(zip_path)\n",
    "            print(\"Unzip complete.\")\n",
    "\n",
    "async def main():\n",
    "    await create_data_dir()\n",
    "    await download_dataset()\n",
    "    await unzip_dataset()\n",
    "\n",
    "# Run the async tasks\n",
    "asyncio.run(main())\n",
    "\n"
   ]
  }
 ],
 "metadata": {
  "kernelspec": {
   "display_name": ".venv",
   "language": "python",
   "name": "python3"
  },
  "language_info": {
   "codemirror_mode": {
    "name": "ipython",
    "version": 3
   },
   "file_extension": ".py",
   "mimetype": "text/x-python",
   "name": "python",
   "nbconvert_exporter": "python",
   "pygments_lexer": "ipython3",
   "version": "3.12.5"
  }
 },
 "nbformat": 4,
 "nbformat_minor": 5
}
