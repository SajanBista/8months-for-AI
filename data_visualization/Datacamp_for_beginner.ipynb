{
 "cells": [
  {
   "cell_type": "markdown",
   "id": "d4362c56",
   "metadata": {},
   "source": [
    "###importing the necessary libraries"
   ]
  },
  {
   "cell_type": "code",
   "execution_count": 22,
   "id": "2d16f29c",
   "metadata": {},
   "outputs": [
    {
     "name": "stdout",
     "output_type": "stream",
     "text": [
      "Requirement already satisfied: pandas in /opt/homebrew/lib/python3.11/site-packages (2.2.3)\n",
      "Requirement already satisfied: numpy>=1.23.2 in /opt/homebrew/lib/python3.11/site-packages (from pandas) (2.2.6)\n",
      "Requirement already satisfied: python-dateutil>=2.8.2 in /Users/sajanbista/Library/Python/3.11/lib/python/site-packages (from pandas) (2.9.0.post0)\n",
      "Requirement already satisfied: pytz>=2020.1 in /opt/homebrew/lib/python3.11/site-packages (from pandas) (2025.2)\n",
      "Requirement already satisfied: tzdata>=2022.7 in /opt/homebrew/lib/python3.11/site-packages (from pandas) (2025.2)\n",
      "Requirement already satisfied: six>=1.5 in /Users/sajanbista/Library/Python/3.11/lib/python/site-packages (from python-dateutil>=2.8.2->pandas) (1.17.0)\n",
      "\n",
      "\u001b[1m[\u001b[0m\u001b[34;49mnotice\u001b[0m\u001b[1;39;49m]\u001b[0m\u001b[39;49m A new release of pip is available: \u001b[0m\u001b[31;49m24.3.1\u001b[0m\u001b[39;49m -> \u001b[0m\u001b[32;49m25.1.1\u001b[0m\n",
      "\u001b[1m[\u001b[0m\u001b[34;49mnotice\u001b[0m\u001b[1;39;49m]\u001b[0m\u001b[39;49m To update, run: \u001b[0m\u001b[32;49mpython3.11 -m pip install --upgrade pip\u001b[0m\n",
      "Note: you may need to restart the kernel to use updated packages.\n"
     ]
    }
   ],
   "source": [
    "pip install pandas # type: ignore"
   ]
  },
  {
   "cell_type": "code",
   "execution_count": 23,
   "id": "8fa7524f",
   "metadata": {},
   "outputs": [],
   "source": [
    "import pandas as pd # type: ignore\n",
    "import matplotlib.pyplot as plt\n",
    "import numpy as np\n",
    "from datetime import datetime \n",
    " "
   ]
  },
  {
   "cell_type": "code",
   "execution_count": 24,
   "id": "f4725618",
   "metadata": {},
   "outputs": [
    {
     "data": {
      "application/vnd.microsoft.datawrangler.viewer.v0+json": {
       "columns": [
        {
         "name": "index",
         "rawType": "int64",
         "type": "integer"
        },
        {
         "name": "Date",
         "rawType": "object",
         "type": "string"
        },
        {
         "name": " Open",
         "rawType": "float64",
         "type": "float"
        },
        {
         "name": " High",
         "rawType": "float64",
         "type": "float"
        },
        {
         "name": " Low",
         "rawType": "float64",
         "type": "float"
        },
        {
         "name": " Close",
         "rawType": "float64",
         "type": "float"
        }
       ],
       "ref": "3c40321b-7a06-4e70-8a33-ded034e14e69",
       "rows": [
        [
         "0",
         "05/23/25",
         "41525.7",
         "41788.61",
         "41354.09",
         "41603.07"
        ],
        [
         "1",
         "05/22/25",
         "41763.68",
         "42090.42",
         "41714.43",
         "41859.09"
        ],
        [
         "2",
         "05/21/25",
         "42354.46",
         "42439.27",
         "41785.22",
         "41860.44"
        ],
        [
         "3",
         "05/20/25",
         "42735.11",
         "42800.04",
         "42485.37",
         "42677.24"
        ],
        [
         "4",
         "05/19/25",
         "42542.81",
         "42842.04",
         "42337.71",
         "42792.07"
        ]
       ],
       "shape": {
        "columns": 5,
        "rows": 5
       }
      },
      "text/html": [
       "<div>\n",
       "<style scoped>\n",
       "    .dataframe tbody tr th:only-of-type {\n",
       "        vertical-align: middle;\n",
       "    }\n",
       "\n",
       "    .dataframe tbody tr th {\n",
       "        vertical-align: top;\n",
       "    }\n",
       "\n",
       "    .dataframe thead th {\n",
       "        text-align: right;\n",
       "    }\n",
       "</style>\n",
       "<table border=\"1\" class=\"dataframe\">\n",
       "  <thead>\n",
       "    <tr style=\"text-align: right;\">\n",
       "      <th></th>\n",
       "      <th>Date</th>\n",
       "      <th>Open</th>\n",
       "      <th>High</th>\n",
       "      <th>Low</th>\n",
       "      <th>Close</th>\n",
       "    </tr>\n",
       "  </thead>\n",
       "  <tbody>\n",
       "    <tr>\n",
       "      <th>0</th>\n",
       "      <td>05/23/25</td>\n",
       "      <td>41525.70</td>\n",
       "      <td>41788.61</td>\n",
       "      <td>41354.09</td>\n",
       "      <td>41603.07</td>\n",
       "    </tr>\n",
       "    <tr>\n",
       "      <th>1</th>\n",
       "      <td>05/22/25</td>\n",
       "      <td>41763.68</td>\n",
       "      <td>42090.42</td>\n",
       "      <td>41714.43</td>\n",
       "      <td>41859.09</td>\n",
       "    </tr>\n",
       "    <tr>\n",
       "      <th>2</th>\n",
       "      <td>05/21/25</td>\n",
       "      <td>42354.46</td>\n",
       "      <td>42439.27</td>\n",
       "      <td>41785.22</td>\n",
       "      <td>41860.44</td>\n",
       "    </tr>\n",
       "    <tr>\n",
       "      <th>3</th>\n",
       "      <td>05/20/25</td>\n",
       "      <td>42735.11</td>\n",
       "      <td>42800.04</td>\n",
       "      <td>42485.37</td>\n",
       "      <td>42677.24</td>\n",
       "    </tr>\n",
       "    <tr>\n",
       "      <th>4</th>\n",
       "      <td>05/19/25</td>\n",
       "      <td>42542.81</td>\n",
       "      <td>42842.04</td>\n",
       "      <td>42337.71</td>\n",
       "      <td>42792.07</td>\n",
       "    </tr>\n",
       "  </tbody>\n",
       "</table>\n",
       "</div>"
      ],
      "text/plain": [
       "       Date      Open      High       Low     Close\n",
       "0  05/23/25  41525.70  41788.61  41354.09  41603.07\n",
       "1  05/22/25  41763.68  42090.42  41714.43  41859.09\n",
       "2  05/21/25  42354.46  42439.27  41785.22  41860.44\n",
       "3  05/20/25  42735.11  42800.04  42485.37  42677.24\n",
       "4  05/19/25  42542.81  42842.04  42337.71  42792.07"
      ]
     },
     "execution_count": 24,
     "metadata": {},
     "output_type": "execute_result"
    }
   ],
   "source": [
    "dataset = pd.read_csv('HistoricalPrices.csv')\n",
    "dataset.head()"
   ]
  },
  {
   "cell_type": "code",
   "execution_count": 25,
   "id": "04246fd3",
   "metadata": {},
   "outputs": [
    {
     "data": {
      "application/vnd.microsoft.datawrangler.viewer.v0+json": {
       "columns": [
        {
         "name": "index",
         "rawType": "int64",
         "type": "integer"
        },
        {
         "name": "Date",
         "rawType": "object",
         "type": "string"
        },
        {
         "name": "Open",
         "rawType": "float64",
         "type": "float"
        },
        {
         "name": "High",
         "rawType": "float64",
         "type": "float"
        },
        {
         "name": "Low",
         "rawType": "float64",
         "type": "float"
        },
        {
         "name": "Close",
         "rawType": "float64",
         "type": "float"
        }
       ],
       "ref": "bbcc7fc4-b82c-4649-b35d-189b1787c522",
       "rows": [
        [
         "0",
         "05/23/25",
         "41525.7",
         "41788.61",
         "41354.09",
         "41603.07"
        ],
        [
         "1",
         "05/22/25",
         "41763.68",
         "42090.42",
         "41714.43",
         "41859.09"
        ],
        [
         "2",
         "05/21/25",
         "42354.46",
         "42439.27",
         "41785.22",
         "41860.44"
        ],
        [
         "3",
         "05/20/25",
         "42735.11",
         "42800.04",
         "42485.37",
         "42677.24"
        ],
        [
         "4",
         "05/19/25",
         "42542.81",
         "42842.04",
         "42337.71",
         "42792.07"
        ],
        [
         "5",
         "05/16/25",
         "42356.2",
         "42663.68",
         "42232.56",
         "42654.74"
        ],
        [
         "6",
         "05/15/25",
         "41777.98",
         "42351.42",
         "41777.98",
         "42322.75"
        ],
        [
         "7",
         "05/14/25",
         "42150.09",
         "42254.75",
         "41952.86",
         "42051.06"
        ],
        [
         "8",
         "05/13/25",
         "42507.33",
         "42507.33",
         "42132.04",
         "42140.43"
        ],
        [
         "9",
         "05/12/25",
         "41899.05",
         "42418.05",
         "41899.05",
         "42410.1"
        ],
        [
         "10",
         "05/09/25",
         "41405.48",
         "41512.43",
         "41150.73",
         "41249.38"
        ],
        [
         "11",
         "05/08/25",
         "41312.57",
         "41773.22",
         "41167.76",
         "41368.45"
        ],
        [
         "12",
         "05/07/25",
         "40956.08",
         "41266.91",
         "40829.29",
         "41113.97"
        ],
        [
         "13",
         "05/06/25",
         "41000.19",
         "41164.33",
         "40759.41",
         "40829.0"
        ],
        [
         "14",
         "05/05/25",
         "41173.38",
         "41445.91",
         "41063.44",
         "41218.83"
        ],
        [
         "15",
         "05/02/25",
         "40960.42",
         "41386.19",
         "40960.42",
         "41317.43"
        ],
        [
         "16",
         "05/01/25",
         "40918.04",
         "41099.52",
         "40705.63",
         "40752.96"
        ],
        [
         "17",
         "04/30/25",
         "40290.41",
         "40777.16",
         "39745.63",
         "40669.36"
        ],
        [
         "18",
         "04/29/25",
         "40233.98",
         "40630.49",
         "40222.18",
         "40527.62"
        ],
        [
         "19",
         "04/28/25",
         "40171.74",
         "40414.18",
         "39869.1",
         "40227.59"
        ],
        [
         "20",
         "04/25/25",
         "40045.73",
         "40137.31",
         "39718.68",
         "40113.5"
        ],
        [
         "21",
         "04/24/25",
         "39531.05",
         "40157.91",
         "39371.87",
         "40093.4"
        ],
        [
         "22",
         "04/23/25",
         "39815.01",
         "40376.11",
         "39487.14",
         "39606.57"
        ],
        [
         "23",
         "04/22/25",
         "38516.23",
         "39272.03",
         "38516.23",
         "39186.98"
        ],
        [
         "24",
         "04/21/25",
         "38906.04",
         "38906.04",
         "37830.66",
         "38170.41"
        ],
        [
         "25",
         "04/17/25",
         "39745.58",
         "39745.58",
         "38950.31",
         "39142.23"
        ],
        [
         "26",
         "04/16/25",
         "40179.49",
         "40416.8",
         "39394.75",
         "39669.39"
        ],
        [
         "27",
         "04/15/25",
         "40527.82",
         "40791.18",
         "40346.94",
         "40368.96"
        ],
        [
         "28",
         "04/14/25",
         "40546.15",
         "40778.29",
         "40159.02",
         "40524.79"
        ],
        [
         "29",
         "04/11/25",
         "39493.42",
         "40404.27",
         "39255.21",
         "40212.71"
        ],
        [
         "30",
         "04/10/25",
         "39996.93",
         "39996.93",
         "38427.7",
         "39593.66"
        ],
        [
         "31",
         "04/09/25",
         "37387.91",
         "40778.7",
         "37275.69",
         "40608.45"
        ],
        [
         "32",
         "04/08/25",
         "38827.1",
         "39426.6",
         "37103.86",
         "37645.59"
        ],
        [
         "33",
         "04/07/25",
         "37879.65",
         "39207.02",
         "36611.78",
         "37965.6"
        ],
        [
         "34",
         "04/04/25",
         "40097.9",
         "40097.9",
         "38264.87",
         "38314.86"
        ],
        [
         "35",
         "04/03/25",
         "40986.52",
         "41173.62",
         "40513.11",
         "40545.93"
        ],
        [
         "36",
         "04/02/25",
         "41736.08",
         "42382.27",
         "41629.7",
         "42225.32"
        ],
        [
         "37",
         "04/01/25",
         "41879.75",
         "42140.66",
         "41519.9",
         "41989.96"
        ],
        [
         "38",
         "03/31/25",
         "41382.52",
         "42147.38",
         "41148.13",
         "42001.76"
        ],
        [
         "39",
         "03/28/25",
         "42245.82",
         "42258.15",
         "41530.0",
         "41583.9"
        ],
        [
         "40",
         "03/27/25",
         "42432.96",
         "42523.84",
         "42142.19",
         "42299.7"
        ],
        [
         "41",
         "03/26/25",
         "42655.85",
         "42821.83",
         "42326.67",
         "42454.79"
        ],
        [
         "42",
         "03/25/25",
         "42635.54",
         "42696.61",
         "42441.83",
         "42587.5"
        ],
        [
         "43",
         "03/24/25",
         "42180.14",
         "42638.85",
         "42180.14",
         "42583.32"
        ],
        [
         "44",
         "03/21/25",
         "41763.4",
         "42011.4",
         "41433.86",
         "41985.35"
        ],
        [
         "45",
         "03/20/25",
         "41795.26",
         "42250.29",
         "41695.61",
         "41953.32"
        ],
        [
         "46",
         "03/19/25",
         "41613.19",
         "42178.41",
         "41613.19",
         "41964.63"
        ],
        [
         "47",
         "03/18/25",
         "41772.91",
         "41787.25",
         "41415.43",
         "41581.31"
        ],
        [
         "48",
         "03/17/25",
         "41460.22",
         "42013.1",
         "41412.75",
         "41841.63"
        ],
        [
         "49",
         "03/14/25",
         "41057.57",
         "41528.11",
         "40929.54",
         "41488.19"
        ]
       ],
       "shape": {
        "columns": 5,
        "rows": 63
       }
      },
      "text/html": [
       "<div>\n",
       "<style scoped>\n",
       "    .dataframe tbody tr th:only-of-type {\n",
       "        vertical-align: middle;\n",
       "    }\n",
       "\n",
       "    .dataframe tbody tr th {\n",
       "        vertical-align: top;\n",
       "    }\n",
       "\n",
       "    .dataframe thead th {\n",
       "        text-align: right;\n",
       "    }\n",
       "</style>\n",
       "<table border=\"1\" class=\"dataframe\">\n",
       "  <thead>\n",
       "    <tr style=\"text-align: right;\">\n",
       "      <th></th>\n",
       "      <th>Date</th>\n",
       "      <th>Open</th>\n",
       "      <th>High</th>\n",
       "      <th>Low</th>\n",
       "      <th>Close</th>\n",
       "    </tr>\n",
       "  </thead>\n",
       "  <tbody>\n",
       "    <tr>\n",
       "      <th>0</th>\n",
       "      <td>05/23/25</td>\n",
       "      <td>41525.70</td>\n",
       "      <td>41788.61</td>\n",
       "      <td>41354.09</td>\n",
       "      <td>41603.07</td>\n",
       "    </tr>\n",
       "    <tr>\n",
       "      <th>1</th>\n",
       "      <td>05/22/25</td>\n",
       "      <td>41763.68</td>\n",
       "      <td>42090.42</td>\n",
       "      <td>41714.43</td>\n",
       "      <td>41859.09</td>\n",
       "    </tr>\n",
       "    <tr>\n",
       "      <th>2</th>\n",
       "      <td>05/21/25</td>\n",
       "      <td>42354.46</td>\n",
       "      <td>42439.27</td>\n",
       "      <td>41785.22</td>\n",
       "      <td>41860.44</td>\n",
       "    </tr>\n",
       "    <tr>\n",
       "      <th>3</th>\n",
       "      <td>05/20/25</td>\n",
       "      <td>42735.11</td>\n",
       "      <td>42800.04</td>\n",
       "      <td>42485.37</td>\n",
       "      <td>42677.24</td>\n",
       "    </tr>\n",
       "    <tr>\n",
       "      <th>4</th>\n",
       "      <td>05/19/25</td>\n",
       "      <td>42542.81</td>\n",
       "      <td>42842.04</td>\n",
       "      <td>42337.71</td>\n",
       "      <td>42792.07</td>\n",
       "    </tr>\n",
       "    <tr>\n",
       "      <th>...</th>\n",
       "      <td>...</td>\n",
       "      <td>...</td>\n",
       "      <td>...</td>\n",
       "      <td>...</td>\n",
       "      <td>...</td>\n",
       "    </tr>\n",
       "    <tr>\n",
       "      <th>58</th>\n",
       "      <td>03/03/25</td>\n",
       "      <td>43900.49</td>\n",
       "      <td>44033.78</td>\n",
       "      <td>42919.31</td>\n",
       "      <td>43191.24</td>\n",
       "    </tr>\n",
       "    <tr>\n",
       "      <th>59</th>\n",
       "      <td>02/28/25</td>\n",
       "      <td>43259.84</td>\n",
       "      <td>43873.55</td>\n",
       "      <td>43100.87</td>\n",
       "      <td>43840.91</td>\n",
       "    </tr>\n",
       "    <tr>\n",
       "      <th>60</th>\n",
       "      <td>02/27/25</td>\n",
       "      <td>43516.44</td>\n",
       "      <td>43884.19</td>\n",
       "      <td>43224.53</td>\n",
       "      <td>43239.50</td>\n",
       "    </tr>\n",
       "    <tr>\n",
       "      <th>61</th>\n",
       "      <td>02/26/25</td>\n",
       "      <td>43635.42</td>\n",
       "      <td>43866.50</td>\n",
       "      <td>43318.93</td>\n",
       "      <td>43433.12</td>\n",
       "    </tr>\n",
       "    <tr>\n",
       "      <th>62</th>\n",
       "      <td>02/25/25</td>\n",
       "      <td>43509.74</td>\n",
       "      <td>43767.74</td>\n",
       "      <td>43282.98</td>\n",
       "      <td>43621.16</td>\n",
       "    </tr>\n",
       "  </tbody>\n",
       "</table>\n",
       "<p>63 rows × 5 columns</p>\n",
       "</div>"
      ],
      "text/plain": [
       "        Date      Open      High       Low     Close\n",
       "0   05/23/25  41525.70  41788.61  41354.09  41603.07\n",
       "1   05/22/25  41763.68  42090.42  41714.43  41859.09\n",
       "2   05/21/25  42354.46  42439.27  41785.22  41860.44\n",
       "3   05/20/25  42735.11  42800.04  42485.37  42677.24\n",
       "4   05/19/25  42542.81  42842.04  42337.71  42792.07\n",
       "..       ...       ...       ...       ...       ...\n",
       "58  03/03/25  43900.49  44033.78  42919.31  43191.24\n",
       "59  02/28/25  43259.84  43873.55  43100.87  43840.91\n",
       "60  02/27/25  43516.44  43884.19  43224.53  43239.50\n",
       "61  02/26/25  43635.42  43866.50  43318.93  43433.12\n",
       "62  02/25/25  43509.74  43767.74  43282.98  43621.16\n",
       "\n",
       "[63 rows x 5 columns]"
      ]
     },
     "execution_count": 25,
     "metadata": {},
     "output_type": "execute_result"
    }
   ],
   "source": [
    "dataset= dataset.rename(columns = {' Open': 'Open', ' High': 'High', ' Low': 'Low', ' Close': 'Close'})\n",
    "dataset"
   ]
  },
  {
   "cell_type": "code",
   "execution_count": 26,
   "id": "9e84435c",
   "metadata": {},
   "outputs": [
    {
     "name": "stderr",
     "output_type": "stream",
     "text": [
      "/var/folders/k5/y70cdbnd4p52p6lw24_rbrl40000gn/T/ipykernel_36918/708788763.py:1: UserWarning: Could not infer format, so each element will be parsed individually, falling back to `dateutil`. To ensure parsing is consistent and as-expected, please specify a format.\n",
      "  dataset['Date'] = pd.to_datetime(dataset['Date'])\n"
     ]
    },
    {
     "data": {
      "application/vnd.microsoft.datawrangler.viewer.v0+json": {
       "columns": [
        {
         "name": "index",
         "rawType": "int64",
         "type": "integer"
        },
        {
         "name": "Date",
         "rawType": "datetime64[ns]",
         "type": "datetime"
        },
        {
         "name": "Open",
         "rawType": "float64",
         "type": "float"
        },
        {
         "name": "High",
         "rawType": "float64",
         "type": "float"
        },
        {
         "name": "Low",
         "rawType": "float64",
         "type": "float"
        },
        {
         "name": "Close",
         "rawType": "float64",
         "type": "float"
        }
       ],
       "ref": "5595ed5d-c070-4963-9505-9fcf0ffd3891",
       "rows": [
        [
         "0",
         "2025-05-23 00:00:00",
         "41525.7",
         "41788.61",
         "41354.09",
         "41603.07"
        ],
        [
         "1",
         "2025-05-22 00:00:00",
         "41763.68",
         "42090.42",
         "41714.43",
         "41859.09"
        ],
        [
         "2",
         "2025-05-21 00:00:00",
         "42354.46",
         "42439.27",
         "41785.22",
         "41860.44"
        ],
        [
         "3",
         "2025-05-20 00:00:00",
         "42735.11",
         "42800.04",
         "42485.37",
         "42677.24"
        ],
        [
         "4",
         "2025-05-19 00:00:00",
         "42542.81",
         "42842.04",
         "42337.71",
         "42792.07"
        ],
        [
         "5",
         "2025-05-16 00:00:00",
         "42356.2",
         "42663.68",
         "42232.56",
         "42654.74"
        ],
        [
         "6",
         "2025-05-15 00:00:00",
         "41777.98",
         "42351.42",
         "41777.98",
         "42322.75"
        ],
        [
         "7",
         "2025-05-14 00:00:00",
         "42150.09",
         "42254.75",
         "41952.86",
         "42051.06"
        ],
        [
         "8",
         "2025-05-13 00:00:00",
         "42507.33",
         "42507.33",
         "42132.04",
         "42140.43"
        ],
        [
         "9",
         "2025-05-12 00:00:00",
         "41899.05",
         "42418.05",
         "41899.05",
         "42410.1"
        ],
        [
         "10",
         "2025-05-09 00:00:00",
         "41405.48",
         "41512.43",
         "41150.73",
         "41249.38"
        ],
        [
         "11",
         "2025-05-08 00:00:00",
         "41312.57",
         "41773.22",
         "41167.76",
         "41368.45"
        ],
        [
         "12",
         "2025-05-07 00:00:00",
         "40956.08",
         "41266.91",
         "40829.29",
         "41113.97"
        ],
        [
         "13",
         "2025-05-06 00:00:00",
         "41000.19",
         "41164.33",
         "40759.41",
         "40829.0"
        ],
        [
         "14",
         "2025-05-05 00:00:00",
         "41173.38",
         "41445.91",
         "41063.44",
         "41218.83"
        ],
        [
         "15",
         "2025-05-02 00:00:00",
         "40960.42",
         "41386.19",
         "40960.42",
         "41317.43"
        ],
        [
         "16",
         "2025-05-01 00:00:00",
         "40918.04",
         "41099.52",
         "40705.63",
         "40752.96"
        ],
        [
         "17",
         "2025-04-30 00:00:00",
         "40290.41",
         "40777.16",
         "39745.63",
         "40669.36"
        ],
        [
         "18",
         "2025-04-29 00:00:00",
         "40233.98",
         "40630.49",
         "40222.18",
         "40527.62"
        ],
        [
         "19",
         "2025-04-28 00:00:00",
         "40171.74",
         "40414.18",
         "39869.1",
         "40227.59"
        ],
        [
         "20",
         "2025-04-25 00:00:00",
         "40045.73",
         "40137.31",
         "39718.68",
         "40113.5"
        ],
        [
         "21",
         "2025-04-24 00:00:00",
         "39531.05",
         "40157.91",
         "39371.87",
         "40093.4"
        ],
        [
         "22",
         "2025-04-23 00:00:00",
         "39815.01",
         "40376.11",
         "39487.14",
         "39606.57"
        ],
        [
         "23",
         "2025-04-22 00:00:00",
         "38516.23",
         "39272.03",
         "38516.23",
         "39186.98"
        ],
        [
         "24",
         "2025-04-21 00:00:00",
         "38906.04",
         "38906.04",
         "37830.66",
         "38170.41"
        ],
        [
         "25",
         "2025-04-17 00:00:00",
         "39745.58",
         "39745.58",
         "38950.31",
         "39142.23"
        ],
        [
         "26",
         "2025-04-16 00:00:00",
         "40179.49",
         "40416.8",
         "39394.75",
         "39669.39"
        ],
        [
         "27",
         "2025-04-15 00:00:00",
         "40527.82",
         "40791.18",
         "40346.94",
         "40368.96"
        ],
        [
         "28",
         "2025-04-14 00:00:00",
         "40546.15",
         "40778.29",
         "40159.02",
         "40524.79"
        ],
        [
         "29",
         "2025-04-11 00:00:00",
         "39493.42",
         "40404.27",
         "39255.21",
         "40212.71"
        ],
        [
         "30",
         "2025-04-10 00:00:00",
         "39996.93",
         "39996.93",
         "38427.7",
         "39593.66"
        ],
        [
         "31",
         "2025-04-09 00:00:00",
         "37387.91",
         "40778.7",
         "37275.69",
         "40608.45"
        ],
        [
         "32",
         "2025-04-08 00:00:00",
         "38827.1",
         "39426.6",
         "37103.86",
         "37645.59"
        ],
        [
         "33",
         "2025-04-07 00:00:00",
         "37879.65",
         "39207.02",
         "36611.78",
         "37965.6"
        ],
        [
         "34",
         "2025-04-04 00:00:00",
         "40097.9",
         "40097.9",
         "38264.87",
         "38314.86"
        ],
        [
         "35",
         "2025-04-03 00:00:00",
         "40986.52",
         "41173.62",
         "40513.11",
         "40545.93"
        ],
        [
         "36",
         "2025-04-02 00:00:00",
         "41736.08",
         "42382.27",
         "41629.7",
         "42225.32"
        ],
        [
         "37",
         "2025-04-01 00:00:00",
         "41879.75",
         "42140.66",
         "41519.9",
         "41989.96"
        ],
        [
         "38",
         "2025-03-31 00:00:00",
         "41382.52",
         "42147.38",
         "41148.13",
         "42001.76"
        ],
        [
         "39",
         "2025-03-28 00:00:00",
         "42245.82",
         "42258.15",
         "41530.0",
         "41583.9"
        ],
        [
         "40",
         "2025-03-27 00:00:00",
         "42432.96",
         "42523.84",
         "42142.19",
         "42299.7"
        ],
        [
         "41",
         "2025-03-26 00:00:00",
         "42655.85",
         "42821.83",
         "42326.67",
         "42454.79"
        ],
        [
         "42",
         "2025-03-25 00:00:00",
         "42635.54",
         "42696.61",
         "42441.83",
         "42587.5"
        ],
        [
         "43",
         "2025-03-24 00:00:00",
         "42180.14",
         "42638.85",
         "42180.14",
         "42583.32"
        ],
        [
         "44",
         "2025-03-21 00:00:00",
         "41763.4",
         "42011.4",
         "41433.86",
         "41985.35"
        ],
        [
         "45",
         "2025-03-20 00:00:00",
         "41795.26",
         "42250.29",
         "41695.61",
         "41953.32"
        ],
        [
         "46",
         "2025-03-19 00:00:00",
         "41613.19",
         "42178.41",
         "41613.19",
         "41964.63"
        ],
        [
         "47",
         "2025-03-18 00:00:00",
         "41772.91",
         "41787.25",
         "41415.43",
         "41581.31"
        ],
        [
         "48",
         "2025-03-17 00:00:00",
         "41460.22",
         "42013.1",
         "41412.75",
         "41841.63"
        ],
        [
         "49",
         "2025-03-14 00:00:00",
         "41057.57",
         "41528.11",
         "40929.54",
         "41488.19"
        ]
       ],
       "shape": {
        "columns": 5,
        "rows": 63
       }
      },
      "text/html": [
       "<div>\n",
       "<style scoped>\n",
       "    .dataframe tbody tr th:only-of-type {\n",
       "        vertical-align: middle;\n",
       "    }\n",
       "\n",
       "    .dataframe tbody tr th {\n",
       "        vertical-align: top;\n",
       "    }\n",
       "\n",
       "    .dataframe thead th {\n",
       "        text-align: right;\n",
       "    }\n",
       "</style>\n",
       "<table border=\"1\" class=\"dataframe\">\n",
       "  <thead>\n",
       "    <tr style=\"text-align: right;\">\n",
       "      <th></th>\n",
       "      <th>Date</th>\n",
       "      <th>Open</th>\n",
       "      <th>High</th>\n",
       "      <th>Low</th>\n",
       "      <th>Close</th>\n",
       "    </tr>\n",
       "  </thead>\n",
       "  <tbody>\n",
       "    <tr>\n",
       "      <th>0</th>\n",
       "      <td>2025-05-23</td>\n",
       "      <td>41525.70</td>\n",
       "      <td>41788.61</td>\n",
       "      <td>41354.09</td>\n",
       "      <td>41603.07</td>\n",
       "    </tr>\n",
       "    <tr>\n",
       "      <th>1</th>\n",
       "      <td>2025-05-22</td>\n",
       "      <td>41763.68</td>\n",
       "      <td>42090.42</td>\n",
       "      <td>41714.43</td>\n",
       "      <td>41859.09</td>\n",
       "    </tr>\n",
       "    <tr>\n",
       "      <th>2</th>\n",
       "      <td>2025-05-21</td>\n",
       "      <td>42354.46</td>\n",
       "      <td>42439.27</td>\n",
       "      <td>41785.22</td>\n",
       "      <td>41860.44</td>\n",
       "    </tr>\n",
       "    <tr>\n",
       "      <th>3</th>\n",
       "      <td>2025-05-20</td>\n",
       "      <td>42735.11</td>\n",
       "      <td>42800.04</td>\n",
       "      <td>42485.37</td>\n",
       "      <td>42677.24</td>\n",
       "    </tr>\n",
       "    <tr>\n",
       "      <th>4</th>\n",
       "      <td>2025-05-19</td>\n",
       "      <td>42542.81</td>\n",
       "      <td>42842.04</td>\n",
       "      <td>42337.71</td>\n",
       "      <td>42792.07</td>\n",
       "    </tr>\n",
       "    <tr>\n",
       "      <th>...</th>\n",
       "      <td>...</td>\n",
       "      <td>...</td>\n",
       "      <td>...</td>\n",
       "      <td>...</td>\n",
       "      <td>...</td>\n",
       "    </tr>\n",
       "    <tr>\n",
       "      <th>58</th>\n",
       "      <td>2025-03-03</td>\n",
       "      <td>43900.49</td>\n",
       "      <td>44033.78</td>\n",
       "      <td>42919.31</td>\n",
       "      <td>43191.24</td>\n",
       "    </tr>\n",
       "    <tr>\n",
       "      <th>59</th>\n",
       "      <td>2025-02-28</td>\n",
       "      <td>43259.84</td>\n",
       "      <td>43873.55</td>\n",
       "      <td>43100.87</td>\n",
       "      <td>43840.91</td>\n",
       "    </tr>\n",
       "    <tr>\n",
       "      <th>60</th>\n",
       "      <td>2025-02-27</td>\n",
       "      <td>43516.44</td>\n",
       "      <td>43884.19</td>\n",
       "      <td>43224.53</td>\n",
       "      <td>43239.50</td>\n",
       "    </tr>\n",
       "    <tr>\n",
       "      <th>61</th>\n",
       "      <td>2025-02-26</td>\n",
       "      <td>43635.42</td>\n",
       "      <td>43866.50</td>\n",
       "      <td>43318.93</td>\n",
       "      <td>43433.12</td>\n",
       "    </tr>\n",
       "    <tr>\n",
       "      <th>62</th>\n",
       "      <td>2025-02-25</td>\n",
       "      <td>43509.74</td>\n",
       "      <td>43767.74</td>\n",
       "      <td>43282.98</td>\n",
       "      <td>43621.16</td>\n",
       "    </tr>\n",
       "  </tbody>\n",
       "</table>\n",
       "<p>63 rows × 5 columns</p>\n",
       "</div>"
      ],
      "text/plain": [
       "         Date      Open      High       Low     Close\n",
       "0  2025-05-23  41525.70  41788.61  41354.09  41603.07\n",
       "1  2025-05-22  41763.68  42090.42  41714.43  41859.09\n",
       "2  2025-05-21  42354.46  42439.27  41785.22  41860.44\n",
       "3  2025-05-20  42735.11  42800.04  42485.37  42677.24\n",
       "4  2025-05-19  42542.81  42842.04  42337.71  42792.07\n",
       "..        ...       ...       ...       ...       ...\n",
       "58 2025-03-03  43900.49  44033.78  42919.31  43191.24\n",
       "59 2025-02-28  43259.84  43873.55  43100.87  43840.91\n",
       "60 2025-02-27  43516.44  43884.19  43224.53  43239.50\n",
       "61 2025-02-26  43635.42  43866.50  43318.93  43433.12\n",
       "62 2025-02-25  43509.74  43767.74  43282.98  43621.16\n",
       "\n",
       "[63 rows x 5 columns]"
      ]
     },
     "execution_count": 26,
     "metadata": {},
     "output_type": "execute_result"
    }
   ],
   "source": [
    "dataset['Date'] = pd.to_datetime(dataset['Date'])\n",
    "\n",
    "dataset = dataset.sort_values(by = 'Date', ascending = [False])\n",
    "\n",
    "dataset"
   ]
  },
  {
   "cell_type": "markdown",
   "id": "d12a2730",
   "metadata": {},
   "source": [
    "# Drawing Line Plots\n"
   ]
  },
  {
   "cell_type": "markdown",
   "id": "64e3de61",
   "metadata": {},
   "source": [
    "### Line Plots with single Line"
   ]
  },
  {
   "cell_type": "code",
   "execution_count": 27,
   "id": "b4cd7818",
   "metadata": {},
   "outputs": [
    {
     "data": {
      "image/png": "[encoded data removed]",
      "text/plain": [
       "<Figure size 640x480 with 1 Axes>"
      ]
     },
     "metadata": {},
     "output_type": "display_data"
    }
   ],
   "source": [
    "plt.plot(dataset['Date'], dataset['Close'])\n",
    "plt.show()"
   ]
  },
  {
   "cell_type": "markdown",
   "id": "141511fe",
   "metadata": {},
   "source": [
    "### Line Plots with Multiple Lines"
   ]
  },
  {
   "cell_type": "code",
   "execution_count": 31,
   "id": "a9f7c137",
   "metadata": {},
   "outputs": [
    {
     "data": {
      "image/png": "[encoded data removed]",
      "text/plain": [
       "<Figure size 640x480 with 1 Axes>"
      ]
     },
     "metadata": {},
     "output_type": "display_data"
    }
   ],
   "source": [
    "plt.plot(dataset['Date'], dataset['Close'], label = 'Close')\n",
    "plt.plot(dataset['Date'], dataset['Open'], label = 'Open')\n",
    "plt.legend()\n",
    "plt.show()\n"
   ]
  },
  {
   "cell_type": "markdown",
   "id": "55e5869b",
   "metadata": {},
   "source": [
    "## Drawing Bar Plot"
   ]
  },
  {
   "cell_type": "code",
   "execution_count": 50,
   "id": "7baa4795",
   "metadata": {},
   "outputs": [
    {
     "name": "stderr",
     "output_type": "stream",
     "text": [
      "/var/folders/k5/y70cdbnd4p52p6lw24_rbrl40000gn/T/ipykernel_36918/3095826170.py:7: FutureWarning: The default of observed=False is deprecated and will be changed to True in a future version of pandas. Pass observed=False to retain current behavior or observed=True to adopt the future default and silence this warning.\n",
      "  dataset_monthly_mean = dataset.groupby('Month')[dataset.select_dtypes(include = 'number').columns] \\\n"
     ]
    },
    {
     "data": {
      "image/png": "[encoded data removed]",
      "text/plain": [
       "<Figure size 640x480 with 1 Axes>"
      ]
     },
     "metadata": {},
     "output_type": "display_data"
    }
   ],
   "source": [
    "from calendar import month_name\n",
    "\n",
    "months = list(month_name[1:])\n",
    "\n",
    "dataset['Month'] = pd.Categorical(dataset['Date'].dt.month_name(),categories = months, ordered = True)\n",
    "\n",
    "dataset_monthly_mean = dataset.groupby('Month')[dataset.select_dtypes(include = 'number').columns] \\\n",
    "                                .mean() \\\n",
    "                                .reset_index()\n",
    "\n",
    "\n",
    "dataset_monthly_mean.head(6)\n",
    "\n",
    "plt.bar(dataset['Month'], height = dataset['Close'])\n",
    "\n",
    "plt.show()"
   ]
  }
 ],
 "metadata": {
  "kernelspec": {
   "display_name": "Python 3",
   "language": "python",
   "name": "python3"
  },
  "language_info": {
   "codemirror_mode": {
    "name": "ipython",
    "version": 3
   },
   "file_extension": ".py",
   "mimetype": "text/x-python",
   "name": "python",
   "nbconvert_exporter": "python",
   "pygments_lexer": "ipython3",
   "version": "3.11.11"
  }
 },
 "nbformat": 4,
 "nbformat_minor": 5
}
