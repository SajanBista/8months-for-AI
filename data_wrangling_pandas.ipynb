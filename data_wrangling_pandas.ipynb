{
 "cells": [
  {
   "cell_type": "markdown",
   "id": "2331e082",
   "metadata": {},
   "source": [
    "Installing pandas"
   ]
  },
  {
   "cell_type": "code",
   "execution_count": 3,
   "id": "677a5b59",
   "metadata": {},
   "outputs": [
    {
     "name": "stdout",
     "output_type": "stream",
     "text": [
      "Requirement already satisfied: pandas in /Library/Frameworks/Python.framework/Versions/3.12/lib/python3.12/site-packages (2.2.3)\n",
      "Requirement already satisfied: numpy>=1.26.0 in /Library/Frameworks/Python.framework/Versions/3.12/lib/python3.12/site-packages (from pandas) (1.26.4)\n",
      "Requirement already satisfied: python-dateutil>=2.8.2 in /Library/Frameworks/Python.framework/Versions/3.12/lib/python3.12/site-packages (from pandas) (2.9.0.post0)\n",
      "Requirement already satisfied: pytz>=2020.1 in /Library/Frameworks/Python.framework/Versions/3.12/lib/python3.12/site-packages (from pandas) (2024.2)\n",
      "Requirement already satisfied: tzdata>=2022.7 in /Library/Frameworks/Python.framework/Versions/3.12/lib/python3.12/site-packages (from pandas) (2024.1)\n",
      "Requirement already satisfied: six>=1.5 in /Library/Frameworks/Python.framework/Versions/3.12/lib/python3.12/site-packages (from python-dateutil>=2.8.2->pandas) (1.16.0)\n",
      "Note: you may need to restart the kernel to use updated packages.\n"
     ]
    }
   ],
   "source": [
    "pip install pandas\n"
   ]
  },
  {
   "cell_type": "markdown",
   "id": "171f1346",
   "metadata": {},
   "source": [
    "importing pandas"
   ]
  },
  {
   "cell_type": "code",
   "execution_count": 5,
   "id": "2fd3dfe0",
   "metadata": {},
   "outputs": [
    {
     "name": "stdout",
     "output_type": "stream",
     "text": [
      "2.2.3\n",
      "1.26.4\n"
     ]
    }
   ],
   "source": [
    "import pandas as pd\n",
    "import numpy as np\n",
    "\n",
    "#checking version i was having trouble because of multiple version.\n",
    "print(pd.__version__)\n",
    "print(np.__version__)\n",
    "\n",
    "pd.set_option('display.max_columns', 50)\n",
    "\n"
   ]
  },
  {
   "cell_type": "markdown",
   "id": "b4ad707f",
   "metadata": {},
   "source": [
    "Creating series and pandas data frame"
   ]
  },
  {
   "cell_type": "markdown",
   "id": "1dba7347",
   "metadata": {},
   "source": [
    "1. Creating series"
   ]
  },
  {
   "cell_type": "code",
   "execution_count": null,
   "id": "72d50c13",
   "metadata": {},
   "outputs": [],
   "source": []
  }
 ],
 "metadata": {
  "kernelspec": {
   "display_name": "Python 3",
   "language": "python",
   "name": "python3"
  },
  "language_info": {
   "codemirror_mode": {
    "name": "ipython",
    "version": 3
   },
   "file_extension": ".py",
   "mimetype": "text/x-python",
   "name": "python",
   "nbconvert_exporter": "python",
   "pygments_lexer": "ipython3",
   "version": "3.12.5"
  }
 },
 "nbformat": 4,
 "nbformat_minor": 5
}
