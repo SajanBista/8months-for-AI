{
 "cells": [
  {
   "cell_type": "markdown",
   "id": "2e12ab8d",
   "metadata": {},
   "source": [
    "Importing the necessary libraries for both linear regression and asynchronous"
   ]
  },
  {
   "cell_type": "code",
   "execution_count": 14,
   "id": "c317bd62",
   "metadata": {},
   "outputs": [],
   "source": [
    "import numpy as np\n",
    "import pandas as pd\n",
    "from sklearn.linear_model import LinearRegression\n",
    "from sklearn.preprocessing import PolynomialFeatures\n",
    "from sklearn.model_selection import train_test_split\n",
    "import concurrent.futures"
   ]
  },
  {
   "cell_type": "markdown",
   "id": "1594ca61",
   "metadata": {},
   "source": [
    "Load the dataset"
   ]
  },
  {
   "cell_type": "code",
   "execution_count": 15,
   "id": "017493d4",
   "metadata": {},
   "outputs": [],
   "source": [
    "dataset = pd.read_csv('Position_Salaries.csv')\n",
    "X = dataset.iloc[:, 1:-1].values\n",
    "y = dataset.iloc[:, -1].values"
   ]
  },
  {
   "cell_type": "markdown",
   "id": "89f8be57",
   "metadata": {},
   "source": [
    "Split data into training and testing sets"
   ]
  },
  {
   "cell_type": "code",
   "execution_count": 16,
   "id": "08c937d6",
   "metadata": {},
   "outputs": [],
   "source": [
    "X_train, X_test, y_train, y_test = train_test_split(X, y, test_size=0.2, random_state=42)"
   ]
  },
  {
   "cell_type": "markdown",
   "id": "93b9b920",
   "metadata": {},
   "source": [
    "Model training and Evaluating  on the test set"
   ]
  },
  {
   "cell_type": "code",
   "execution_count": 17,
   "id": "d2949a9b",
   "metadata": {},
   "outputs": [],
   "source": [
    "def train_polynomial_regression(degree):\n",
    "    \"\"\"Trains a Polynomial Regression model with the given degree.\"\"\"\n",
    "    poly_features = PolynomialFeatures(degree=degree)\n",
    "    X_poly_train = poly_features.fit_transform(X_train)\n",
    "    \n",
    "    model = LinearRegression()\n",
    "    model.fit(X_poly_train, y_train)\n",
    "    \n",
    "    \n",
    "    X_poly_test = poly_features.transform(X_test)# Evaluating on the test set\n",
    "    score = model.score(X_poly_test, y_test)\n",
    "    \n",
    "    return degree, model, poly_features, score"
   ]
  },
  {
   "cell_type": "markdown",
   "id": "67329751",
   "metadata": {},
   "source": [
    "Trying different polynomial degree\n",
    "\n",
    "Using ThreadPollExecutor to train models in parallel\n",
    "\n",
    "Collecting the result when they became abailable\n",
    "\n",
    "finding the best model based on there score \n",
    "\n",
    "Also predicting the results with best model \n",
    "\n",
    "Here i predicted for level 6.5\n"
   ]
  },
  {
   "cell_type": "code",
   "execution_count": 18,
   "id": "f66ea127",
   "metadata": {},
   "outputs": [
    {
     "name": "stdout",
     "output_type": "stream",
     "text": [
      "Polynomial Regression with degree 3 trained. Score: 0.8762695647830158\n",
      "Polynomial Regression with degree 2 trained. Score: 0.7666492889299886\n",
      "Polynomial Regression with degree 4 trained. Score: 0.9714666803843642\n",
      "Polynomial Regression with degree 5 trained. Score: 0.9950481764354088\n",
      "Best degree: 5, Best score: 0.9950481764354088\n",
      "Predicted salary for level 6.5: 171803.58\n"
     ]
    }
   ],
   "source": [
    "if __name__ == '__main__':\n",
    "    degrees = [2, 3, 4, 5]  \n",
    "    \n",
    "    # Use a ThreadPoolExecutor \n",
    "    with concurrent.futures.ThreadPoolExecutor() as executor:\n",
    "        futures = [executor.submit(train_polynomial_regression, degree) for degree in degrees]\n",
    "        \n",
    "        # Collect the results as they become available\n",
    "        results = []\n",
    "        for future in concurrent.futures.as_completed(futures):\n",
    "            try:\n",
    "                degree, model, poly_features, score = future.result()\n",
    "                results.append((degree, model, poly_features, score))\n",
    "                print(f\"Polynomial Regression with degree {degree} trained. Score: {score}\")\n",
    "            except Exception as e:\n",
    "                print(f\"Error training model: {e}\")\n",
    "    \n",
    "    # finding the best model based on the score\n",
    "    best_degree, best_model, best_poly_features, best_score = max(results, key=lambda x: x[3])\n",
    "    print(f\"Best degree: {best_degree}, Best score: {best_score}\")\n",
    "\n",
    "    # making predictions of salary  using the best model for level 6.5\n",
    "    new_level = np.array([[6.5]])\n",
    "    new_level_poly = best_poly_features.transform(new_level)\n",
    "    predicted_salary = best_model.predict(new_level_poly)\n",
    "    print(f\"Predicted salary for level 6.5: {predicted_salary[0]:.2f}\")"
   ]
  },
  {
   "cell_type": "markdown",
   "id": "f212f200",
   "metadata": {},
   "source": []
  }
 ],
 "metadata": {
  "kernelspec": {
   "display_name": "Python 3",
   "language": "python",
   "name": "python3"
  },
  "language_info": {
   "codemirror_mode": {
    "name": "ipython",
    "version": 3
   },
   "file_extension": ".py",
   "mimetype": "text/x-python",
   "name": "python",
   "nbconvert_exporter": "python",
   "pygments_lexer": "ipython3",
   "version": "3.12.5"
  }
 },
 "nbformat": 4,
 "nbformat_minor": 5
}
