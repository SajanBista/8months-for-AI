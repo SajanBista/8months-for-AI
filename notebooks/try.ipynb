{
 "cells": [
  {
   "cell_type": "code",
   "execution_count": 2,
   "id": "12361ba7",
   "metadata": {},
   "outputs": [
    {
     "name": "stdout",
     "output_type": "stream",
     "text": [
      "item1\n",
      "item2\n",
      "item3\n",
      "after removing:\n",
      "item1\n",
      "item3\n",
      "after clearing:\n"
     ]
    }
   ],
   "source": [
    "class Data:\n",
    "    def __init__(self):\n",
    "        self.items = []\n",
    "\n",
    "    def ad(self, x):\n",
    "        self.items.append(x)\n",
    "\n",
    "    def rm(self, x):\n",
    "        self.items.remove(x)\n",
    "\n",
    "    def gt(self):\n",
    "        return self.items\n",
    "\n",
    "    def pr(self):\n",
    "        for i in self.items:\n",
    "            print(i)\n",
    "\n",
    "    def cl(self):\n",
    "        self.items = []\n",
    "\n",
    "\n",
    "d = Data()\n",
    "d.ad(\"item1\")\n",
    "d.ad(\"item2\")\n",
    "d.ad(\"item3\")\n",
    "d.pr()\n",
    "d.rm(\"item2\")\n",
    "print(\"after removing:\")\n",
    "d.pr()\n",
    "d.cl()\n",
    "print(\"after clearing:\")\n",
    "d.pr()\n"
   ]
  },
  {
   "cell_type": "code",
   "execution_count": null,
   "id": "01e8a804",
   "metadata": {},
   "outputs": [],
   "source": []
  }
 ],
 "metadata": {
  "kernelspec": {
   "display_name": ".venv",
   "language": "python",
   "name": "python3"
  },
  "language_info": {
   "codemirror_mode": {
    "name": "ipython",
    "version": 3
   },
   "file_extension": ".py",
   "mimetype": "text/x-python",
   "name": "python",
   "nbconvert_exporter": "python",
   "pygments_lexer": "ipython3",
   "version": "3.12.5"
  }
 },
 "nbformat": 4,
 "nbformat_minor": 5
}
